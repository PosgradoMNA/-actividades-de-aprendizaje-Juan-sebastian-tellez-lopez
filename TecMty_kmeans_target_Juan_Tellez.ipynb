{
  "nbformat": 4,
  "nbformat_minor": 0,
  "metadata": {
    "colab": {
      "provenance": [],
      "collapsed_sections": [
        "Ci27HSE4aVtk"
      ],
      "include_colab_link": true
    },
    "kernelspec": {
      "name": "python3",
      "display_name": "Python 3"
    },
    "language_info": {
      "name": "python"
    }
  },
  "cells": [
    {
      "cell_type": "markdown",
      "metadata": {
        "id": "view-in-github",
        "colab_type": "text"
      },
      "source": [
        "<a href=\"https://colab.research.google.com/github/PosgradoMNA/Actividades-de-aprendizaje-Juan-sebastian-tellez-lopez/blob/main/TecMty_kmeans_target_Juan_Tellez.ipynb\" target=\"_parent\"><img src=\"https://colab.research.google.com/assets/colab-badge.svg\" alt=\"Open In Colab\"/></a>"
      ]
    },
    {
      "cell_type": "markdown",
      "source": [
        "**Actividad caso TARGET de la semana 7**\n",
        "\n",
        "**Maestría en Inteligencia Artificial Aplicada**\n",
        "\n",
        "**Curso: Ciencia y analítica de datos**\n",
        "\n",
        "**Tecnológico de Monterrey**\n",
        "\n",
        "**Prof Maria de la Paz Rico Fdz** \n",
        "\n",
        "**Nombre del estudiante: Juan Sebastián Téllez López**\n",
        "\n",
        "**Matrícula: A01793859** \n",
        "\n",
        "**Fecha: Noviembre 5/2022**"
      ],
      "metadata": {
        "id": "88GCsn4cWA4P"
      }
    },
    {
      "cell_type": "markdown",
      "source": [
        "Este notebook se basa en información de target\n",
        "![imagen.png](https://www.america-retail.com/static//2020/12/target01.jpg)\n",
        "\n",
        "\n",
        "Ahora imagina que somos parte del equipo de data science de la empresa Target, una de las tiendas con mayor presencia en Estados Unidos. El departamento de logistica acude a nosotros para saber donde le conviene poner sus almacenes, para que se optimice el gasto de gasolina, los tiempos de entrega de los productos y se disminuyan costos. Para ello, nos pasan los datos de latitud y longitud de cada una de las tiendas.\n",
        "\n",
        "https://www.kaggle.com/datasets/saejinmahlauheinert/target-store-locations?select=target-locations.csv\n",
        "\n",
        "Si quieres saber un poco más de graficas geográficas consulta el siguiente notebook\n",
        "https://colab.research.google.com/github/QuantEcon/quantecon-notebooks-datascience/blob/master/applications/maps.ipynb#scrollTo=uo2oPtSCeAOz"
      ],
      "metadata": {
        "id": "6mUW5QNwhz5T"
      }
    },
    {
      "cell_type": "code",
      "source": [
        "! pip install qeds fiona geopandas xgboost gensim folium pyLDAvis descartes"
      ],
      "metadata": {
        "colab": {
          "base_uri": "https://localhost:8080/"
        },
        "id": "YwkfEqinwESD",
        "outputId": "878423b8-b20a-4496-87ce-6345e8c8d39d"
      },
      "execution_count": null,
      "outputs": [
        {
          "output_type": "stream",
          "name": "stdout",
          "text": [
            "Looking in indexes: https://pypi.org/simple, https://us-python.pkg.dev/colab-wheels/public/simple/\n",
            "Collecting qeds\n",
            "  Downloading qeds-0.7.0.tar.gz (24 kB)\n",
            "Collecting fiona\n",
            "  Downloading Fiona-1.8.22-cp37-cp37m-manylinux2014_x86_64.whl (16.7 MB)\n",
            "\u001b[K     |████████████████████████████████| 16.7 MB 2.2 MB/s \n",
            "\u001b[?25hCollecting geopandas\n",
            "  Downloading geopandas-0.10.2-py2.py3-none-any.whl (1.0 MB)\n",
            "\u001b[K     |████████████████████████████████| 1.0 MB 44.3 MB/s \n",
            "\u001b[?25hRequirement already satisfied: xgboost in /usr/local/lib/python3.7/dist-packages (0.90)\n",
            "Requirement already satisfied: gensim in /usr/local/lib/python3.7/dist-packages (3.6.0)\n",
            "Requirement already satisfied: folium in /usr/local/lib/python3.7/dist-packages (0.12.1.post1)\n",
            "Collecting pyLDAvis\n",
            "  Downloading pyLDAvis-3.3.1.tar.gz (1.7 MB)\n",
            "\u001b[K     |████████████████████████████████| 1.7 MB 40.5 MB/s \n",
            "\u001b[?25h  Installing build dependencies ... \u001b[?25l\u001b[?25hdone\n",
            "  Getting requirements to build wheel ... \u001b[?25l\u001b[?25hdone\n",
            "  Installing backend dependencies ... \u001b[?25l\u001b[?25hdone\n",
            "    Preparing wheel metadata ... \u001b[?25l\u001b[?25hdone\n",
            "Requirement already satisfied: descartes in /usr/local/lib/python3.7/dist-packages (1.1.0)\n",
            "Requirement already satisfied: pandas in /usr/local/lib/python3.7/dist-packages (from qeds) (1.3.5)\n",
            "Requirement already satisfied: requests in /usr/local/lib/python3.7/dist-packages (from qeds) (2.23.0)\n",
            "Collecting quandl\n",
            "  Downloading Quandl-3.7.0-py2.py3-none-any.whl (26 kB)\n",
            "Requirement already satisfied: scipy in /usr/local/lib/python3.7/dist-packages (from qeds) (1.7.3)\n",
            "Requirement already satisfied: numpy in /usr/local/lib/python3.7/dist-packages (from qeds) (1.21.6)\n",
            "Collecting quantecon\n",
            "  Downloading quantecon-0.5.3-py3-none-any.whl (179 kB)\n",
            "\u001b[K     |████████████████████████████████| 179 kB 46.7 MB/s \n",
            "\u001b[?25hRequirement already satisfied: matplotlib in /usr/local/lib/python3.7/dist-packages (from qeds) (3.2.2)\n",
            "Requirement already satisfied: pyarrow in /usr/local/lib/python3.7/dist-packages (from qeds) (6.0.1)\n",
            "Requirement already satisfied: openpyxl in /usr/local/lib/python3.7/dist-packages (from qeds) (3.0.10)\n",
            "Requirement already satisfied: plotly in /usr/local/lib/python3.7/dist-packages (from qeds) (5.5.0)\n",
            "Requirement already satisfied: pandas_datareader in /usr/local/lib/python3.7/dist-packages (from qeds) (0.9.0)\n",
            "Requirement already satisfied: scikit-learn in /usr/local/lib/python3.7/dist-packages (from qeds) (1.0.2)\n",
            "Requirement already satisfied: seaborn in /usr/local/lib/python3.7/dist-packages (from qeds) (0.11.2)\n",
            "Requirement already satisfied: statsmodels in /usr/local/lib/python3.7/dist-packages (from qeds) (0.12.2)\n",
            "Collecting cligj>=0.5\n",
            "  Downloading cligj-0.7.2-py3-none-any.whl (7.1 kB)\n",
            "Requirement already satisfied: setuptools in /usr/local/lib/python3.7/dist-packages (from fiona) (57.4.0)\n",
            "Collecting click-plugins>=1.0\n",
            "  Downloading click_plugins-1.1.1-py2.py3-none-any.whl (7.5 kB)\n",
            "Requirement already satisfied: attrs>=17 in /usr/local/lib/python3.7/dist-packages (from fiona) (22.1.0)\n",
            "Requirement already satisfied: click>=4.0 in /usr/local/lib/python3.7/dist-packages (from fiona) (7.1.2)\n",
            "Requirement already satisfied: six>=1.7 in /usr/local/lib/python3.7/dist-packages (from fiona) (1.15.0)\n",
            "Collecting munch\n",
            "  Downloading munch-2.5.0-py2.py3-none-any.whl (10 kB)\n",
            "Requirement already satisfied: certifi in /usr/local/lib/python3.7/dist-packages (from fiona) (2022.9.24)\n",
            "Requirement already satisfied: shapely>=1.6 in /usr/local/lib/python3.7/dist-packages (from geopandas) (1.8.5.post1)\n",
            "Collecting pyproj>=2.2.0\n",
            "  Downloading pyproj-3.2.1-cp37-cp37m-manylinux2010_x86_64.whl (6.3 MB)\n",
            "\u001b[K     |████████████████████████████████| 6.3 MB 47.1 MB/s \n",
            "\u001b[?25hRequirement already satisfied: pytz>=2017.3 in /usr/local/lib/python3.7/dist-packages (from pandas->qeds) (2022.5)\n",
            "Requirement already satisfied: python-dateutil>=2.7.3 in /usr/local/lib/python3.7/dist-packages (from pandas->qeds) (2.8.2)\n",
            "Requirement already satisfied: smart-open>=1.2.1 in /usr/local/lib/python3.7/dist-packages (from gensim) (5.2.1)\n",
            "Requirement already satisfied: branca>=0.3.0 in /usr/local/lib/python3.7/dist-packages (from folium) (0.5.0)\n",
            "Requirement already satisfied: jinja2>=2.9 in /usr/local/lib/python3.7/dist-packages (from folium) (2.11.3)\n",
            "Requirement already satisfied: MarkupSafe>=0.23 in /usr/local/lib/python3.7/dist-packages (from jinja2>=2.9->folium) (2.0.1)\n",
            "Collecting funcy\n",
            "  Downloading funcy-1.17-py2.py3-none-any.whl (33 kB)\n",
            "Requirement already satisfied: future in /usr/local/lib/python3.7/dist-packages (from pyLDAvis) (0.16.0)\n",
            "Requirement already satisfied: numexpr in /usr/local/lib/python3.7/dist-packages (from pyLDAvis) (2.8.4)\n",
            "Collecting sklearn\n",
            "  Downloading sklearn-0.0.post1.tar.gz (3.6 kB)\n",
            "Requirement already satisfied: joblib in /usr/local/lib/python3.7/dist-packages (from pyLDAvis) (1.2.0)\n",
            "Requirement already satisfied: pyparsing!=2.0.4,!=2.1.2,!=2.1.6,>=2.0.1 in /usr/local/lib/python3.7/dist-packages (from matplotlib->qeds) (3.0.9)\n",
            "Requirement already satisfied: cycler>=0.10 in /usr/local/lib/python3.7/dist-packages (from matplotlib->qeds) (0.11.0)\n",
            "Requirement already satisfied: kiwisolver>=1.0.1 in /usr/local/lib/python3.7/dist-packages (from matplotlib->qeds) (1.4.4)\n",
            "Requirement already satisfied: typing-extensions in /usr/local/lib/python3.7/dist-packages (from kiwisolver>=1.0.1->matplotlib->qeds) (4.1.1)\n",
            "Requirement already satisfied: et-xmlfile in /usr/local/lib/python3.7/dist-packages (from openpyxl->qeds) (1.1.0)\n",
            "Requirement already satisfied: lxml in /usr/local/lib/python3.7/dist-packages (from pandas_datareader->qeds) (4.9.1)\n",
            "Requirement already satisfied: urllib3!=1.25.0,!=1.25.1,<1.26,>=1.21.1 in /usr/local/lib/python3.7/dist-packages (from requests->qeds) (1.24.3)\n",
            "Requirement already satisfied: chardet<4,>=3.0.2 in /usr/local/lib/python3.7/dist-packages (from requests->qeds) (3.0.4)\n",
            "Requirement already satisfied: idna<3,>=2.5 in /usr/local/lib/python3.7/dist-packages (from requests->qeds) (2.10)\n",
            "Requirement already satisfied: tenacity>=6.2.0 in /usr/local/lib/python3.7/dist-packages (from plotly->qeds) (8.1.0)\n",
            "Requirement already satisfied: more-itertools in /usr/local/lib/python3.7/dist-packages (from quandl->qeds) (9.0.0)\n",
            "Collecting inflection>=0.3.1\n",
            "  Downloading inflection-0.5.1-py2.py3-none-any.whl (9.5 kB)\n",
            "Requirement already satisfied: numba in /usr/local/lib/python3.7/dist-packages (from quantecon->qeds) (0.56.3)\n",
            "Requirement already satisfied: sympy in /usr/local/lib/python3.7/dist-packages (from quantecon->qeds) (1.7.1)\n",
            "Requirement already satisfied: llvmlite<0.40,>=0.39.0dev0 in /usr/local/lib/python3.7/dist-packages (from numba->quantecon->qeds) (0.39.1)\n",
            "Requirement already satisfied: importlib-metadata in /usr/local/lib/python3.7/dist-packages (from numba->quantecon->qeds) (4.13.0)\n",
            "Requirement already satisfied: zipp>=0.5 in /usr/local/lib/python3.7/dist-packages (from importlib-metadata->numba->quantecon->qeds) (3.10.0)\n",
            "Requirement already satisfied: threadpoolctl>=2.0.0 in /usr/local/lib/python3.7/dist-packages (from scikit-learn->qeds) (3.1.0)\n",
            "Requirement already satisfied: patsy>=0.5 in /usr/local/lib/python3.7/dist-packages (from statsmodels->qeds) (0.5.3)\n",
            "Requirement already satisfied: mpmath>=0.19 in /usr/local/lib/python3.7/dist-packages (from sympy->quantecon->qeds) (1.2.1)\n",
            "Building wheels for collected packages: qeds, pyLDAvis, sklearn\n",
            "  Building wheel for qeds (setup.py) ... \u001b[?25l\u001b[?25hdone\n",
            "  Created wheel for qeds: filename=qeds-0.7.0-py3-none-any.whl size=27813 sha256=a3866c4d1237d99d40eb00c6d8b7d2aab27862b72ea0948acf965804b5ae7bba\n",
            "  Stored in directory: /root/.cache/pip/wheels/fc/8c/52/0cc036b9730b75850b9845770780f8d05ed08ff38a67cbaa29\n",
            "  Building wheel for pyLDAvis (PEP 517) ... \u001b[?25l\u001b[?25hdone\n",
            "  Created wheel for pyLDAvis: filename=pyLDAvis-3.3.1-py2.py3-none-any.whl size=136898 sha256=a34a7a47239cc8918c64dc5f78d9708f4a3c4ec5f4894f86af03ea7f7986b1e8\n",
            "  Stored in directory: /root/.cache/pip/wheels/c9/21/f6/17bcf2667e8a68532ba2fbf6d5c72fdf4c7f7d9abfa4852d2f\n",
            "  Building wheel for sklearn (setup.py) ... \u001b[?25l\u001b[?25hdone\n",
            "  Created wheel for sklearn: filename=sklearn-0.0.post1-py3-none-any.whl size=2344 sha256=b0bf54895af1433f7ab29c8753a3994dc488bed9100f8f31bb3f976d5b769db1\n",
            "  Stored in directory: /root/.cache/pip/wheels/42/56/cc/4a8bf86613aafd5b7f1b310477667c1fca5c51c3ae4124a003\n",
            "Successfully built qeds pyLDAvis sklearn\n",
            "Installing collected packages: munch, inflection, cligj, click-plugins, sklearn, quantecon, quandl, pyproj, funcy, fiona, qeds, pyLDAvis, geopandas\n",
            "Successfully installed click-plugins-1.1.1 cligj-0.7.2 fiona-1.8.22 funcy-1.17 geopandas-0.10.2 inflection-0.5.1 munch-2.5.0 pyLDAvis-3.3.1 pyproj-3.2.1 qeds-0.7.0 quandl-3.7.0 quantecon-0.5.3 sklearn-0.0.post1\n"
          ]
        }
      ]
    },
    {
      "cell_type": "code",
      "source": [
        "import pandas as pd\n",
        "import numpy as np\n",
        "from tqdm import tqdm\n",
        "%matplotlib inline\n",
        "import numpy as np\n",
        "import matplotlib.pyplot as plt\n",
        "import geopandas"
      ],
      "metadata": {
        "id": "WBpdGjbquQii"
      },
      "execution_count": null,
      "outputs": []
    },
    {
      "cell_type": "markdown",
      "source": [
        "Importa la base de datos"
      ],
      "metadata": {
        "id": "KNTIoZlGvPum"
      }
    },
    {
      "cell_type": "code",
      "source": [
        "url=\"https://raw.githubusercontent.com/marypazrf/bdd/main/target-locations.csv\"\n",
        "df=pd.read_csv(url)"
      ],
      "metadata": {
        "id": "PAJWHRVN781V"
      },
      "execution_count": null,
      "outputs": []
    },
    {
      "cell_type": "markdown",
      "source": [
        "Exploremos los datos."
      ],
      "metadata": {
        "id": "sH4hvPAYvUGY"
      }
    },
    {
      "cell_type": "code",
      "source": [
        "\n",
        "df.head()\n"
      ],
      "metadata": {
        "colab": {
          "base_uri": "https://localhost:8080/",
          "height": 206
        },
        "id": "DuzNp7KseyBg",
        "outputId": "d509266f-d5aa-4e66-9f86-87191d21d21e"
      },
      "execution_count": null,
      "outputs": [
        {
          "output_type": "execute_result",
          "data": {
            "text/plain": [
              "        name   latitude  longitude  \\\n",
              "0  Alabaster  33.224225 -86.804174   \n",
              "1   Bessemer  33.334550 -86.989778   \n",
              "2     Daphne  30.602875 -87.895932   \n",
              "3    Decatur  34.560148 -86.971559   \n",
              "4     Dothan  31.266061 -85.446422   \n",
              "\n",
              "                                             address         phone  \\\n",
              "0        250 S Colonial Dr, Alabaster, AL 35007-4657  205-564-2608   \n",
              "1       4889 Promenade Pkwy, Bessemer, AL 35022-7305  205-565-3760   \n",
              "2          1698 US Highway 98, Daphne, AL 36526-4252  251-621-3540   \n",
              "3  1235 Point Mallard Pkwy SE, Decatur, AL 35601-...  256-898-3036   \n",
              "4         4601 Montgomery Hwy, Dothan, AL 36303-1522  334-340-1112   \n",
              "\n",
              "                                    website  \n",
              "0  https://www.target.com/sl/alabaster/2276  \n",
              "1   https://www.target.com/sl/bessemer/2375  \n",
              "2     https://www.target.com/sl/daphne/1274  \n",
              "3    https://www.target.com/sl/decatur/2084  \n",
              "4     https://www.target.com/sl/dothan/1468  "
            ],
            "text/html": [
              "\n",
              "  <div id=\"df-aa1d7fd8-7bc1-488b-9156-c7ff8e33f282\">\n",
              "    <div class=\"colab-df-container\">\n",
              "      <div>\n",
              "<style scoped>\n",
              "    .dataframe tbody tr th:only-of-type {\n",
              "        vertical-align: middle;\n",
              "    }\n",
              "\n",
              "    .dataframe tbody tr th {\n",
              "        vertical-align: top;\n",
              "    }\n",
              "\n",
              "    .dataframe thead th {\n",
              "        text-align: right;\n",
              "    }\n",
              "</style>\n",
              "<table border=\"1\" class=\"dataframe\">\n",
              "  <thead>\n",
              "    <tr style=\"text-align: right;\">\n",
              "      <th></th>\n",
              "      <th>name</th>\n",
              "      <th>latitude</th>\n",
              "      <th>longitude</th>\n",
              "      <th>address</th>\n",
              "      <th>phone</th>\n",
              "      <th>website</th>\n",
              "    </tr>\n",
              "  </thead>\n",
              "  <tbody>\n",
              "    <tr>\n",
              "      <th>0</th>\n",
              "      <td>Alabaster</td>\n",
              "      <td>33.224225</td>\n",
              "      <td>-86.804174</td>\n",
              "      <td>250 S Colonial Dr, Alabaster, AL 35007-4657</td>\n",
              "      <td>205-564-2608</td>\n",
              "      <td>https://www.target.com/sl/alabaster/2276</td>\n",
              "    </tr>\n",
              "    <tr>\n",
              "      <th>1</th>\n",
              "      <td>Bessemer</td>\n",
              "      <td>33.334550</td>\n",
              "      <td>-86.989778</td>\n",
              "      <td>4889 Promenade Pkwy, Bessemer, AL 35022-7305</td>\n",
              "      <td>205-565-3760</td>\n",
              "      <td>https://www.target.com/sl/bessemer/2375</td>\n",
              "    </tr>\n",
              "    <tr>\n",
              "      <th>2</th>\n",
              "      <td>Daphne</td>\n",
              "      <td>30.602875</td>\n",
              "      <td>-87.895932</td>\n",
              "      <td>1698 US Highway 98, Daphne, AL 36526-4252</td>\n",
              "      <td>251-621-3540</td>\n",
              "      <td>https://www.target.com/sl/daphne/1274</td>\n",
              "    </tr>\n",
              "    <tr>\n",
              "      <th>3</th>\n",
              "      <td>Decatur</td>\n",
              "      <td>34.560148</td>\n",
              "      <td>-86.971559</td>\n",
              "      <td>1235 Point Mallard Pkwy SE, Decatur, AL 35601-...</td>\n",
              "      <td>256-898-3036</td>\n",
              "      <td>https://www.target.com/sl/decatur/2084</td>\n",
              "    </tr>\n",
              "    <tr>\n",
              "      <th>4</th>\n",
              "      <td>Dothan</td>\n",
              "      <td>31.266061</td>\n",
              "      <td>-85.446422</td>\n",
              "      <td>4601 Montgomery Hwy, Dothan, AL 36303-1522</td>\n",
              "      <td>334-340-1112</td>\n",
              "      <td>https://www.target.com/sl/dothan/1468</td>\n",
              "    </tr>\n",
              "  </tbody>\n",
              "</table>\n",
              "</div>\n",
              "      <button class=\"colab-df-convert\" onclick=\"convertToInteractive('df-aa1d7fd8-7bc1-488b-9156-c7ff8e33f282')\"\n",
              "              title=\"Convert this dataframe to an interactive table.\"\n",
              "              style=\"display:none;\">\n",
              "        \n",
              "  <svg xmlns=\"http://www.w3.org/2000/svg\" height=\"24px\"viewBox=\"0 0 24 24\"\n",
              "       width=\"24px\">\n",
              "    <path d=\"M0 0h24v24H0V0z\" fill=\"none\"/>\n",
              "    <path d=\"M18.56 5.44l.94 2.06.94-2.06 2.06-.94-2.06-.94-.94-2.06-.94 2.06-2.06.94zm-11 1L8.5 8.5l.94-2.06 2.06-.94-2.06-.94L8.5 2.5l-.94 2.06-2.06.94zm10 10l.94 2.06.94-2.06 2.06-.94-2.06-.94-.94-2.06-.94 2.06-2.06.94z\"/><path d=\"M17.41 7.96l-1.37-1.37c-.4-.4-.92-.59-1.43-.59-.52 0-1.04.2-1.43.59L10.3 9.45l-7.72 7.72c-.78.78-.78 2.05 0 2.83L4 21.41c.39.39.9.59 1.41.59.51 0 1.02-.2 1.41-.59l7.78-7.78 2.81-2.81c.8-.78.8-2.07 0-2.86zM5.41 20L4 18.59l7.72-7.72 1.47 1.35L5.41 20z\"/>\n",
              "  </svg>\n",
              "      </button>\n",
              "      \n",
              "  <style>\n",
              "    .colab-df-container {\n",
              "      display:flex;\n",
              "      flex-wrap:wrap;\n",
              "      gap: 12px;\n",
              "    }\n",
              "\n",
              "    .colab-df-convert {\n",
              "      background-color: #E8F0FE;\n",
              "      border: none;\n",
              "      border-radius: 50%;\n",
              "      cursor: pointer;\n",
              "      display: none;\n",
              "      fill: #1967D2;\n",
              "      height: 32px;\n",
              "      padding: 0 0 0 0;\n",
              "      width: 32px;\n",
              "    }\n",
              "\n",
              "    .colab-df-convert:hover {\n",
              "      background-color: #E2EBFA;\n",
              "      box-shadow: 0px 1px 2px rgba(60, 64, 67, 0.3), 0px 1px 3px 1px rgba(60, 64, 67, 0.15);\n",
              "      fill: #174EA6;\n",
              "    }\n",
              "\n",
              "    [theme=dark] .colab-df-convert {\n",
              "      background-color: #3B4455;\n",
              "      fill: #D2E3FC;\n",
              "    }\n",
              "\n",
              "    [theme=dark] .colab-df-convert:hover {\n",
              "      background-color: #434B5C;\n",
              "      box-shadow: 0px 1px 3px 1px rgba(0, 0, 0, 0.15);\n",
              "      filter: drop-shadow(0px 1px 2px rgba(0, 0, 0, 0.3));\n",
              "      fill: #FFFFFF;\n",
              "    }\n",
              "  </style>\n",
              "\n",
              "      <script>\n",
              "        const buttonEl =\n",
              "          document.querySelector('#df-aa1d7fd8-7bc1-488b-9156-c7ff8e33f282 button.colab-df-convert');\n",
              "        buttonEl.style.display =\n",
              "          google.colab.kernel.accessAllowed ? 'block' : 'none';\n",
              "\n",
              "        async function convertToInteractive(key) {\n",
              "          const element = document.querySelector('#df-aa1d7fd8-7bc1-488b-9156-c7ff8e33f282');\n",
              "          const dataTable =\n",
              "            await google.colab.kernel.invokeFunction('convertToInteractive',\n",
              "                                                     [key], {});\n",
              "          if (!dataTable) return;\n",
              "\n",
              "          const docLinkHtml = 'Like what you see? Visit the ' +\n",
              "            '<a target=\"_blank\" href=https://colab.research.google.com/notebooks/data_table.ipynb>data table notebook</a>'\n",
              "            + ' to learn more about interactive tables.';\n",
              "          element.innerHTML = '';\n",
              "          dataTable['output_type'] = 'display_data';\n",
              "          await google.colab.output.renderOutput(dataTable, element);\n",
              "          const docLink = document.createElement('div');\n",
              "          docLink.innerHTML = docLinkHtml;\n",
              "          element.appendChild(docLink);\n",
              "        }\n",
              "      </script>\n",
              "    </div>\n",
              "  </div>\n",
              "  "
            ]
          },
          "metadata": {},
          "execution_count": 4
        }
      ]
    },
    {
      "cell_type": "code",
      "source": [
        "df.info()"
      ],
      "metadata": {
        "colab": {
          "base_uri": "https://localhost:8080/"
        },
        "id": "MxbhdLkavl7Q",
        "outputId": "2bf4602b-93ec-4be6-dda7-357d714b7f55"
      },
      "execution_count": null,
      "outputs": [
        {
          "output_type": "stream",
          "name": "stdout",
          "text": [
            "<class 'pandas.core.frame.DataFrame'>\n",
            "RangeIndex: 1839 entries, 0 to 1838\n",
            "Data columns (total 6 columns):\n",
            " #   Column     Non-Null Count  Dtype  \n",
            "---  ------     --------------  -----  \n",
            " 0   name       1839 non-null   object \n",
            " 1   latitude   1839 non-null   float64\n",
            " 2   longitude  1839 non-null   float64\n",
            " 3   address    1839 non-null   object \n",
            " 4   phone      1839 non-null   object \n",
            " 5   website    1839 non-null   object \n",
            "dtypes: float64(2), object(4)\n",
            "memory usage: 86.3+ KB\n"
          ]
        }
      ]
    },
    {
      "cell_type": "markdown",
      "source": [
        "**Definición de Latitud y Longitud**\n",
        "\n",
        "**Latitud** Es la distancia en grados, minutos y segundos que hay con respecto al paralelo principal, que es el ecuador (0º). La latitud puede ser norte y sur.\n",
        "\n",
        "**Longitud**: Es la distancia en grados, minutos y segundos que hay con respecto al meridiano principal, que es el meridiano de Greenwich (0º).La longitud puede ser este y oeste."
      ],
      "metadata": {
        "id": "cpfqKT4qxAZz"
      }
    },
    {
      "cell_type": "code",
      "source": [
        "latlong=df[[\"latitude\",\"longitude\"]]"
      ],
      "metadata": {
        "id": "oPzX3DGju0As"
      },
      "execution_count": null,
      "outputs": []
    },
    {
      "cell_type": "markdown",
      "source": [
        "¡Visualizemos los datos!, para empezar a notar algún patron. \n",
        "\n",
        "A simple vista pudieramos pensar que tenemos algunos datos atípicos u outliers, pero .... no es así, simplemente esta grafica no nos está dando toda la información."
      ],
      "metadata": {
        "id": "gMk6UVE2e67y"
      }
    },
    {
      "cell_type": "code",
      "source": [
        "#extrae los datos interesantes\n",
        "latlong.plot.scatter( \"longitude\",\"latitude\")"
      ],
      "metadata": {
        "colab": {
          "base_uri": "https://localhost:8080/",
          "height": 296
        },
        "id": "-QZRqKiDfj2J",
        "outputId": "ddc02564-0666-41b1-a156-aeb77dc7ca74"
      },
      "execution_count": null,
      "outputs": [
        {
          "output_type": "execute_result",
          "data": {
            "text/plain": [
              "<matplotlib.axes._subplots.AxesSubplot at 0x7f735e003b50>"
            ]
          },
          "metadata": {},
          "execution_count": 7
        },
        {
          "output_type": "display_data",
          "data": {
            "text/plain": [
              "<Figure size 432x288 with 1 Axes>"
            ],
            "image/png": "[encoded data removed]"
          },
          "metadata": {
            "needs_background": "light"
          }
        }
      ]
    },
    {
      "cell_type": "code",
      "source": [
        "latlong.describe()"
      ],
      "metadata": {
        "colab": {
          "base_uri": "https://localhost:8080/",
          "height": 300
        },
        "id": "O6b3QguyyjM_",
        "outputId": "c9b9d5ab-2f18-431c-85b1-79f73ab0c5ba"
      },
      "execution_count": null,
      "outputs": [
        {
          "output_type": "execute_result",
          "data": {
            "text/plain": [
              "          latitude    longitude\n",
              "count  1839.000000  1839.000000\n",
              "mean     37.791238   -91.986881\n",
              "std       5.272299    16.108046\n",
              "min      19.647855  -159.376962\n",
              "25%      33.882605   -98.268828\n",
              "50%      38.955432   -87.746346\n",
              "75%      41.658341   -80.084833\n",
              "max      61.577919   -68.742331"
            ],
            "text/html": [
              "\n",
              "  <div id=\"df-b39f9cfa-48e6-4c81-afd1-ee10eef01a9c\">\n",
              "    <div class=\"colab-df-container\">\n",
              "      <div>\n",
              "<style scoped>\n",
              "    .dataframe tbody tr th:only-of-type {\n",
              "        vertical-align: middle;\n",
              "    }\n",
              "\n",
              "    .dataframe tbody tr th {\n",
              "        vertical-align: top;\n",
              "    }\n",
              "\n",
              "    .dataframe thead th {\n",
              "        text-align: right;\n",
              "    }\n",
              "</style>\n",
              "<table border=\"1\" class=\"dataframe\">\n",
              "  <thead>\n",
              "    <tr style=\"text-align: right;\">\n",
              "      <th></th>\n",
              "      <th>latitude</th>\n",
              "      <th>longitude</th>\n",
              "    </tr>\n",
              "  </thead>\n",
              "  <tbody>\n",
              "    <tr>\n",
              "      <th>count</th>\n",
              "      <td>1839.000000</td>\n",
              "      <td>1839.000000</td>\n",
              "    </tr>\n",
              "    <tr>\n",
              "      <th>mean</th>\n",
              "      <td>37.791238</td>\n",
              "      <td>-91.986881</td>\n",
              "    </tr>\n",
              "    <tr>\n",
              "      <th>std</th>\n",
              "      <td>5.272299</td>\n",
              "      <td>16.108046</td>\n",
              "    </tr>\n",
              "    <tr>\n",
              "      <th>min</th>\n",
              "      <td>19.647855</td>\n",
              "      <td>-159.376962</td>\n",
              "    </tr>\n",
              "    <tr>\n",
              "      <th>25%</th>\n",
              "      <td>33.882605</td>\n",
              "      <td>-98.268828</td>\n",
              "    </tr>\n",
              "    <tr>\n",
              "      <th>50%</th>\n",
              "      <td>38.955432</td>\n",
              "      <td>-87.746346</td>\n",
              "    </tr>\n",
              "    <tr>\n",
              "      <th>75%</th>\n",
              "      <td>41.658341</td>\n",
              "      <td>-80.084833</td>\n",
              "    </tr>\n",
              "    <tr>\n",
              "      <th>max</th>\n",
              "      <td>61.577919</td>\n",
              "      <td>-68.742331</td>\n",
              "    </tr>\n",
              "  </tbody>\n",
              "</table>\n",
              "</div>\n",
              "      <button class=\"colab-df-convert\" onclick=\"convertToInteractive('df-b39f9cfa-48e6-4c81-afd1-ee10eef01a9c')\"\n",
              "              title=\"Convert this dataframe to an interactive table.\"\n",
              "              style=\"display:none;\">\n",
              "        \n",
              "  <svg xmlns=\"http://www.w3.org/2000/svg\" height=\"24px\"viewBox=\"0 0 24 24\"\n",
              "       width=\"24px\">\n",
              "    <path d=\"M0 0h24v24H0V0z\" fill=\"none\"/>\n",
              "    <path d=\"M18.56 5.44l.94 2.06.94-2.06 2.06-.94-2.06-.94-.94-2.06-.94 2.06-2.06.94zm-11 1L8.5 8.5l.94-2.06 2.06-.94-2.06-.94L8.5 2.5l-.94 2.06-2.06.94zm10 10l.94 2.06.94-2.06 2.06-.94-2.06-.94-.94-2.06-.94 2.06-2.06.94z\"/><path d=\"M17.41 7.96l-1.37-1.37c-.4-.4-.92-.59-1.43-.59-.52 0-1.04.2-1.43.59L10.3 9.45l-7.72 7.72c-.78.78-.78 2.05 0 2.83L4 21.41c.39.39.9.59 1.41.59.51 0 1.02-.2 1.41-.59l7.78-7.78 2.81-2.81c.8-.78.8-2.07 0-2.86zM5.41 20L4 18.59l7.72-7.72 1.47 1.35L5.41 20z\"/>\n",
              "  </svg>\n",
              "      </button>\n",
              "      \n",
              "  <style>\n",
              "    .colab-df-container {\n",
              "      display:flex;\n",
              "      flex-wrap:wrap;\n",
              "      gap: 12px;\n",
              "    }\n",
              "\n",
              "    .colab-df-convert {\n",
              "      background-color: #E8F0FE;\n",
              "      border: none;\n",
              "      border-radius: 50%;\n",
              "      cursor: pointer;\n",
              "      display: none;\n",
              "      fill: #1967D2;\n",
              "      height: 32px;\n",
              "      padding: 0 0 0 0;\n",
              "      width: 32px;\n",
              "    }\n",
              "\n",
              "    .colab-df-convert:hover {\n",
              "      background-color: #E2EBFA;\n",
              "      box-shadow: 0px 1px 2px rgba(60, 64, 67, 0.3), 0px 1px 3px 1px rgba(60, 64, 67, 0.15);\n",
              "      fill: #174EA6;\n",
              "    }\n",
              "\n",
              "    [theme=dark] .colab-df-convert {\n",
              "      background-color: #3B4455;\n",
              "      fill: #D2E3FC;\n",
              "    }\n",
              "\n",
              "    [theme=dark] .colab-df-convert:hover {\n",
              "      background-color: #434B5C;\n",
              "      box-shadow: 0px 1px 3px 1px rgba(0, 0, 0, 0.15);\n",
              "      filter: drop-shadow(0px 1px 2px rgba(0, 0, 0, 0.3));\n",
              "      fill: #FFFFFF;\n",
              "    }\n",
              "  </style>\n",
              "\n",
              "      <script>\n",
              "        const buttonEl =\n",
              "          document.querySelector('#df-b39f9cfa-48e6-4c81-afd1-ee10eef01a9c button.colab-df-convert');\n",
              "        buttonEl.style.display =\n",
              "          google.colab.kernel.accessAllowed ? 'block' : 'none';\n",
              "\n",
              "        async function convertToInteractive(key) {\n",
              "          const element = document.querySelector('#df-b39f9cfa-48e6-4c81-afd1-ee10eef01a9c');\n",
              "          const dataTable =\n",
              "            await google.colab.kernel.invokeFunction('convertToInteractive',\n",
              "                                                     [key], {});\n",
              "          if (!dataTable) return;\n",
              "\n",
              "          const docLinkHtml = 'Like what you see? Visit the ' +\n",
              "            '<a target=\"_blank\" href=https://colab.research.google.com/notebooks/data_table.ipynb>data table notebook</a>'\n",
              "            + ' to learn more about interactive tables.';\n",
              "          element.innerHTML = '';\n",
              "          dataTable['output_type'] = 'display_data';\n",
              "          await google.colab.output.renderOutput(dataTable, element);\n",
              "          const docLink = document.createElement('div');\n",
              "          docLink.innerHTML = docLinkHtml;\n",
              "          element.appendChild(docLink);\n",
              "        }\n",
              "      </script>\n",
              "    </div>\n",
              "  </div>\n",
              "  "
            ]
          },
          "metadata": {},
          "execution_count": 8
        }
      ]
    },
    {
      "cell_type": "markdown",
      "source": [
        "Para entender un poco más, nos auxiliaremos de una librería para graficar datos geográficos. Esto nos ayudara a tener un mejor entendimiento de ellos.\n",
        "\n",
        "\n"
      ],
      "metadata": {
        "id": "hkPMyAyIDunz"
      }
    },
    {
      "cell_type": "code",
      "source": [
        "import geopandas as gpd\n",
        "import matplotlib.pyplot as plt\n",
        "import pandas as pd\n",
        "\n",
        "from shapely.geometry import Point\n",
        "\n",
        "%matplotlib inline\n",
        "# activate plot theme\n",
        "import qeds\n",
        "qeds.themes.mpl_style();"
      ],
      "metadata": {
        "id": "_blyM4esyJTu"
      },
      "execution_count": null,
      "outputs": []
    },
    {
      "cell_type": "code",
      "source": [
        "df[\"Coordinates\"] = list(zip(df.longitude, df.latitude))\n",
        "df[\"Coordinates\"] = df[\"Coordinates\"].apply(Point)\n",
        "df.head()"
      ],
      "metadata": {
        "colab": {
          "base_uri": "https://localhost:8080/",
          "height": 206
        },
        "id": "01i0TciKfPco",
        "outputId": "6bbf8876-08ff-4f1f-83b6-4a1ce3b3186b"
      },
      "execution_count": null,
      "outputs": [
        {
          "output_type": "execute_result",
          "data": {
            "text/plain": [
              "        name   latitude  longitude  \\\n",
              "0  Alabaster  33.224225 -86.804174   \n",
              "1   Bessemer  33.334550 -86.989778   \n",
              "2     Daphne  30.602875 -87.895932   \n",
              "3    Decatur  34.560148 -86.971559   \n",
              "4     Dothan  31.266061 -85.446422   \n",
              "\n",
              "                                             address         phone  \\\n",
              "0        250 S Colonial Dr, Alabaster, AL 35007-4657  205-564-2608   \n",
              "1       4889 Promenade Pkwy, Bessemer, AL 35022-7305  205-565-3760   \n",
              "2          1698 US Highway 98, Daphne, AL 36526-4252  251-621-3540   \n",
              "3  1235 Point Mallard Pkwy SE, Decatur, AL 35601-...  256-898-3036   \n",
              "4         4601 Montgomery Hwy, Dothan, AL 36303-1522  334-340-1112   \n",
              "\n",
              "                                    website  \\\n",
              "0  https://www.target.com/sl/alabaster/2276   \n",
              "1   https://www.target.com/sl/bessemer/2375   \n",
              "2     https://www.target.com/sl/daphne/1274   \n",
              "3    https://www.target.com/sl/decatur/2084   \n",
              "4     https://www.target.com/sl/dothan/1468   \n",
              "\n",
              "                             Coordinates  \n",
              "0  POINT (-86.80417369999999 33.2242254)  \n",
              "1  POINT (-86.98977789999999 33.3345501)  \n",
              "2  POINT (-87.89593169999999 30.6028747)  \n",
              "3         POINT (-86.9715595 34.5601477)  \n",
              "4         POINT (-85.4464222 31.2660613)  "
            ],
            "text/html": [
              "\n",
              "  <div id=\"df-2ca5ba75-7692-4d4d-ad16-5b7acbb3bf0f\">\n",
              "    <div class=\"colab-df-container\">\n",
              "      <div>\n",
              "<style scoped>\n",
              "    .dataframe tbody tr th:only-of-type {\n",
              "        vertical-align: middle;\n",
              "    }\n",
              "\n",
              "    .dataframe tbody tr th {\n",
              "        vertical-align: top;\n",
              "    }\n",
              "\n",
              "    .dataframe thead th {\n",
              "        text-align: right;\n",
              "    }\n",
              "</style>\n",
              "<table border=\"1\" class=\"dataframe\">\n",
              "  <thead>\n",
              "    <tr style=\"text-align: right;\">\n",
              "      <th></th>\n",
              "      <th>name</th>\n",
              "      <th>latitude</th>\n",
              "      <th>longitude</th>\n",
              "      <th>address</th>\n",
              "      <th>phone</th>\n",
              "      <th>website</th>\n",
              "      <th>Coordinates</th>\n",
              "    </tr>\n",
              "  </thead>\n",
              "  <tbody>\n",
              "    <tr>\n",
              "      <th>0</th>\n",
              "      <td>Alabaster</td>\n",
              "      <td>33.224225</td>\n",
              "      <td>-86.804174</td>\n",
              "      <td>250 S Colonial Dr, Alabaster, AL 35007-4657</td>\n",
              "      <td>205-564-2608</td>\n",
              "      <td>https://www.target.com/sl/alabaster/2276</td>\n",
              "      <td>POINT (-86.80417369999999 33.2242254)</td>\n",
              "    </tr>\n",
              "    <tr>\n",
              "      <th>1</th>\n",
              "      <td>Bessemer</td>\n",
              "      <td>33.334550</td>\n",
              "      <td>-86.989778</td>\n",
              "      <td>4889 Promenade Pkwy, Bessemer, AL 35022-7305</td>\n",
              "      <td>205-565-3760</td>\n",
              "      <td>https://www.target.com/sl/bessemer/2375</td>\n",
              "      <td>POINT (-86.98977789999999 33.3345501)</td>\n",
              "    </tr>\n",
              "    <tr>\n",
              "      <th>2</th>\n",
              "      <td>Daphne</td>\n",
              "      <td>30.602875</td>\n",
              "      <td>-87.895932</td>\n",
              "      <td>1698 US Highway 98, Daphne, AL 36526-4252</td>\n",
              "      <td>251-621-3540</td>\n",
              "      <td>https://www.target.com/sl/daphne/1274</td>\n",
              "      <td>POINT (-87.89593169999999 30.6028747)</td>\n",
              "    </tr>\n",
              "    <tr>\n",
              "      <th>3</th>\n",
              "      <td>Decatur</td>\n",
              "      <td>34.560148</td>\n",
              "      <td>-86.971559</td>\n",
              "      <td>1235 Point Mallard Pkwy SE, Decatur, AL 35601-...</td>\n",
              "      <td>256-898-3036</td>\n",
              "      <td>https://www.target.com/sl/decatur/2084</td>\n",
              "      <td>POINT (-86.9715595 34.5601477)</td>\n",
              "    </tr>\n",
              "    <tr>\n",
              "      <th>4</th>\n",
              "      <td>Dothan</td>\n",
              "      <td>31.266061</td>\n",
              "      <td>-85.446422</td>\n",
              "      <td>4601 Montgomery Hwy, Dothan, AL 36303-1522</td>\n",
              "      <td>334-340-1112</td>\n",
              "      <td>https://www.target.com/sl/dothan/1468</td>\n",
              "      <td>POINT (-85.4464222 31.2660613)</td>\n",
              "    </tr>\n",
              "  </tbody>\n",
              "</table>\n",
              "</div>\n",
              "      <button class=\"colab-df-convert\" onclick=\"convertToInteractive('df-2ca5ba75-7692-4d4d-ad16-5b7acbb3bf0f')\"\n",
              "              title=\"Convert this dataframe to an interactive table.\"\n",
              "              style=\"display:none;\">\n",
              "        \n",
              "  <svg xmlns=\"http://www.w3.org/2000/svg\" height=\"24px\"viewBox=\"0 0 24 24\"\n",
              "       width=\"24px\">\n",
              "    <path d=\"M0 0h24v24H0V0z\" fill=\"none\"/>\n",
              "    <path d=\"M18.56 5.44l.94 2.06.94-2.06 2.06-.94-2.06-.94-.94-2.06-.94 2.06-2.06.94zm-11 1L8.5 8.5l.94-2.06 2.06-.94-2.06-.94L8.5 2.5l-.94 2.06-2.06.94zm10 10l.94 2.06.94-2.06 2.06-.94-2.06-.94-.94-2.06-.94 2.06-2.06.94z\"/><path d=\"M17.41 7.96l-1.37-1.37c-.4-.4-.92-.59-1.43-.59-.52 0-1.04.2-1.43.59L10.3 9.45l-7.72 7.72c-.78.78-.78 2.05 0 2.83L4 21.41c.39.39.9.59 1.41.59.51 0 1.02-.2 1.41-.59l7.78-7.78 2.81-2.81c.8-.78.8-2.07 0-2.86zM5.41 20L4 18.59l7.72-7.72 1.47 1.35L5.41 20z\"/>\n",
              "  </svg>\n",
              "      </button>\n",
              "      \n",
              "  <style>\n",
              "    .colab-df-container {\n",
              "      display:flex;\n",
              "      flex-wrap:wrap;\n",
              "      gap: 12px;\n",
              "    }\n",
              "\n",
              "    .colab-df-convert {\n",
              "      background-color: #E8F0FE;\n",
              "      border: none;\n",
              "      border-radius: 50%;\n",
              "      cursor: pointer;\n",
              "      display: none;\n",
              "      fill: #1967D2;\n",
              "      height: 32px;\n",
              "      padding: 0 0 0 0;\n",
              "      width: 32px;\n",
              "    }\n",
              "\n",
              "    .colab-df-convert:hover {\n",
              "      background-color: #E2EBFA;\n",
              "      box-shadow: 0px 1px 2px rgba(60, 64, 67, 0.3), 0px 1px 3px 1px rgba(60, 64, 67, 0.15);\n",
              "      fill: #174EA6;\n",
              "    }\n",
              "\n",
              "    [theme=dark] .colab-df-convert {\n",
              "      background-color: #3B4455;\n",
              "      fill: #D2E3FC;\n",
              "    }\n",
              "\n",
              "    [theme=dark] .colab-df-convert:hover {\n",
              "      background-color: #434B5C;\n",
              "      box-shadow: 0px 1px 3px 1px rgba(0, 0, 0, 0.15);\n",
              "      filter: drop-shadow(0px 1px 2px rgba(0, 0, 0, 0.3));\n",
              "      fill: #FFFFFF;\n",
              "    }\n",
              "  </style>\n",
              "\n",
              "      <script>\n",
              "        const buttonEl =\n",
              "          document.querySelector('#df-2ca5ba75-7692-4d4d-ad16-5b7acbb3bf0f button.colab-df-convert');\n",
              "        buttonEl.style.display =\n",
              "          google.colab.kernel.accessAllowed ? 'block' : 'none';\n",
              "\n",
              "        async function convertToInteractive(key) {\n",
              "          const element = document.querySelector('#df-2ca5ba75-7692-4d4d-ad16-5b7acbb3bf0f');\n",
              "          const dataTable =\n",
              "            await google.colab.kernel.invokeFunction('convertToInteractive',\n",
              "                                                     [key], {});\n",
              "          if (!dataTable) return;\n",
              "\n",
              "          const docLinkHtml = 'Like what you see? Visit the ' +\n",
              "            '<a target=\"_blank\" href=https://colab.research.google.com/notebooks/data_table.ipynb>data table notebook</a>'\n",
              "            + ' to learn more about interactive tables.';\n",
              "          element.innerHTML = '';\n",
              "          dataTable['output_type'] = 'display_data';\n",
              "          await google.colab.output.renderOutput(dataTable, element);\n",
              "          const docLink = document.createElement('div');\n",
              "          docLink.innerHTML = docLinkHtml;\n",
              "          element.appendChild(docLink);\n",
              "        }\n",
              "      </script>\n",
              "    </div>\n",
              "  </div>\n",
              "  "
            ]
          },
          "metadata": {},
          "execution_count": 10
        }
      ]
    },
    {
      "cell_type": "code",
      "source": [
        "gdf = gpd.GeoDataFrame(df, geometry=\"Coordinates\")\n",
        "gdf.head()"
      ],
      "metadata": {
        "colab": {
          "base_uri": "https://localhost:8080/",
          "height": 206
        },
        "id": "SBTBrsvlfIU_",
        "outputId": "6d509677-5afa-4efb-f1b0-c56a7272530d"
      },
      "execution_count": null,
      "outputs": [
        {
          "output_type": "execute_result",
          "data": {
            "text/plain": [
              "        name   latitude  longitude  \\\n",
              "0  Alabaster  33.224225 -86.804174   \n",
              "1   Bessemer  33.334550 -86.989778   \n",
              "2     Daphne  30.602875 -87.895932   \n",
              "3    Decatur  34.560148 -86.971559   \n",
              "4     Dothan  31.266061 -85.446422   \n",
              "\n",
              "                                             address         phone  \\\n",
              "0        250 S Colonial Dr, Alabaster, AL 35007-4657  205-564-2608   \n",
              "1       4889 Promenade Pkwy, Bessemer, AL 35022-7305  205-565-3760   \n",
              "2          1698 US Highway 98, Daphne, AL 36526-4252  251-621-3540   \n",
              "3  1235 Point Mallard Pkwy SE, Decatur, AL 35601-...  256-898-3036   \n",
              "4         4601 Montgomery Hwy, Dothan, AL 36303-1522  334-340-1112   \n",
              "\n",
              "                                    website                 Coordinates  \n",
              "0  https://www.target.com/sl/alabaster/2276  POINT (-86.80417 33.22423)  \n",
              "1   https://www.target.com/sl/bessemer/2375  POINT (-86.98978 33.33455)  \n",
              "2     https://www.target.com/sl/daphne/1274  POINT (-87.89593 30.60287)  \n",
              "3    https://www.target.com/sl/decatur/2084  POINT (-86.97156 34.56015)  \n",
              "4     https://www.target.com/sl/dothan/1468  POINT (-85.44642 31.26606)  "
            ],
            "text/html": [
              "\n",
              "  <div id=\"df-98ae2b08-f018-4103-97a7-32324b189777\">\n",
              "    <div class=\"colab-df-container\">\n",
              "      <div>\n",
              "<style scoped>\n",
              "    .dataframe tbody tr th:only-of-type {\n",
              "        vertical-align: middle;\n",
              "    }\n",
              "\n",
              "    .dataframe tbody tr th {\n",
              "        vertical-align: top;\n",
              "    }\n",
              "\n",
              "    .dataframe thead th {\n",
              "        text-align: right;\n",
              "    }\n",
              "</style>\n",
              "<table border=\"1\" class=\"dataframe\">\n",
              "  <thead>\n",
              "    <tr style=\"text-align: right;\">\n",
              "      <th></th>\n",
              "      <th>name</th>\n",
              "      <th>latitude</th>\n",
              "      <th>longitude</th>\n",
              "      <th>address</th>\n",
              "      <th>phone</th>\n",
              "      <th>website</th>\n",
              "      <th>Coordinates</th>\n",
              "    </tr>\n",
              "  </thead>\n",
              "  <tbody>\n",
              "    <tr>\n",
              "      <th>0</th>\n",
              "      <td>Alabaster</td>\n",
              "      <td>33.224225</td>\n",
              "      <td>-86.804174</td>\n",
              "      <td>250 S Colonial Dr, Alabaster, AL 35007-4657</td>\n",
              "      <td>205-564-2608</td>\n",
              "      <td>https://www.target.com/sl/alabaster/2276</td>\n",
              "      <td>POINT (-86.80417 33.22423)</td>\n",
              "    </tr>\n",
              "    <tr>\n",
              "      <th>1</th>\n",
              "      <td>Bessemer</td>\n",
              "      <td>33.334550</td>\n",
              "      <td>-86.989778</td>\n",
              "      <td>4889 Promenade Pkwy, Bessemer, AL 35022-7305</td>\n",
              "      <td>205-565-3760</td>\n",
              "      <td>https://www.target.com/sl/bessemer/2375</td>\n",
              "      <td>POINT (-86.98978 33.33455)</td>\n",
              "    </tr>\n",
              "    <tr>\n",
              "      <th>2</th>\n",
              "      <td>Daphne</td>\n",
              "      <td>30.602875</td>\n",
              "      <td>-87.895932</td>\n",
              "      <td>1698 US Highway 98, Daphne, AL 36526-4252</td>\n",
              "      <td>251-621-3540</td>\n",
              "      <td>https://www.target.com/sl/daphne/1274</td>\n",
              "      <td>POINT (-87.89593 30.60287)</td>\n",
              "    </tr>\n",
              "    <tr>\n",
              "      <th>3</th>\n",
              "      <td>Decatur</td>\n",
              "      <td>34.560148</td>\n",
              "      <td>-86.971559</td>\n",
              "      <td>1235 Point Mallard Pkwy SE, Decatur, AL 35601-...</td>\n",
              "      <td>256-898-3036</td>\n",
              "      <td>https://www.target.com/sl/decatur/2084</td>\n",
              "      <td>POINT (-86.97156 34.56015)</td>\n",
              "    </tr>\n",
              "    <tr>\n",
              "      <th>4</th>\n",
              "      <td>Dothan</td>\n",
              "      <td>31.266061</td>\n",
              "      <td>-85.446422</td>\n",
              "      <td>4601 Montgomery Hwy, Dothan, AL 36303-1522</td>\n",
              "      <td>334-340-1112</td>\n",
              "      <td>https://www.target.com/sl/dothan/1468</td>\n",
              "      <td>POINT (-85.44642 31.26606)</td>\n",
              "    </tr>\n",
              "  </tbody>\n",
              "</table>\n",
              "</div>\n",
              "      <button class=\"colab-df-convert\" onclick=\"convertToInteractive('df-98ae2b08-f018-4103-97a7-32324b189777')\"\n",
              "              title=\"Convert this dataframe to an interactive table.\"\n",
              "              style=\"display:none;\">\n",
              "        \n",
              "  <svg xmlns=\"http://www.w3.org/2000/svg\" height=\"24px\"viewBox=\"0 0 24 24\"\n",
              "       width=\"24px\">\n",
              "    <path d=\"M0 0h24v24H0V0z\" fill=\"none\"/>\n",
              "    <path d=\"M18.56 5.44l.94 2.06.94-2.06 2.06-.94-2.06-.94-.94-2.06-.94 2.06-2.06.94zm-11 1L8.5 8.5l.94-2.06 2.06-.94-2.06-.94L8.5 2.5l-.94 2.06-2.06.94zm10 10l.94 2.06.94-2.06 2.06-.94-2.06-.94-.94-2.06-.94 2.06-2.06.94z\"/><path d=\"M17.41 7.96l-1.37-1.37c-.4-.4-.92-.59-1.43-.59-.52 0-1.04.2-1.43.59L10.3 9.45l-7.72 7.72c-.78.78-.78 2.05 0 2.83L4 21.41c.39.39.9.59 1.41.59.51 0 1.02-.2 1.41-.59l7.78-7.78 2.81-2.81c.8-.78.8-2.07 0-2.86zM5.41 20L4 18.59l7.72-7.72 1.47 1.35L5.41 20z\"/>\n",
              "  </svg>\n",
              "      </button>\n",
              "      \n",
              "  <style>\n",
              "    .colab-df-container {\n",
              "      display:flex;\n",
              "      flex-wrap:wrap;\n",
              "      gap: 12px;\n",
              "    }\n",
              "\n",
              "    .colab-df-convert {\n",
              "      background-color: #E8F0FE;\n",
              "      border: none;\n",
              "      border-radius: 50%;\n",
              "      cursor: pointer;\n",
              "      display: none;\n",
              "      fill: #1967D2;\n",
              "      height: 32px;\n",
              "      padding: 0 0 0 0;\n",
              "      width: 32px;\n",
              "    }\n",
              "\n",
              "    .colab-df-convert:hover {\n",
              "      background-color: #E2EBFA;\n",
              "      box-shadow: 0px 1px 2px rgba(60, 64, 67, 0.3), 0px 1px 3px 1px rgba(60, 64, 67, 0.15);\n",
              "      fill: #174EA6;\n",
              "    }\n",
              "\n",
              "    [theme=dark] .colab-df-convert {\n",
              "      background-color: #3B4455;\n",
              "      fill: #D2E3FC;\n",
              "    }\n",
              "\n",
              "    [theme=dark] .colab-df-convert:hover {\n",
              "      background-color: #434B5C;\n",
              "      box-shadow: 0px 1px 3px 1px rgba(0, 0, 0, 0.15);\n",
              "      filter: drop-shadow(0px 1px 2px rgba(0, 0, 0, 0.3));\n",
              "      fill: #FFFFFF;\n",
              "    }\n",
              "  </style>\n",
              "\n",
              "      <script>\n",
              "        const buttonEl =\n",
              "          document.querySelector('#df-98ae2b08-f018-4103-97a7-32324b189777 button.colab-df-convert');\n",
              "        buttonEl.style.display =\n",
              "          google.colab.kernel.accessAllowed ? 'block' : 'none';\n",
              "\n",
              "        async function convertToInteractive(key) {\n",
              "          const element = document.querySelector('#df-98ae2b08-f018-4103-97a7-32324b189777');\n",
              "          const dataTable =\n",
              "            await google.colab.kernel.invokeFunction('convertToInteractive',\n",
              "                                                     [key], {});\n",
              "          if (!dataTable) return;\n",
              "\n",
              "          const docLinkHtml = 'Like what you see? Visit the ' +\n",
              "            '<a target=\"_blank\" href=https://colab.research.google.com/notebooks/data_table.ipynb>data table notebook</a>'\n",
              "            + ' to learn more about interactive tables.';\n",
              "          element.innerHTML = '';\n",
              "          dataTable['output_type'] = 'display_data';\n",
              "          await google.colab.output.renderOutput(dataTable, element);\n",
              "          const docLink = document.createElement('div');\n",
              "          docLink.innerHTML = docLinkHtml;\n",
              "          element.appendChild(docLink);\n",
              "        }\n",
              "      </script>\n",
              "    </div>\n",
              "  </div>\n",
              "  "
            ]
          },
          "metadata": {},
          "execution_count": 11
        }
      ]
    },
    {
      "cell_type": "code",
      "source": [
        "#mapa\n",
        "\n",
        "world = gpd.read_file(gpd.datasets.get_path(\"naturalearth_lowres\"))\n",
        "world = world.set_index(\"iso_a3\")\n",
        "\n",
        "world.head()"
      ],
      "metadata": {
        "colab": {
          "base_uri": "https://localhost:8080/",
          "height": 237
        },
        "id": "wB6Jkrvbfef1",
        "outputId": "3872247a-e9d9-4449-bdda-591713bf9bbe"
      },
      "execution_count": null,
      "outputs": [
        {
          "output_type": "execute_result",
          "data": {
            "text/plain": [
              "          pop_est      continent                      name  gdp_md_est  \\\n",
              "iso_a3                                                                   \n",
              "FJI        920938        Oceania                      Fiji      8374.0   \n",
              "TZA      53950935         Africa                  Tanzania    150600.0   \n",
              "ESH        603253         Africa                 W. Sahara       906.5   \n",
              "CAN      35623680  North America                    Canada   1674000.0   \n",
              "USA     326625791  North America  United States of America  18560000.0   \n",
              "\n",
              "                                                 geometry  \n",
              "iso_a3                                                     \n",
              "FJI     MULTIPOLYGON (((180.00000 -16.06713, 180.00000...  \n",
              "TZA     POLYGON ((33.90371 -0.95000, 34.07262 -1.05982...  \n",
              "ESH     POLYGON ((-8.66559 27.65643, -8.66512 27.58948...  \n",
              "CAN     MULTIPOLYGON (((-122.84000 49.00000, -122.9742...  \n",
              "USA     MULTIPOLYGON (((-122.84000 49.00000, -120.0000...  "
            ],
            "text/html": [
              "\n",
              "  <div id=\"df-139965dd-7a0a-422a-b472-f2928eec649b\">\n",
              "    <div class=\"colab-df-container\">\n",
              "      <div>\n",
              "<style scoped>\n",
              "    .dataframe tbody tr th:only-of-type {\n",
              "        vertical-align: middle;\n",
              "    }\n",
              "\n",
              "    .dataframe tbody tr th {\n",
              "        vertical-align: top;\n",
              "    }\n",
              "\n",
              "    .dataframe thead th {\n",
              "        text-align: right;\n",
              "    }\n",
              "</style>\n",
              "<table border=\"1\" class=\"dataframe\">\n",
              "  <thead>\n",
              "    <tr style=\"text-align: right;\">\n",
              "      <th></th>\n",
              "      <th>pop_est</th>\n",
              "      <th>continent</th>\n",
              "      <th>name</th>\n",
              "      <th>gdp_md_est</th>\n",
              "      <th>geometry</th>\n",
              "    </tr>\n",
              "    <tr>\n",
              "      <th>iso_a3</th>\n",
              "      <th></th>\n",
              "      <th></th>\n",
              "      <th></th>\n",
              "      <th></th>\n",
              "      <th></th>\n",
              "    </tr>\n",
              "  </thead>\n",
              "  <tbody>\n",
              "    <tr>\n",
              "      <th>FJI</th>\n",
              "      <td>920938</td>\n",
              "      <td>Oceania</td>\n",
              "      <td>Fiji</td>\n",
              "      <td>8374.0</td>\n",
              "      <td>MULTIPOLYGON (((180.00000 -16.06713, 180.00000...</td>\n",
              "    </tr>\n",
              "    <tr>\n",
              "      <th>TZA</th>\n",
              "      <td>53950935</td>\n",
              "      <td>Africa</td>\n",
              "      <td>Tanzania</td>\n",
              "      <td>150600.0</td>\n",
              "      <td>POLYGON ((33.90371 -0.95000, 34.07262 -1.05982...</td>\n",
              "    </tr>\n",
              "    <tr>\n",
              "      <th>ESH</th>\n",
              "      <td>603253</td>\n",
              "      <td>Africa</td>\n",
              "      <td>W. Sahara</td>\n",
              "      <td>906.5</td>\n",
              "      <td>POLYGON ((-8.66559 27.65643, -8.66512 27.58948...</td>\n",
              "    </tr>\n",
              "    <tr>\n",
              "      <th>CAN</th>\n",
              "      <td>35623680</td>\n",
              "      <td>North America</td>\n",
              "      <td>Canada</td>\n",
              "      <td>1674000.0</td>\n",
              "      <td>MULTIPOLYGON (((-122.84000 49.00000, -122.9742...</td>\n",
              "    </tr>\n",
              "    <tr>\n",
              "      <th>USA</th>\n",
              "      <td>326625791</td>\n",
              "      <td>North America</td>\n",
              "      <td>United States of America</td>\n",
              "      <td>18560000.0</td>\n",
              "      <td>MULTIPOLYGON (((-122.84000 49.00000, -120.0000...</td>\n",
              "    </tr>\n",
              "  </tbody>\n",
              "</table>\n",
              "</div>\n",
              "      <button class=\"colab-df-convert\" onclick=\"convertToInteractive('df-139965dd-7a0a-422a-b472-f2928eec649b')\"\n",
              "              title=\"Convert this dataframe to an interactive table.\"\n",
              "              style=\"display:none;\">\n",
              "        \n",
              "  <svg xmlns=\"http://www.w3.org/2000/svg\" height=\"24px\"viewBox=\"0 0 24 24\"\n",
              "       width=\"24px\">\n",
              "    <path d=\"M0 0h24v24H0V0z\" fill=\"none\"/>\n",
              "    <path d=\"M18.56 5.44l.94 2.06.94-2.06 2.06-.94-2.06-.94-.94-2.06-.94 2.06-2.06.94zm-11 1L8.5 8.5l.94-2.06 2.06-.94-2.06-.94L8.5 2.5l-.94 2.06-2.06.94zm10 10l.94 2.06.94-2.06 2.06-.94-2.06-.94-.94-2.06-.94 2.06-2.06.94z\"/><path d=\"M17.41 7.96l-1.37-1.37c-.4-.4-.92-.59-1.43-.59-.52 0-1.04.2-1.43.59L10.3 9.45l-7.72 7.72c-.78.78-.78 2.05 0 2.83L4 21.41c.39.39.9.59 1.41.59.51 0 1.02-.2 1.41-.59l7.78-7.78 2.81-2.81c.8-.78.8-2.07 0-2.86zM5.41 20L4 18.59l7.72-7.72 1.47 1.35L5.41 20z\"/>\n",
              "  </svg>\n",
              "      </button>\n",
              "      \n",
              "  <style>\n",
              "    .colab-df-container {\n",
              "      display:flex;\n",
              "      flex-wrap:wrap;\n",
              "      gap: 12px;\n",
              "    }\n",
              "\n",
              "    .colab-df-convert {\n",
              "      background-color: #E8F0FE;\n",
              "      border: none;\n",
              "      border-radius: 50%;\n",
              "      cursor: pointer;\n",
              "      display: none;\n",
              "      fill: #1967D2;\n",
              "      height: 32px;\n",
              "      padding: 0 0 0 0;\n",
              "      width: 32px;\n",
              "    }\n",
              "\n",
              "    .colab-df-convert:hover {\n",
              "      background-color: #E2EBFA;\n",
              "      box-shadow: 0px 1px 2px rgba(60, 64, 67, 0.3), 0px 1px 3px 1px rgba(60, 64, 67, 0.15);\n",
              "      fill: #174EA6;\n",
              "    }\n",
              "\n",
              "    [theme=dark] .colab-df-convert {\n",
              "      background-color: #3B4455;\n",
              "      fill: #D2E3FC;\n",
              "    }\n",
              "\n",
              "    [theme=dark] .colab-df-convert:hover {\n",
              "      background-color: #434B5C;\n",
              "      box-shadow: 0px 1px 3px 1px rgba(0, 0, 0, 0.15);\n",
              "      filter: drop-shadow(0px 1px 2px rgba(0, 0, 0, 0.3));\n",
              "      fill: #FFFFFF;\n",
              "    }\n",
              "  </style>\n",
              "\n",
              "      <script>\n",
              "        const buttonEl =\n",
              "          document.querySelector('#df-139965dd-7a0a-422a-b472-f2928eec649b button.colab-df-convert');\n",
              "        buttonEl.style.display =\n",
              "          google.colab.kernel.accessAllowed ? 'block' : 'none';\n",
              "\n",
              "        async function convertToInteractive(key) {\n",
              "          const element = document.querySelector('#df-139965dd-7a0a-422a-b472-f2928eec649b');\n",
              "          const dataTable =\n",
              "            await google.colab.kernel.invokeFunction('convertToInteractive',\n",
              "                                                     [key], {});\n",
              "          if (!dataTable) return;\n",
              "\n",
              "          const docLinkHtml = 'Like what you see? Visit the ' +\n",
              "            '<a target=\"_blank\" href=https://colab.research.google.com/notebooks/data_table.ipynb>data table notebook</a>'\n",
              "            + ' to learn more about interactive tables.';\n",
              "          element.innerHTML = '';\n",
              "          dataTable['output_type'] = 'display_data';\n",
              "          await google.colab.output.renderOutput(dataTable, element);\n",
              "          const docLink = document.createElement('div');\n",
              "          docLink.innerHTML = docLinkHtml;\n",
              "          element.appendChild(docLink);\n",
              "        }\n",
              "      </script>\n",
              "    </div>\n",
              "  </div>\n",
              "  "
            ]
          },
          "metadata": {},
          "execution_count": 12
        }
      ]
    },
    {
      "cell_type": "code",
      "source": [
        "#graficar el mapa\n",
        "world.name.unique()"
      ],
      "metadata": {
        "colab": {
          "base_uri": "https://localhost:8080/"
        },
        "id": "0qkBCMSUflw_",
        "outputId": "27a8aff8-e2c1-4caf-f1d8-3cce90ab412d"
      },
      "execution_count": null,
      "outputs": [
        {
          "output_type": "execute_result",
          "data": {
            "text/plain": [
              "array(['Fiji', 'Tanzania', 'W. Sahara', 'Canada',\n",
              "       'United States of America', 'Kazakhstan', 'Uzbekistan',\n",
              "       'Papua New Guinea', 'Indonesia', 'Argentina', 'Chile',\n",
              "       'Dem. Rep. Congo', 'Somalia', 'Kenya', 'Sudan', 'Chad', 'Haiti',\n",
              "       'Dominican Rep.', 'Russia', 'Bahamas', 'Falkland Is.', 'Norway',\n",
              "       'Greenland', 'Fr. S. Antarctic Lands', 'Timor-Leste',\n",
              "       'South Africa', 'Lesotho', 'Mexico', 'Uruguay', 'Brazil',\n",
              "       'Bolivia', 'Peru', 'Colombia', 'Panama', 'Costa Rica', 'Nicaragua',\n",
              "       'Honduras', 'El Salvador', 'Guatemala', 'Belize', 'Venezuela',\n",
              "       'Guyana', 'Suriname', 'France', 'Ecuador', 'Puerto Rico',\n",
              "       'Jamaica', 'Cuba', 'Zimbabwe', 'Botswana', 'Namibia', 'Senegal',\n",
              "       'Mali', 'Mauritania', 'Benin', 'Niger', 'Nigeria', 'Cameroon',\n",
              "       'Togo', 'Ghana', \"Côte d'Ivoire\", 'Guinea', 'Guinea-Bissau',\n",
              "       'Liberia', 'Sierra Leone', 'Burkina Faso', 'Central African Rep.',\n",
              "       'Congo', 'Gabon', 'Eq. Guinea', 'Zambia', 'Malawi', 'Mozambique',\n",
              "       'eSwatini', 'Angola', 'Burundi', 'Israel', 'Lebanon', 'Madagascar',\n",
              "       'Palestine', 'Gambia', 'Tunisia', 'Algeria', 'Jordan',\n",
              "       'United Arab Emirates', 'Qatar', 'Kuwait', 'Iraq', 'Oman',\n",
              "       'Vanuatu', 'Cambodia', 'Thailand', 'Laos', 'Myanmar', 'Vietnam',\n",
              "       'North Korea', 'South Korea', 'Mongolia', 'India', 'Bangladesh',\n",
              "       'Bhutan', 'Nepal', 'Pakistan', 'Afghanistan', 'Tajikistan',\n",
              "       'Kyrgyzstan', 'Turkmenistan', 'Iran', 'Syria', 'Armenia', 'Sweden',\n",
              "       'Belarus', 'Ukraine', 'Poland', 'Austria', 'Hungary', 'Moldova',\n",
              "       'Romania', 'Lithuania', 'Latvia', 'Estonia', 'Germany', 'Bulgaria',\n",
              "       'Greece', 'Turkey', 'Albania', 'Croatia', 'Switzerland',\n",
              "       'Luxembourg', 'Belgium', 'Netherlands', 'Portugal', 'Spain',\n",
              "       'Ireland', 'New Caledonia', 'Solomon Is.', 'New Zealand',\n",
              "       'Australia', 'Sri Lanka', 'China', 'Taiwan', 'Italy', 'Denmark',\n",
              "       'United Kingdom', 'Iceland', 'Azerbaijan', 'Georgia',\n",
              "       'Philippines', 'Malaysia', 'Brunei', 'Slovenia', 'Finland',\n",
              "       'Slovakia', 'Czechia', 'Eritrea', 'Japan', 'Paraguay', 'Yemen',\n",
              "       'Saudi Arabia', 'Antarctica', 'N. Cyprus', 'Cyprus', 'Morocco',\n",
              "       'Egypt', 'Libya', 'Ethiopia', 'Djibouti', 'Somaliland', 'Uganda',\n",
              "       'Rwanda', 'Bosnia and Herz.', 'Macedonia', 'Serbia', 'Montenegro',\n",
              "       'Kosovo', 'Trinidad and Tobago', 'S. Sudan'], dtype=object)"
            ]
          },
          "metadata": {},
          "execution_count": 13
        }
      ]
    },
    {
      "cell_type": "code",
      "source": [
        "fig, gax = plt.subplots(figsize=(10,10))\n",
        "\n",
        "# By only plotting rows in which the continent is 'South America' we only plot SA.\n",
        "world.query(\"name == 'United States of America'\").plot(ax=gax, edgecolor='black',color='white')\n",
        "\n",
        "# By the way, if you haven't read the book 'longitude' by Dava Sobel, you should...\n",
        "gax.set_xlabel('longitude')\n",
        "gax.set_ylabel('latitude')\n",
        "\n",
        "gax.spines['top'].set_visible(False)\n",
        "gax.spines['right'].set_visible(False)"
      ],
      "metadata": {
        "colab": {
          "base_uri": "https://localhost:8080/",
          "height": 476
        },
        "id": "swDogh7dfusl",
        "outputId": "478247b9-12d1-4873-8970-3b844be58f19"
      },
      "execution_count": null,
      "outputs": [
        {
          "output_type": "display_data",
          "data": {
            "text/plain": [
              "<Figure size 720x720 with 1 Axes>"
            ],
            "image/png": "[encoded data removed]"
          },
          "metadata": {}
        }
      ]
    },
    {
      "cell_type": "code",
      "source": [
        "# Step 3: Plot the cities onto the map\n",
        "# We mostly use the code from before --- we still want the country borders plotted --- and we\n",
        "# add a command to plot the cities\n",
        "fig, gax = plt.subplots(figsize=(10,10))\n",
        "\n",
        "# By only plotting rows in which the continent is 'South America' we only plot, well,\n",
        "# South America.\n",
        "world.query(\"name == 'United States of America'\").plot(ax = gax, edgecolor='black', color='white')\n",
        "\n",
        "# This plot the cities. It's the same syntax, but we are plotting from a different GeoDataFrame.\n",
        "# I want the cities as pale red dots.\n",
        "gdf.plot(ax=gax, color='red', alpha = 0.5)\n",
        "\n",
        "gax.set_xlabel('longitude')\n",
        "gax.set_ylabel('latitude')\n",
        "gax.set_title('Target en Estados Unidos')\n",
        "\n",
        "gax.spines['top'].set_visible(False)\n",
        "gax.spines['right'].set_visible(False)\n",
        "\n",
        "plt.show()"
      ],
      "metadata": {
        "colab": {
          "base_uri": "https://localhost:8080/",
          "height": 381
        },
        "id": "OR0ydTOvf_Xp",
        "outputId": "13201c8c-a299-4b81-d096-e0bca89d8ccc"
      },
      "execution_count": null,
      "outputs": [
        {
          "output_type": "display_data",
          "data": {
            "text/plain": [
              "<Figure size 720x720 with 1 Axes>"
            ],
            "image/png": "[encoded data removed]"
          },
          "metadata": {}
        }
      ]
    },
    {
      "cell_type": "markdown",
      "source": [
        "¿qué tal ahora?, tiene mayor sentido verdad, entonces los datos lejanos no eran atípicos, de aquí la importancia de ver los datos con el tipo de gráfica correcta.\n",
        "\n",
        "Ahora sí, implementa K means a los datos de latitud y longitud :) y encuentra donde colocar los almacenes. \n",
        "\n",
        "Nota: si te llama la atención implementar alguna otra visualización con otra librería, lo puedes hacer, no hay restricciones."
      ],
      "metadata": {
        "id": "SMkonhsqfgSf"
      }
    },
    {
      "cell_type": "markdown",
      "source": [
        "## **Preguntas de la actividad:**\n",
        "\n"
      ],
      "metadata": {
        "id": "_sG88FqOW8Fe"
      }
    },
    {
      "cell_type": "markdown",
      "source": [
        "##**1. Encuentra las latitudes y longitudes de los almacenes**"
      ],
      "metadata": {
        "id": "Ci27HSE4aVtk"
      }
    },
    {
      "cell_type": "code",
      "source": [
        "#almacenaremos en un Dataframe la latitud y longitud\n",
        "X = df[[\"latitude\",\"longitude\"]]\n",
        "X"
      ],
      "metadata": {
        "colab": {
          "base_uri": "https://localhost:8080/",
          "height": 424
        },
        "id": "p-OpFL38XiQC",
        "outputId": "4e8894df-6ab5-4dd1-a852-d54220c965ce"
      },
      "execution_count": null,
      "outputs": [
        {
          "output_type": "execute_result",
          "data": {
            "text/plain": [
              "       latitude   longitude\n",
              "0     33.224225  -86.804174\n",
              "1     33.334550  -86.989778\n",
              "2     30.602875  -87.895932\n",
              "3     34.560148  -86.971559\n",
              "4     31.266061  -85.446422\n",
              "...         ...         ...\n",
              "1834  43.034293  -88.176840\n",
              "1835  42.989604  -88.259806\n",
              "1836  42.846799 -106.264166\n",
              "1837  41.162019 -104.800048\n",
              "1838  43.469617 -110.789456\n",
              "\n",
              "[1839 rows x 2 columns]"
            ],
            "text/html": [
              "\n",
              "  <div id=\"df-d69dd437-4907-45ca-a74e-f35b85bfb33c\">\n",
              "    <div class=\"colab-df-container\">\n",
              "      <div>\n",
              "<style scoped>\n",
              "    .dataframe tbody tr th:only-of-type {\n",
              "        vertical-align: middle;\n",
              "    }\n",
              "\n",
              "    .dataframe tbody tr th {\n",
              "        vertical-align: top;\n",
              "    }\n",
              "\n",
              "    .dataframe thead th {\n",
              "        text-align: right;\n",
              "    }\n",
              "</style>\n",
              "<table border=\"1\" class=\"dataframe\">\n",
              "  <thead>\n",
              "    <tr style=\"text-align: right;\">\n",
              "      <th></th>\n",
              "      <th>latitude</th>\n",
              "      <th>longitude</th>\n",
              "    </tr>\n",
              "  </thead>\n",
              "  <tbody>\n",
              "    <tr>\n",
              "      <th>0</th>\n",
              "      <td>33.224225</td>\n",
              "      <td>-86.804174</td>\n",
              "    </tr>\n",
              "    <tr>\n",
              "      <th>1</th>\n",
              "      <td>33.334550</td>\n",
              "      <td>-86.989778</td>\n",
              "    </tr>\n",
              "    <tr>\n",
              "      <th>2</th>\n",
              "      <td>30.602875</td>\n",
              "      <td>-87.895932</td>\n",
              "    </tr>\n",
              "    <tr>\n",
              "      <th>3</th>\n",
              "      <td>34.560148</td>\n",
              "      <td>-86.971559</td>\n",
              "    </tr>\n",
              "    <tr>\n",
              "      <th>4</th>\n",
              "      <td>31.266061</td>\n",
              "      <td>-85.446422</td>\n",
              "    </tr>\n",
              "    <tr>\n",
              "      <th>...</th>\n",
              "      <td>...</td>\n",
              "      <td>...</td>\n",
              "    </tr>\n",
              "    <tr>\n",
              "      <th>1834</th>\n",
              "      <td>43.034293</td>\n",
              "      <td>-88.176840</td>\n",
              "    </tr>\n",
              "    <tr>\n",
              "      <th>1835</th>\n",
              "      <td>42.989604</td>\n",
              "      <td>-88.259806</td>\n",
              "    </tr>\n",
              "    <tr>\n",
              "      <th>1836</th>\n",
              "      <td>42.846799</td>\n",
              "      <td>-106.264166</td>\n",
              "    </tr>\n",
              "    <tr>\n",
              "      <th>1837</th>\n",
              "      <td>41.162019</td>\n",
              "      <td>-104.800048</td>\n",
              "    </tr>\n",
              "    <tr>\n",
              "      <th>1838</th>\n",
              "      <td>43.469617</td>\n",
              "      <td>-110.789456</td>\n",
              "    </tr>\n",
              "  </tbody>\n",
              "</table>\n",
              "<p>1839 rows × 2 columns</p>\n",
              "</div>\n",
              "      <button class=\"colab-df-convert\" onclick=\"convertToInteractive('df-d69dd437-4907-45ca-a74e-f35b85bfb33c')\"\n",
              "              title=\"Convert this dataframe to an interactive table.\"\n",
              "              style=\"display:none;\">\n",
              "        \n",
              "  <svg xmlns=\"http://www.w3.org/2000/svg\" height=\"24px\"viewBox=\"0 0 24 24\"\n",
              "       width=\"24px\">\n",
              "    <path d=\"M0 0h24v24H0V0z\" fill=\"none\"/>\n",
              "    <path d=\"M18.56 5.44l.94 2.06.94-2.06 2.06-.94-2.06-.94-.94-2.06-.94 2.06-2.06.94zm-11 1L8.5 8.5l.94-2.06 2.06-.94-2.06-.94L8.5 2.5l-.94 2.06-2.06.94zm10 10l.94 2.06.94-2.06 2.06-.94-2.06-.94-.94-2.06-.94 2.06-2.06.94z\"/><path d=\"M17.41 7.96l-1.37-1.37c-.4-.4-.92-.59-1.43-.59-.52 0-1.04.2-1.43.59L10.3 9.45l-7.72 7.72c-.78.78-.78 2.05 0 2.83L4 21.41c.39.39.9.59 1.41.59.51 0 1.02-.2 1.41-.59l7.78-7.78 2.81-2.81c.8-.78.8-2.07 0-2.86zM5.41 20L4 18.59l7.72-7.72 1.47 1.35L5.41 20z\"/>\n",
              "  </svg>\n",
              "      </button>\n",
              "      \n",
              "  <style>\n",
              "    .colab-df-container {\n",
              "      display:flex;\n",
              "      flex-wrap:wrap;\n",
              "      gap: 12px;\n",
              "    }\n",
              "\n",
              "    .colab-df-convert {\n",
              "      background-color: #E8F0FE;\n",
              "      border: none;\n",
              "      border-radius: 50%;\n",
              "      cursor: pointer;\n",
              "      display: none;\n",
              "      fill: #1967D2;\n",
              "      height: 32px;\n",
              "      padding: 0 0 0 0;\n",
              "      width: 32px;\n",
              "    }\n",
              "\n",
              "    .colab-df-convert:hover {\n",
              "      background-color: #E2EBFA;\n",
              "      box-shadow: 0px 1px 2px rgba(60, 64, 67, 0.3), 0px 1px 3px 1px rgba(60, 64, 67, 0.15);\n",
              "      fill: #174EA6;\n",
              "    }\n",
              "\n",
              "    [theme=dark] .colab-df-convert {\n",
              "      background-color: #3B4455;\n",
              "      fill: #D2E3FC;\n",
              "    }\n",
              "\n",
              "    [theme=dark] .colab-df-convert:hover {\n",
              "      background-color: #434B5C;\n",
              "      box-shadow: 0px 1px 3px 1px rgba(0, 0, 0, 0.15);\n",
              "      filter: drop-shadow(0px 1px 2px rgba(0, 0, 0, 0.3));\n",
              "      fill: #FFFFFF;\n",
              "    }\n",
              "  </style>\n",
              "\n",
              "      <script>\n",
              "        const buttonEl =\n",
              "          document.querySelector('#df-d69dd437-4907-45ca-a74e-f35b85bfb33c button.colab-df-convert');\n",
              "        buttonEl.style.display =\n",
              "          google.colab.kernel.accessAllowed ? 'block' : 'none';\n",
              "\n",
              "        async function convertToInteractive(key) {\n",
              "          const element = document.querySelector('#df-d69dd437-4907-45ca-a74e-f35b85bfb33c');\n",
              "          const dataTable =\n",
              "            await google.colab.kernel.invokeFunction('convertToInteractive',\n",
              "                                                     [key], {});\n",
              "          if (!dataTable) return;\n",
              "\n",
              "          const docLinkHtml = 'Like what you see? Visit the ' +\n",
              "            '<a target=\"_blank\" href=https://colab.research.google.com/notebooks/data_table.ipynb>data table notebook</a>'\n",
              "            + ' to learn more about interactive tables.';\n",
              "          element.innerHTML = '';\n",
              "          dataTable['output_type'] = 'display_data';\n",
              "          await google.colab.output.renderOutput(dataTable, element);\n",
              "          const docLink = document.createElement('div');\n",
              "          docLink.innerHTML = docLinkHtml;\n",
              "          element.appendChild(docLink);\n",
              "        }\n",
              "      </script>\n",
              "    </div>\n",
              "  </div>\n",
              "  "
            ]
          },
          "metadata": {},
          "execution_count": 16
        }
      ]
    },
    {
      "cell_type": "markdown",
      "source": [
        "####**1.1 ¿que ciudad es?**"
      ],
      "metadata": {
        "id": "C6fLS3NcaasH"
      }
    },
    {
      "cell_type": "markdown",
      "source": [
        "Las ciudades en el territorio de los Estados Unidos son:\n",
        "* Virginia.\n",
        "* California.\n",
        "* Missouri."
      ],
      "metadata": {
        "id": "332GcFmLah0X"
      }
    },
    {
      "cell_type": "markdown",
      "source": [
        "####**1.2 ¿a cuantas tiendas va surtir?**"
      ],
      "metadata": {
        "id": "HbwUXMJbaxlP"
      }
    },
    {
      "cell_type": "markdown",
      "source": [
        "De acuerdo a los hallazgos:\n",
        "\n",
        "* Almacen 1: Surte a 826 tiendas.\n",
        "* Almacen 2: Surte a 628 tiendas.\n",
        "* Almacen 3: surte a 385 tiendas."
      ],
      "metadata": {
        "id": "Fa02WSW2a4m3"
      }
    },
    {
      "cell_type": "markdown",
      "source": [
        "####**1.3 ¿A que distancia estarán?**"
      ],
      "metadata": {
        "id": "6mUwuktnbkE6"
      }
    },
    {
      "cell_type": "markdown",
      "source": [
        "De la tienda 1 a la tienda 2 tenemos 2179.65 Millas de diferencia, mientras que de la tienda 2 a la tienda 3 tenemos 805.92"
      ],
      "metadata": {
        "id": "wK77r75gcxpF"
      }
    },
    {
      "cell_type": "markdown",
      "source": [
        "![image.png](data:image/png;base64,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)"
      ],
      "metadata": {
        "id": "zlq4xamqcUND"
      }
    },
    {
      "cell_type": "markdown",
      "source": [
        "##**2. ¿Cómo elegiste el numero de almacenes?, justifica tu respuesta tecnicamente.**"
      ],
      "metadata": {
        "id": "xmcj7v3ndEWB"
      }
    },
    {
      "cell_type": "markdown",
      "source": [
        "De acuerdo a la bibliografia suministrada y leyendo un poco, encontre que existía algo llamado el metodo de codo, el cual permite mediante diferentes valores de k, producir una función de costo, de acuerdo al incremento del valor k, podemos tener disminución en ciertas distorciones, pero así mismo si mejora la distorción promedio, mejorara nuestros resultados al momento de dividir nuestros datos, y también gracias a los metodos realizados a continuación, como la curva de codo podemos apoyarnos visualmente en el proceso. "
      ],
      "metadata": {
        "id": "-ReJtmY-dRNj"
      }
    },
    {
      "cell_type": "code",
      "source": [
        "#Para este paso importaremos la libreria de sklearn cluster para trabajar con kmeans\n",
        "from sklearn.cluster import KMeans\n",
        "X = df[[\"longitude\",\"latitude\"]]\n",
        "\n",
        "#De esta manera definiremos nuestra elbow curve para determinar la cantidad optima de clusters que vamos a requerir.\n",
        "Nc = range(1, 20)\n",
        "kmeans = [KMeans(n_clusters=i) for i in Nc]\n",
        "kmeans\n",
        "score = [kmeans[i].fit(X).score(X) for i in range(len(kmeans))]\n",
        "score\n",
        "plt.subplots(figsize=(10,10))\n",
        "plt.plot(Nc,score)\n",
        "plt.xlabel('Number of Clusters')\n",
        "plt.ylabel('Score')\n",
        "plt.title('Elbow Curve')\n",
        "plt.show()\n"
      ],
      "metadata": {
        "colab": {
          "base_uri": "https://localhost:8080/",
          "height": 645
        },
        "id": "HwfGA4CbXvR_",
        "outputId": "46765fa6-7d9e-4ff8-9202-9eb27267d87b"
      },
      "execution_count": null,
      "outputs": [
        {
          "output_type": "display_data",
          "data": {
            "text/plain": [
              "<Figure size 720x720 with 1 Axes>"
            ],
            "image/png": "[encoded data removed]"
          },
          "metadata": {}
        }
      ]
    },
    {
      "cell_type": "code",
      "source": [
        "#Ahora vamos a poder elegir los 3 clusters que nos daran las coordenadas para las tiendas que decidiremos poner\n",
        "kmeans = KMeans(n_clusters=3).fit(X)\n",
        "centroids = kmeans.cluster_centers_\n",
        "labels = kmeans.predict(X)\n",
        "C = kmeans.cluster_centers_\n",
        "\n",
        "C_DF = pd.DataFrame(C)\n",
        "C_DF[\"Coordinates\"] = list(zip(C_DF[0], C_DF[1]))\n",
        "C_DF[\"Coordinates\"] = C_DF[\"Coordinates\"].apply(Point)\n",
        "\n",
        "\n",
        "gdf_C = gpd.GeoDataFrame(C_DF, geometry=\"Coordinates\")\n",
        "gdf_C"
      ],
      "metadata": {
        "colab": {
          "base_uri": "https://localhost:8080/",
          "height": 143
        },
        "id": "nVxvsHWBYQJ4",
        "outputId": "7cc40bd8-d8c6-45ed-ef2e-016310f9a1de"
      },
      "execution_count": null,
      "outputs": [
        {
          "output_type": "execute_result",
          "data": {
            "text/plain": [
              "            0          1                  Coordinates\n",
              "0  -78.569908  37.789554   POINT (-78.56991 37.78955)\n",
              "1 -118.624473  37.487342  POINT (-118.62447 37.48734)\n",
              "2  -93.327172  37.980063   POINT (-93.32717 37.98006)"
            ],
            "text/html": [
              "\n",
              "  <div id=\"df-bab7e0d6-3f94-4ead-a68c-5e4a1cf38cae\">\n",
              "    <div class=\"colab-df-container\">\n",
              "      <div>\n",
              "<style scoped>\n",
              "    .dataframe tbody tr th:only-of-type {\n",
              "        vertical-align: middle;\n",
              "    }\n",
              "\n",
              "    .dataframe tbody tr th {\n",
              "        vertical-align: top;\n",
              "    }\n",
              "\n",
              "    .dataframe thead th {\n",
              "        text-align: right;\n",
              "    }\n",
              "</style>\n",
              "<table border=\"1\" class=\"dataframe\">\n",
              "  <thead>\n",
              "    <tr style=\"text-align: right;\">\n",
              "      <th></th>\n",
              "      <th>0</th>\n",
              "      <th>1</th>\n",
              "      <th>Coordinates</th>\n",
              "    </tr>\n",
              "  </thead>\n",
              "  <tbody>\n",
              "    <tr>\n",
              "      <th>0</th>\n",
              "      <td>-78.569908</td>\n",
              "      <td>37.789554</td>\n",
              "      <td>POINT (-78.56991 37.78955)</td>\n",
              "    </tr>\n",
              "    <tr>\n",
              "      <th>1</th>\n",
              "      <td>-118.624473</td>\n",
              "      <td>37.487342</td>\n",
              "      <td>POINT (-118.62447 37.48734)</td>\n",
              "    </tr>\n",
              "    <tr>\n",
              "      <th>2</th>\n",
              "      <td>-93.327172</td>\n",
              "      <td>37.980063</td>\n",
              "      <td>POINT (-93.32717 37.98006)</td>\n",
              "    </tr>\n",
              "  </tbody>\n",
              "</table>\n",
              "</div>\n",
              "      <button class=\"colab-df-convert\" onclick=\"convertToInteractive('df-bab7e0d6-3f94-4ead-a68c-5e4a1cf38cae')\"\n",
              "              title=\"Convert this dataframe to an interactive table.\"\n",
              "              style=\"display:none;\">\n",
              "        \n",
              "  <svg xmlns=\"http://www.w3.org/2000/svg\" height=\"24px\"viewBox=\"0 0 24 24\"\n",
              "       width=\"24px\">\n",
              "    <path d=\"M0 0h24v24H0V0z\" fill=\"none\"/>\n",
              "    <path d=\"M18.56 5.44l.94 2.06.94-2.06 2.06-.94-2.06-.94-.94-2.06-.94 2.06-2.06.94zm-11 1L8.5 8.5l.94-2.06 2.06-.94-2.06-.94L8.5 2.5l-.94 2.06-2.06.94zm10 10l.94 2.06.94-2.06 2.06-.94-2.06-.94-.94-2.06-.94 2.06-2.06.94z\"/><path d=\"M17.41 7.96l-1.37-1.37c-.4-.4-.92-.59-1.43-.59-.52 0-1.04.2-1.43.59L10.3 9.45l-7.72 7.72c-.78.78-.78 2.05 0 2.83L4 21.41c.39.39.9.59 1.41.59.51 0 1.02-.2 1.41-.59l7.78-7.78 2.81-2.81c.8-.78.8-2.07 0-2.86zM5.41 20L4 18.59l7.72-7.72 1.47 1.35L5.41 20z\"/>\n",
              "  </svg>\n",
              "      </button>\n",
              "      \n",
              "  <style>\n",
              "    .colab-df-container {\n",
              "      display:flex;\n",
              "      flex-wrap:wrap;\n",
              "      gap: 12px;\n",
              "    }\n",
              "\n",
              "    .colab-df-convert {\n",
              "      background-color: #E8F0FE;\n",
              "      border: none;\n",
              "      border-radius: 50%;\n",
              "      cursor: pointer;\n",
              "      display: none;\n",
              "      fill: #1967D2;\n",
              "      height: 32px;\n",
              "      padding: 0 0 0 0;\n",
              "      width: 32px;\n",
              "    }\n",
              "\n",
              "    .colab-df-convert:hover {\n",
              "      background-color: #E2EBFA;\n",
              "      box-shadow: 0px 1px 2px rgba(60, 64, 67, 0.3), 0px 1px 3px 1px rgba(60, 64, 67, 0.15);\n",
              "      fill: #174EA6;\n",
              "    }\n",
              "\n",
              "    [theme=dark] .colab-df-convert {\n",
              "      background-color: #3B4455;\n",
              "      fill: #D2E3FC;\n",
              "    }\n",
              "\n",
              "    [theme=dark] .colab-df-convert:hover {\n",
              "      background-color: #434B5C;\n",
              "      box-shadow: 0px 1px 3px 1px rgba(0, 0, 0, 0.15);\n",
              "      filter: drop-shadow(0px 1px 2px rgba(0, 0, 0, 0.3));\n",
              "      fill: #FFFFFF;\n",
              "    }\n",
              "  </style>\n",
              "\n",
              "      <script>\n",
              "        const buttonEl =\n",
              "          document.querySelector('#df-bab7e0d6-3f94-4ead-a68c-5e4a1cf38cae button.colab-df-convert');\n",
              "        buttonEl.style.display =\n",
              "          google.colab.kernel.accessAllowed ? 'block' : 'none';\n",
              "\n",
              "        async function convertToInteractive(key) {\n",
              "          const element = document.querySelector('#df-bab7e0d6-3f94-4ead-a68c-5e4a1cf38cae');\n",
              "          const dataTable =\n",
              "            await google.colab.kernel.invokeFunction('convertToInteractive',\n",
              "                                                     [key], {});\n",
              "          if (!dataTable) return;\n",
              "\n",
              "          const docLinkHtml = 'Like what you see? Visit the ' +\n",
              "            '<a target=\"_blank\" href=https://colab.research.google.com/notebooks/data_table.ipynb>data table notebook</a>'\n",
              "            + ' to learn more about interactive tables.';\n",
              "          element.innerHTML = '';\n",
              "          dataTable['output_type'] = 'display_data';\n",
              "          await google.colab.output.renderOutput(dataTable, element);\n",
              "          const docLink = document.createElement('div');\n",
              "          docLink.innerHTML = docLinkHtml;\n",
              "          element.appendChild(docLink);\n",
              "        }\n",
              "      </script>\n",
              "    </div>\n",
              "  </div>\n",
              "  "
            ]
          },
          "metadata": {},
          "execution_count": 18
        }
      ]
    },
    {
      "cell_type": "code",
      "source": [
        "#Vamos a graficar en el mapa de estados unidos unicamente.\n",
        "fig, gax = plt.subplots(figsize=(15,10))\n",
        "world.query(\"name == 'United States of America'\").plot(ax = gax, edgecolor='black', color='white')\n",
        "\n",
        "#Las ubicaciones actuales de las tiendas seran en rojo, mientras que las que pondremos estarán en negro\n",
        "gdf.plot(ax=gax, color='red', alpha = 0.5)\n",
        "gdf_C.plot(ax=gax, color='black', alpha = 1, markersize = 300)\n",
        "\n",
        "gax.set_xlabel('longitude')\n",
        "gax.set_ylabel('latitude')\n",
        "gax.set_title('Target in USA')\n",
        "\n",
        "gax.spines['top'].set_visible(False)\n",
        "gax.spines['right'].set_visible(False)\n",
        "\n",
        "plt.show()"
      ],
      "metadata": {
        "colab": {
          "base_uri": "https://localhost:8080/",
          "height": 520
        },
        "id": "MUKGxLuTYhau",
        "outputId": "dc4d2cee-ced1-4344-c138-7d792b3da4ec"
      },
      "execution_count": null,
      "outputs": [
        {
          "output_type": "display_data",
          "data": {
            "text/plain": [
              "<Figure size 1080x720 with 1 Axes>"
            ],
            "image/png": "[encoded data removed]"
          },
          "metadata": {}
        }
      ]
    },
    {
      "cell_type": "code",
      "source": [
        "#Realizaremos el conteo de tiendas por cluster\n",
        "latlong['kmeans'] = kmeans.labels_\n",
        "latlong.loc[:, 'kmeans'].value_counts()"
      ],
      "metadata": {
        "id": "XFG8r6MUZOXs"
      },
      "execution_count": null,
      "outputs": []
    },
    {
      "cell_type": "code",
      "source": [
        "#Si recordamos las coordenadas que obtuvimos arriba, vamos a determinar en donde se encuentran exactamente, para lo cual es importante realizar una concatenación de la latitud y longitud.\n",
        "from pandas.core.internals.concat import concat_arrays\n",
        "\n",
        "print(gdf_C[0][0])\n",
        "print(gdf_C[1][0])\n",
        "\n",
        "Location1 = str(gdf_C[1][0]) + \", \" + str(gdf_C[0][0])\n",
        "print(Location1)\n",
        "Location2 = str(gdf_C[1][1]) + \", \" + str(gdf_C[0][1])\n",
        "print(Location2)\n",
        "Location3 = str(gdf_C[1][2]) + \", \" + str(gdf_C[0][2])\n",
        "print(Location3)"
      ],
      "metadata": {
        "id": "66_i2anZZXSC"
      },
      "execution_count": null,
      "outputs": []
    },
    {
      "cell_type": "code",
      "source": [
        "#posteriormente, mediante la libreria geopy podemos tomar estos datos concatenados y apartir de su ubicación determinar la distancia a la que se encuentra cada uno. \n",
        "from geopy.geocoders.yandex import Location\n",
        "from geopy.geocoders import Nominatim\n",
        "from geopy.distance import geodesic\n",
        "\n",
        "geolocator = Nominatim(user_agent=\"my-application\")\n",
        "Locations = [Location1, Location2, Location3]\n",
        "for i in Locations:\n",
        "  location = geolocator.reverse(i)\n",
        "\n",
        "  print(location.address)\n",
        "\n",
        "locations1 = geolocator.reverse(Location1)\n",
        "locations2 = geolocator.reverse(Location2)\n",
        "\n",
        "distancia1 = str(geodesic(Location1, Location2).miles)\n",
        "print(\"\\nDistancia entre el primer y segundo almacén : \", distancia1, \" Millas \\n\")\n",
        "distancia2 = str(geodesic(Location2, Location3).miles)\n",
        "print(\"Distancia entre el segundo y tercer almacén : \", distancia2, \" Millas \\n\")\n"
      ],
      "metadata": {
        "id": "2BFHyFnIZprJ"
      },
      "execution_count": null,
      "outputs": []
    },
    {
      "cell_type": "markdown",
      "source": [
        "##**3. Adicionalmente, en el notebook notaras que al inicio exploramos los datos y los graficamos de manera simple, despues nos auxiliamos de una librería de datos geograficos.**\n",
        "\n"
      ],
      "metadata": {
        "id": "ZraaXxZ9XAtM"
      }
    },
    {
      "cell_type": "markdown",
      "source": [
        "###**3.1 ¿qué librerías nos pueden ayudar a graficar este tipo de datos?**\n"
      ],
      "metadata": {
        "id": "L6Ltsb-drKGd"
      }
    },
    {
      "cell_type": "markdown",
      "source": [
        "Realmente en esta practica pude conocer estas dos librerias utilizadas y me sorprendío el potencial que tienen y estoy seguro que aun falta más por decubrir de ellas antes de utilizar otra, ya que actualmente en mi trabajo cuando tengo que realizar algún analisis geografico, me apoyo de las herramientas de Power BI para hacerlo. "
      ],
      "metadata": {
        "id": "ypwYJCJlrP9-"
      }
    },
    {
      "cell_type": "markdown",
      "source": [
        "##**3.2 ¿Consideras importante que se grafique en un mapa?, ¿por qué?**\n"
      ],
      "metadata": {
        "id": "RhgGmbwUrLu0"
      }
    },
    {
      "cell_type": "markdown",
      "source": [
        "Siempre deberíamos considerar en primera instancia graficar tanto como podamos, ya que tenemos que pensar que nuestros analisis finalmente estarán en manos de personas que posiblemente no dominen del todo las habilidades de codigo, lo cual hace importante, poder entregarles información visualmente comprensible, y para el caso de esta practica, desde el contexto del problema podíamos determinar que el camino correcto para irnos sería mediante el analisis de coordenadas y que mejor forma para representarlo que un mapa."
      ],
      "metadata": {
        "id": "y82TWvMBrlzv"
      }
    },
    {
      "cell_type": "markdown",
      "source": [
        "##**4. Agrega las conclusiones**"
      ],
      "metadata": {
        "id": "qi2j2fRXrivf"
      }
    },
    {
      "cell_type": "markdown",
      "source": [
        "De la siguiente practica aprendí lo siguiente: \n",
        "\n",
        "* Este ejemplo aterrizado a una situación de la vida real, aunque sea para Estados Unidos, me permitío adquirir herramientas para intentar hacer lo mismo con alguna empresa de mi pais, debido que los conocimientos adquiridos tanto como en las librerias para graficar, así como en la manera de encontrar puntos geograficos, abre un mundo de poisibilidades.\n",
        "* Respecto a la tematica de los k-means, es muy valioso entender su concepto de agrupar datos permite profundizar en su uso durante la vida cotidiana, ademas que observando lo que buscan las compañias para contrar un cientifico o analista de datos, es muy mencionado como habilidad que brinda un plus. "
      ],
      "metadata": {
        "id": "auOuySO4sAeQ"
      }
    }
  ]
}