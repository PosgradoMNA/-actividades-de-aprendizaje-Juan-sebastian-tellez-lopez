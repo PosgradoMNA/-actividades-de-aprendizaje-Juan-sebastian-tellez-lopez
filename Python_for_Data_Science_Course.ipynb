{
  "nbformat": 4,
  "nbformat_minor": 0,
  "metadata": {
    "colab": {
      "provenance": [],
      "authorship_tag": "ABX9TyOpjewMDl2E6fXEn+q0eaLs",
      "include_colab_link": true
    },
    "kernelspec": {
      "name": "python3",
      "display_name": "Python 3"
    },
    "language_info": {
      "name": "python"
    }
  },
  "cells": [
    {
      "cell_type": "markdown",
      "metadata": {
        "id": "view-in-github",
        "colab_type": "text"
      },
      "source": [
        "<a href=\"https://colab.research.google.com/github/PosgradoMNA/Actividades-de-aprendizaje-Juan-sebastian-tellez-lopez/blob/main/Python_for_Data_Science_Course.ipynb\" target=\"_parent\"><img src=\"https://colab.research.google.com/assets/colab-badge.svg\" alt=\"Open In Colab\"/></a>"
      ]
    },
    {
      "cell_type": "markdown",
      "source": [
        "Juan Sebastián Téllez López.\n",
        "A01793859"
      ],
      "metadata": {
        "id": "RZFS6Ha931r4"
      }
    },
    {
      "cell_type": "code",
      "source": [],
      "metadata": {
        "id": "yC_xqUbK39wT"
      },
      "execution_count": null,
      "outputs": []
    }
  ]
}