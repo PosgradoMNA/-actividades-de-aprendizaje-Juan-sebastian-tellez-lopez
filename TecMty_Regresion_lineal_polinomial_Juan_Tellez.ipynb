{
  "nbformat": 4,
  "nbformat_minor": 0,
  "metadata": {
    "kernelspec": {
      "display_name": "Python 3",
      "language": "python",
      "name": "python3"
    },
    "language_info": {
      "codemirror_mode": {
        "name": "ipython",
        "version": 3
      },
      "file_extension": ".py",
      "mimetype": "text/x-python",
      "name": "python",
      "nbconvert_exporter": "python",
      "pygments_lexer": "ipython3",
      "version": "3.7.7"
    },
    "colab": {
      "provenance": [],
      "include_colab_link": true
    },
    "accelerator": "GPU"
  },
  "cells": [
    {
      "cell_type": "markdown",
      "metadata": {
        "id": "view-in-github",
        "colab_type": "text"
      },
      "source": [
        "<a href=\"https://colab.research.google.com/github/PosgradoMNA/Actividades-de-aprendizaje-Juan-sebastian-tellez-lopez/blob/main/TecMty_Regresion_lineal_polinomial_Juan_Tellez.ipynb\" target=\"_parent\"><img src=\"https://colab.research.google.com/assets/colab-badge.svg\" alt=\"Open In Colab\"/></a>"
      ]
    },
    {
      "cell_type": "markdown",
      "metadata": {
        "id": "WUO-kdryVQwK"
      },
      "source": [
        "# Linear Models\n",
        "\n",
        "**Actividad repaso de regresiones kmeans de la semana 7**\n",
        "\n",
        "**Maestría en Inteligencia Artificial Aplicada**\n",
        "\n",
        "**Curso: Ciencia y analítica de datos**\n",
        "\n",
        "**Tecnológico de Monterrey**\n",
        "\n",
        "**Prof Maria de la Paz Rico Fdz** \n",
        "\n",
        "**Nombre del estudiante: Juan Sebastián Téllez López**\n",
        "\n",
        "**Matrícula: A01793859** \n",
        "\n",
        "**Fecha: Noviembre 5/2022**\n"
      ]
    },
    {
      "cell_type": "markdown",
      "metadata": {
        "id": "u3ytB4LpVQwM"
      },
      "source": [
        "- In supervised learning, the training data fed to the algorithm includes the desired solutions, called labels. \n",
        "- In **regression**, the labels are continuous quantities.\n",
        "- Linear models predict by computing a weighted sum of input features plus a bias term."
      ]
    },
    {
      "cell_type": "code",
      "metadata": {
        "id": "HMp_I4Y6VQwN"
      },
      "source": [
        "import numpy as np\n",
        "%matplotlib inline\n",
        "import matplotlib\n",
        "import matplotlib.pyplot as plt\n",
        "import pandas as pd\n",
        "import seaborn as sns\n",
        "# to make this notebook's output stable across runs\n",
        "np.random.seed(42)"
      ],
      "execution_count": 1,
      "outputs": []
    },
    {
      "cell_type": "code",
      "source": [
        "5-2"
      ],
      "metadata": {
        "colab": {
          "base_uri": "https://localhost:8080/"
        },
        "id": "exg6xSYf3F5D",
        "outputId": "5bd06b16-ee28-4a87-fd9d-fca0167180b9"
      },
      "execution_count": 2,
      "outputs": [
        {
          "output_type": "execute_result",
          "data": {
            "text/plain": [
              "3"
            ]
          },
          "metadata": {},
          "execution_count": 2
        }
      ]
    },
    {
      "cell_type": "markdown",
      "metadata": {
        "id": "szpzFXgiVQwN"
      },
      "source": [
        "## Simple Linear Regression\n",
        "\n",
        "Simple linear regression equation:\n",
        "\n",
        "$y = ax + b$\n",
        "<br>\n",
        "$a$: slope\n",
        "<br>\n",
        "$b$: intercept\n",
        "\n",
        "Generate linear-looking data with the equation:\n",
        "\n",
        "$y = 3X + 4 + noise$"
      ]
    },
    {
      "cell_type": "code",
      "metadata": {
        "colab": {
          "base_uri": "https://localhost:8080/"
        },
        "id": "mitJFYeiMQqD",
        "outputId": "035459b1-8ad2-4d8e-8a01-36ba2af1824f"
      },
      "source": [
        "np.random.rand(100, 1)"
      ],
      "execution_count": 3,
      "outputs": [
        {
          "output_type": "execute_result",
          "data": {
            "text/plain": [
              "array([[0.37454012],\n",
              "       [0.95071431],\n",
              "       [0.73199394],\n",
              "       [0.59865848],\n",
              "       [0.15601864],\n",
              "       [0.15599452],\n",
              "       [0.05808361],\n",
              "       [0.86617615],\n",
              "       [0.60111501],\n",
              "       [0.70807258],\n",
              "       [0.02058449],\n",
              "       [0.96990985],\n",
              "       [0.83244264],\n",
              "       [0.21233911],\n",
              "       [0.18182497],\n",
              "       [0.18340451],\n",
              "       [0.30424224],\n",
              "       [0.52475643],\n",
              "       [0.43194502],\n",
              "       [0.29122914],\n",
              "       [0.61185289],\n",
              "       [0.13949386],\n",
              "       [0.29214465],\n",
              "       [0.36636184],\n",
              "       [0.45606998],\n",
              "       [0.78517596],\n",
              "       [0.19967378],\n",
              "       [0.51423444],\n",
              "       [0.59241457],\n",
              "       [0.04645041],\n",
              "       [0.60754485],\n",
              "       [0.17052412],\n",
              "       [0.06505159],\n",
              "       [0.94888554],\n",
              "       [0.96563203],\n",
              "       [0.80839735],\n",
              "       [0.30461377],\n",
              "       [0.09767211],\n",
              "       [0.68423303],\n",
              "       [0.44015249],\n",
              "       [0.12203823],\n",
              "       [0.49517691],\n",
              "       [0.03438852],\n",
              "       [0.9093204 ],\n",
              "       [0.25877998],\n",
              "       [0.66252228],\n",
              "       [0.31171108],\n",
              "       [0.52006802],\n",
              "       [0.54671028],\n",
              "       [0.18485446],\n",
              "       [0.96958463],\n",
              "       [0.77513282],\n",
              "       [0.93949894],\n",
              "       [0.89482735],\n",
              "       [0.59789998],\n",
              "       [0.92187424],\n",
              "       [0.0884925 ],\n",
              "       [0.19598286],\n",
              "       [0.04522729],\n",
              "       [0.32533033],\n",
              "       [0.38867729],\n",
              "       [0.27134903],\n",
              "       [0.82873751],\n",
              "       [0.35675333],\n",
              "       [0.28093451],\n",
              "       [0.54269608],\n",
              "       [0.14092422],\n",
              "       [0.80219698],\n",
              "       [0.07455064],\n",
              "       [0.98688694],\n",
              "       [0.77224477],\n",
              "       [0.19871568],\n",
              "       [0.00552212],\n",
              "       [0.81546143],\n",
              "       [0.70685734],\n",
              "       [0.72900717],\n",
              "       [0.77127035],\n",
              "       [0.07404465],\n",
              "       [0.35846573],\n",
              "       [0.11586906],\n",
              "       [0.86310343],\n",
              "       [0.62329813],\n",
              "       [0.33089802],\n",
              "       [0.06355835],\n",
              "       [0.31098232],\n",
              "       [0.32518332],\n",
              "       [0.72960618],\n",
              "       [0.63755747],\n",
              "       [0.88721274],\n",
              "       [0.47221493],\n",
              "       [0.11959425],\n",
              "       [0.71324479],\n",
              "       [0.76078505],\n",
              "       [0.5612772 ],\n",
              "       [0.77096718],\n",
              "       [0.4937956 ],\n",
              "       [0.52273283],\n",
              "       [0.42754102],\n",
              "       [0.02541913],\n",
              "       [0.10789143]])"
            ]
          },
          "metadata": {},
          "execution_count": 3
        }
      ]
    },
    {
      "cell_type": "code",
      "metadata": {
        "colab": {
          "base_uri": "https://localhost:8080/",
          "height": 265
        },
        "id": "QyubE1VEVQwN",
        "outputId": "6d0efbfc-b717-497a-edbf-6cda592ee756"
      },
      "source": [
        "X = 2*np.random.rand(100, 1)\n",
        "y = 4 + 3 * X + np.random.randn(100, 1)\n",
        "plt.scatter(X, y);"
      ],
      "execution_count": 4,
      "outputs": [
        {
          "output_type": "display_data",
          "data": {
            "text/plain": [
              "<Figure size 432x288 with 1 Axes>"
            ],
            "image/png": "[encoded data removed]"
          },
          "metadata": {
            "needs_background": "light"
          }
        }
      ]
    },
    {
      "cell_type": "code",
      "source": [
        "import pandas as pd\n",
        "pd.DataFrame(y)"
      ],
      "metadata": {
        "colab": {
          "base_uri": "https://localhost:8080/",
          "height": 424
        },
        "id": "M5kaENJ4bZY5",
        "outputId": "59850278-00ac-4766-81f9-43e917543baf"
      },
      "execution_count": 5,
      "outputs": [
        {
          "output_type": "execute_result",
          "data": {
            "text/plain": [
              "            0\n",
              "0    3.508550\n",
              "1    8.050716\n",
              "2    6.179208\n",
              "3    6.337073\n",
              "4   11.311173\n",
              "..        ...\n",
              "95   5.441928\n",
              "96  10.121188\n",
              "97   9.787643\n",
              "98   8.061635\n",
              "99   9.597115\n",
              "\n",
              "[100 rows x 1 columns]"
            ],
            "text/html": [
              "\n",
              "  <div id=\"df-37c735a3-aed9-4640-bcb5-2caafd4996d4\">\n",
              "    <div class=\"colab-df-container\">\n",
              "      <div>\n",
              "<style scoped>\n",
              "    .dataframe tbody tr th:only-of-type {\n",
              "        vertical-align: middle;\n",
              "    }\n",
              "\n",
              "    .dataframe tbody tr th {\n",
              "        vertical-align: top;\n",
              "    }\n",
              "\n",
              "    .dataframe thead th {\n",
              "        text-align: right;\n",
              "    }\n",
              "</style>\n",
              "<table border=\"1\" class=\"dataframe\">\n",
              "  <thead>\n",
              "    <tr style=\"text-align: right;\">\n",
              "      <th></th>\n",
              "      <th>0</th>\n",
              "    </tr>\n",
              "  </thead>\n",
              "  <tbody>\n",
              "    <tr>\n",
              "      <th>0</th>\n",
              "      <td>3.508550</td>\n",
              "    </tr>\n",
              "    <tr>\n",
              "      <th>1</th>\n",
              "      <td>8.050716</td>\n",
              "    </tr>\n",
              "    <tr>\n",
              "      <th>2</th>\n",
              "      <td>6.179208</td>\n",
              "    </tr>\n",
              "    <tr>\n",
              "      <th>3</th>\n",
              "      <td>6.337073</td>\n",
              "    </tr>\n",
              "    <tr>\n",
              "      <th>4</th>\n",
              "      <td>11.311173</td>\n",
              "    </tr>\n",
              "    <tr>\n",
              "      <th>...</th>\n",
              "      <td>...</td>\n",
              "    </tr>\n",
              "    <tr>\n",
              "      <th>95</th>\n",
              "      <td>5.441928</td>\n",
              "    </tr>\n",
              "    <tr>\n",
              "      <th>96</th>\n",
              "      <td>10.121188</td>\n",
              "    </tr>\n",
              "    <tr>\n",
              "      <th>97</th>\n",
              "      <td>9.787643</td>\n",
              "    </tr>\n",
              "    <tr>\n",
              "      <th>98</th>\n",
              "      <td>8.061635</td>\n",
              "    </tr>\n",
              "    <tr>\n",
              "      <th>99</th>\n",
              "      <td>9.597115</td>\n",
              "    </tr>\n",
              "  </tbody>\n",
              "</table>\n",
              "<p>100 rows × 1 columns</p>\n",
              "</div>\n",
              "      <button class=\"colab-df-convert\" onclick=\"convertToInteractive('df-37c735a3-aed9-4640-bcb5-2caafd4996d4')\"\n",
              "              title=\"Convert this dataframe to an interactive table.\"\n",
              "              style=\"display:none;\">\n",
              "        \n",
              "  <svg xmlns=\"http://www.w3.org/2000/svg\" height=\"24px\"viewBox=\"0 0 24 24\"\n",
              "       width=\"24px\">\n",
              "    <path d=\"M0 0h24v24H0V0z\" fill=\"none\"/>\n",
              "    <path d=\"M18.56 5.44l.94 2.06.94-2.06 2.06-.94-2.06-.94-.94-2.06-.94 2.06-2.06.94zm-11 1L8.5 8.5l.94-2.06 2.06-.94-2.06-.94L8.5 2.5l-.94 2.06-2.06.94zm10 10l.94 2.06.94-2.06 2.06-.94-2.06-.94-.94-2.06-.94 2.06-2.06.94z\"/><path d=\"M17.41 7.96l-1.37-1.37c-.4-.4-.92-.59-1.43-.59-.52 0-1.04.2-1.43.59L10.3 9.45l-7.72 7.72c-.78.78-.78 2.05 0 2.83L4 21.41c.39.39.9.59 1.41.59.51 0 1.02-.2 1.41-.59l7.78-7.78 2.81-2.81c.8-.78.8-2.07 0-2.86zM5.41 20L4 18.59l7.72-7.72 1.47 1.35L5.41 20z\"/>\n",
              "  </svg>\n",
              "      </button>\n",
              "      \n",
              "  <style>\n",
              "    .colab-df-container {\n",
              "      display:flex;\n",
              "      flex-wrap:wrap;\n",
              "      gap: 12px;\n",
              "    }\n",
              "\n",
              "    .colab-df-convert {\n",
              "      background-color: #E8F0FE;\n",
              "      border: none;\n",
              "      border-radius: 50%;\n",
              "      cursor: pointer;\n",
              "      display: none;\n",
              "      fill: #1967D2;\n",
              "      height: 32px;\n",
              "      padding: 0 0 0 0;\n",
              "      width: 32px;\n",
              "    }\n",
              "\n",
              "    .colab-df-convert:hover {\n",
              "      background-color: #E2EBFA;\n",
              "      box-shadow: 0px 1px 2px rgba(60, 64, 67, 0.3), 0px 1px 3px 1px rgba(60, 64, 67, 0.15);\n",
              "      fill: #174EA6;\n",
              "    }\n",
              "\n",
              "    [theme=dark] .colab-df-convert {\n",
              "      background-color: #3B4455;\n",
              "      fill: #D2E3FC;\n",
              "    }\n",
              "\n",
              "    [theme=dark] .colab-df-convert:hover {\n",
              "      background-color: #434B5C;\n",
              "      box-shadow: 0px 1px 3px 1px rgba(0, 0, 0, 0.15);\n",
              "      filter: drop-shadow(0px 1px 2px rgba(0, 0, 0, 0.3));\n",
              "      fill: #FFFFFF;\n",
              "    }\n",
              "  </style>\n",
              "\n",
              "      <script>\n",
              "        const buttonEl =\n",
              "          document.querySelector('#df-37c735a3-aed9-4640-bcb5-2caafd4996d4 button.colab-df-convert');\n",
              "        buttonEl.style.display =\n",
              "          google.colab.kernel.accessAllowed ? 'block' : 'none';\n",
              "\n",
              "        async function convertToInteractive(key) {\n",
              "          const element = document.querySelector('#df-37c735a3-aed9-4640-bcb5-2caafd4996d4');\n",
              "          const dataTable =\n",
              "            await google.colab.kernel.invokeFunction('convertToInteractive',\n",
              "                                                     [key], {});\n",
              "          if (!dataTable) return;\n",
              "\n",
              "          const docLinkHtml = 'Like what you see? Visit the ' +\n",
              "            '<a target=\"_blank\" href=https://colab.research.google.com/notebooks/data_table.ipynb>data table notebook</a>'\n",
              "            + ' to learn more about interactive tables.';\n",
              "          element.innerHTML = '';\n",
              "          dataTable['output_type'] = 'display_data';\n",
              "          await google.colab.output.renderOutput(dataTable, element);\n",
              "          const docLink = document.createElement('div');\n",
              "          docLink.innerHTML = docLinkHtml;\n",
              "          element.appendChild(docLink);\n",
              "        }\n",
              "      </script>\n",
              "    </div>\n",
              "  </div>\n",
              "  "
            ]
          },
          "metadata": {},
          "execution_count": 5
        }
      ]
    },
    {
      "cell_type": "code",
      "metadata": {
        "colab": {
          "base_uri": "https://localhost:8080/"
        },
        "id": "x6XGt_iAVQwO",
        "outputId": "f29cb7c1-2390-45dd-d9d8-60762d581264"
      },
      "source": [
        "from sklearn.linear_model import LinearRegression\n",
        "\n",
        "linear_reg = LinearRegression(fit_intercept=True)\n",
        "linear_reg.fit(X, y)"
      ],
      "execution_count": 6,
      "outputs": [
        {
          "output_type": "execute_result",
          "data": {
            "text/plain": [
              "LinearRegression()"
            ]
          },
          "metadata": {},
          "execution_count": 6
        }
      ]
    },
    {
      "cell_type": "markdown",
      "metadata": {
        "id": "Hnm9YgjbVQwO"
      },
      "source": [
        "Plot the model's predictions:"
      ]
    },
    {
      "cell_type": "code",
      "metadata": {
        "id": "9NtrLfGGVQwP"
      },
      "source": [
        "#X_fit[]"
      ],
      "execution_count": null,
      "outputs": []
    },
    {
      "cell_type": "code",
      "metadata": {
        "colab": {
          "base_uri": "https://localhost:8080/",
          "height": 287
        },
        "id": "1ZTT31igVQwP",
        "outputId": "92d51abe-cebe-46b1-acd7-e6b7ac90bb36"
      },
      "source": [
        "# construct best fit line\n",
        "X_fit = np.linspace(0, 2, 100)\n",
        "y_fit = linear_reg.predict(X_fit[:, np.newaxis])\n",
        "\n",
        "plt.scatter(X, y)\n",
        "plt.plot(X_fit, y_fit, \"r-\", linewidth=2, label=\"Predictions\")\n",
        "plt.xlabel(\"$X$\", fontsize=18)\n",
        "plt.ylabel(\"$y$\", rotation=0, fontsize=18)\n",
        "plt.legend(loc=\"upper left\", fontsize=14);"
      ],
      "execution_count": 7,
      "outputs": [
        {
          "output_type": "display_data",
          "data": {
            "text/plain": [
              "<Figure size 432x288 with 1 Axes>"
            ],
            "image/png": "[encoded data removed]"
          },
          "metadata": {
            "needs_background": "light"
          }
        }
      ]
    },
    {
      "cell_type": "markdown",
      "metadata": {
        "id": "kIfOsEcWVQwP"
      },
      "source": [
        "Predictions are a good fit."
      ]
    },
    {
      "cell_type": "markdown",
      "metadata": {
        "id": "z2VYUeGrVQwQ"
      },
      "source": [
        "Generate new data to make predictions with the model:"
      ]
    },
    {
      "cell_type": "code",
      "metadata": {
        "colab": {
          "base_uri": "https://localhost:8080/"
        },
        "id": "FuEd0Wp0VQwQ",
        "outputId": "2d60404a-36bb-4e5e-845f-cd8e8b72d158"
      },
      "source": [
        "X_new = np.array([[0], [2]])\n",
        "X_new"
      ],
      "execution_count": 8,
      "outputs": [
        {
          "output_type": "execute_result",
          "data": {
            "text/plain": [
              "array([[0],\n",
              "       [2]])"
            ]
          },
          "metadata": {},
          "execution_count": 8
        }
      ]
    },
    {
      "cell_type": "code",
      "metadata": {
        "colab": {
          "base_uri": "https://localhost:8080/"
        },
        "id": "lLCnLm7_VQwQ",
        "outputId": "c3e9c909-a4a3-402f-f44c-f7363d06b5a7"
      },
      "source": [
        "X_new.shape"
      ],
      "execution_count": 9,
      "outputs": [
        {
          "output_type": "execute_result",
          "data": {
            "text/plain": [
              "(2, 1)"
            ]
          },
          "metadata": {},
          "execution_count": 9
        }
      ]
    },
    {
      "cell_type": "code",
      "metadata": {
        "colab": {
          "base_uri": "https://localhost:8080/"
        },
        "id": "zJIzUfZsVQwQ",
        "outputId": "3622aaec-ed3a-46ac-b8ab-2c0f78fee2e6"
      },
      "source": [
        "y_new = linear_reg.predict(X_new)\n",
        "y_new"
      ],
      "execution_count": 10,
      "outputs": [
        {
          "output_type": "execute_result",
          "data": {
            "text/plain": [
              "array([[ 3.74406122],\n",
              "       [10.47517611]])"
            ]
          },
          "metadata": {},
          "execution_count": 10
        }
      ]
    },
    {
      "cell_type": "code",
      "metadata": {
        "colab": {
          "base_uri": "https://localhost:8080/"
        },
        "id": "ICiEnkbdVQwQ",
        "outputId": "ffbd1f34-c5d6-40c3-b0b8-0983c1f79f83"
      },
      "source": [
        " linear_reg.coef_, linear_reg.intercept_"
      ],
      "execution_count": 11,
      "outputs": [
        {
          "output_type": "execute_result",
          "data": {
            "text/plain": [
              "(array([[3.36555744]]), array([3.74406122]))"
            ]
          },
          "metadata": {},
          "execution_count": 11
        }
      ]
    },
    {
      "cell_type": "markdown",
      "metadata": {
        "id": "iBXzOecgVQwR"
      },
      "source": [
        "The model estimates:\n",
        "\n",
        "$\\hat{y} = 3.36X + 3.74$"
      ]
    },
    {
      "cell_type": "code",
      "metadata": {
        "id": "ZNvipq0wQYfj"
      },
      "source": [
        "#|VENTAS|GANANCIAS|\n",
        "#COEF*VENTAS+B\n",
        "#|VENTAS|COMPRAS|GANANCIAS|\n",
        "#COEF1*X1+COEF2*X2+B=Y"
      ],
      "execution_count": null,
      "outputs": []
    },
    {
      "cell_type": "markdown",
      "metadata": {
        "id": "_Rv-RJSnVQwR"
      },
      "source": [
        "## Polynomial Regression\n",
        "\n",
        "If data is more complex than a straight line, you can use a linear model ti fit non-linear data adding powers of each feature as new features and then train a linear model on the extended set of features. "
      ]
    },
    {
      "cell_type": "markdown",
      "metadata": {
        "id": "dPrpAVsZVQwR"
      },
      "source": [
        "$$y = a_0 + a_1x_1 + a_2x_2 + a_3x_3 + ...$$ to $$y = a_0 + a_1x + a_2x^2 + a_3x^3+ ...$$ "
      ]
    },
    {
      "cell_type": "markdown",
      "metadata": {
        "id": "9kjMWzEfVQwR"
      },
      "source": [
        "This is still a linear model, the linearity refers to the fact that the coefficients never multiply or divide each other."
      ]
    },
    {
      "cell_type": "markdown",
      "metadata": {
        "id": "2M3fp_CSVQwR"
      },
      "source": [
        "To generate polynomial data we use the function:\n",
        "\n",
        "$y = 0.50X^2 + X + 2 + noise$"
      ]
    },
    {
      "cell_type": "code",
      "metadata": {
        "id": "sSrueMnPVQwR"
      },
      "source": [
        "# generate non-linear data e.g. quadratic equation\n",
        "m = 100\n",
        "X = 6 * np.random.rand(m, 1) - 3\n",
        "y = 0.5 * X**2 + X + 2 + np.random.randn(m, 1)"
      ],
      "execution_count": 12,
      "outputs": []
    },
    {
      "cell_type": "code",
      "metadata": {
        "colab": {
          "base_uri": "https://localhost:8080/",
          "height": 291
        },
        "id": "GNQQoXkMVQwS",
        "outputId": "1533b905-a847-437b-d8cb-9f5055402079"
      },
      "source": [
        "plt.plot(X, y, \"b.\")\n",
        "plt.xlabel(\"$x_1$\", fontsize=18)\n",
        "plt.ylabel(\"$y$\", rotation=0, fontsize=18)\n",
        "plt.axis([-3, 3, 0, 10]);"
      ],
      "execution_count": 13,
      "outputs": [
        {
          "output_type": "display_data",
          "data": {
            "text/plain": [
              "<Figure size 432x288 with 1 Axes>"
            ],
            "image/png": "[encoded data removed]"
          },
          "metadata": {
            "needs_background": "light"
          }
        }
      ]
    },
    {
      "cell_type": "code",
      "source": [
        "import pandas as pd\n",
        "pd.DataFrame(y)"
      ],
      "metadata": {
        "id": "YtaK_dsidNcP",
        "outputId": "65c36df3-c637-48c3-f2a4-dc4e5d0c7b79",
        "colab": {
          "base_uri": "https://localhost:8080/",
          "height": 424
        }
      },
      "execution_count": 14,
      "outputs": [
        {
          "output_type": "execute_result",
          "data": {
            "text/plain": [
              "           0\n",
              "0   8.529240\n",
              "1   3.768929\n",
              "2   3.354423\n",
              "3   2.747935\n",
              "4   0.808458\n",
              "..       ...\n",
              "95  5.346771\n",
              "96  6.338229\n",
              "97  3.488785\n",
              "98  1.372002\n",
              "99 -0.072150\n",
              "\n",
              "[100 rows x 1 columns]"
            ],
            "text/html": [
              "\n",
              "  <div id=\"df-f1d132a7-1df8-487a-b16a-fb1584f2a44b\">\n",
              "    <div class=\"colab-df-container\">\n",
              "      <div>\n",
              "<style scoped>\n",
              "    .dataframe tbody tr th:only-of-type {\n",
              "        vertical-align: middle;\n",
              "    }\n",
              "\n",
              "    .dataframe tbody tr th {\n",
              "        vertical-align: top;\n",
              "    }\n",
              "\n",
              "    .dataframe thead th {\n",
              "        text-align: right;\n",
              "    }\n",
              "</style>\n",
              "<table border=\"1\" class=\"dataframe\">\n",
              "  <thead>\n",
              "    <tr style=\"text-align: right;\">\n",
              "      <th></th>\n",
              "      <th>0</th>\n",
              "    </tr>\n",
              "  </thead>\n",
              "  <tbody>\n",
              "    <tr>\n",
              "      <th>0</th>\n",
              "      <td>8.529240</td>\n",
              "    </tr>\n",
              "    <tr>\n",
              "      <th>1</th>\n",
              "      <td>3.768929</td>\n",
              "    </tr>\n",
              "    <tr>\n",
              "      <th>2</th>\n",
              "      <td>3.354423</td>\n",
              "    </tr>\n",
              "    <tr>\n",
              "      <th>3</th>\n",
              "      <td>2.747935</td>\n",
              "    </tr>\n",
              "    <tr>\n",
              "      <th>4</th>\n",
              "      <td>0.808458</td>\n",
              "    </tr>\n",
              "    <tr>\n",
              "      <th>...</th>\n",
              "      <td>...</td>\n",
              "    </tr>\n",
              "    <tr>\n",
              "      <th>95</th>\n",
              "      <td>5.346771</td>\n",
              "    </tr>\n",
              "    <tr>\n",
              "      <th>96</th>\n",
              "      <td>6.338229</td>\n",
              "    </tr>\n",
              "    <tr>\n",
              "      <th>97</th>\n",
              "      <td>3.488785</td>\n",
              "    </tr>\n",
              "    <tr>\n",
              "      <th>98</th>\n",
              "      <td>1.372002</td>\n",
              "    </tr>\n",
              "    <tr>\n",
              "      <th>99</th>\n",
              "      <td>-0.072150</td>\n",
              "    </tr>\n",
              "  </tbody>\n",
              "</table>\n",
              "<p>100 rows × 1 columns</p>\n",
              "</div>\n",
              "      <button class=\"colab-df-convert\" onclick=\"convertToInteractive('df-f1d132a7-1df8-487a-b16a-fb1584f2a44b')\"\n",
              "              title=\"Convert this dataframe to an interactive table.\"\n",
              "              style=\"display:none;\">\n",
              "        \n",
              "  <svg xmlns=\"http://www.w3.org/2000/svg\" height=\"24px\"viewBox=\"0 0 24 24\"\n",
              "       width=\"24px\">\n",
              "    <path d=\"M0 0h24v24H0V0z\" fill=\"none\"/>\n",
              "    <path d=\"M18.56 5.44l.94 2.06.94-2.06 2.06-.94-2.06-.94-.94-2.06-.94 2.06-2.06.94zm-11 1L8.5 8.5l.94-2.06 2.06-.94-2.06-.94L8.5 2.5l-.94 2.06-2.06.94zm10 10l.94 2.06.94-2.06 2.06-.94-2.06-.94-.94-2.06-.94 2.06-2.06.94z\"/><path d=\"M17.41 7.96l-1.37-1.37c-.4-.4-.92-.59-1.43-.59-.52 0-1.04.2-1.43.59L10.3 9.45l-7.72 7.72c-.78.78-.78 2.05 0 2.83L4 21.41c.39.39.9.59 1.41.59.51 0 1.02-.2 1.41-.59l7.78-7.78 2.81-2.81c.8-.78.8-2.07 0-2.86zM5.41 20L4 18.59l7.72-7.72 1.47 1.35L5.41 20z\"/>\n",
              "  </svg>\n",
              "      </button>\n",
              "      \n",
              "  <style>\n",
              "    .colab-df-container {\n",
              "      display:flex;\n",
              "      flex-wrap:wrap;\n",
              "      gap: 12px;\n",
              "    }\n",
              "\n",
              "    .colab-df-convert {\n",
              "      background-color: #E8F0FE;\n",
              "      border: none;\n",
              "      border-radius: 50%;\n",
              "      cursor: pointer;\n",
              "      display: none;\n",
              "      fill: #1967D2;\n",
              "      height: 32px;\n",
              "      padding: 0 0 0 0;\n",
              "      width: 32px;\n",
              "    }\n",
              "\n",
              "    .colab-df-convert:hover {\n",
              "      background-color: #E2EBFA;\n",
              "      box-shadow: 0px 1px 2px rgba(60, 64, 67, 0.3), 0px 1px 3px 1px rgba(60, 64, 67, 0.15);\n",
              "      fill: #174EA6;\n",
              "    }\n",
              "\n",
              "    [theme=dark] .colab-df-convert {\n",
              "      background-color: #3B4455;\n",
              "      fill: #D2E3FC;\n",
              "    }\n",
              "\n",
              "    [theme=dark] .colab-df-convert:hover {\n",
              "      background-color: #434B5C;\n",
              "      box-shadow: 0px 1px 3px 1px rgba(0, 0, 0, 0.15);\n",
              "      filter: drop-shadow(0px 1px 2px rgba(0, 0, 0, 0.3));\n",
              "      fill: #FFFFFF;\n",
              "    }\n",
              "  </style>\n",
              "\n",
              "      <script>\n",
              "        const buttonEl =\n",
              "          document.querySelector('#df-f1d132a7-1df8-487a-b16a-fb1584f2a44b button.colab-df-convert');\n",
              "        buttonEl.style.display =\n",
              "          google.colab.kernel.accessAllowed ? 'block' : 'none';\n",
              "\n",
              "        async function convertToInteractive(key) {\n",
              "          const element = document.querySelector('#df-f1d132a7-1df8-487a-b16a-fb1584f2a44b');\n",
              "          const dataTable =\n",
              "            await google.colab.kernel.invokeFunction('convertToInteractive',\n",
              "                                                     [key], {});\n",
              "          if (!dataTable) return;\n",
              "\n",
              "          const docLinkHtml = 'Like what you see? Visit the ' +\n",
              "            '<a target=\"_blank\" href=https://colab.research.google.com/notebooks/data_table.ipynb>data table notebook</a>'\n",
              "            + ' to learn more about interactive tables.';\n",
              "          element.innerHTML = '';\n",
              "          dataTable['output_type'] = 'display_data';\n",
              "          await google.colab.output.renderOutput(dataTable, element);\n",
              "          const docLink = document.createElement('div');\n",
              "          docLink.innerHTML = docLinkHtml;\n",
              "          element.appendChild(docLink);\n",
              "        }\n",
              "      </script>\n",
              "    </div>\n",
              "  </div>\n",
              "  "
            ]
          },
          "metadata": {},
          "execution_count": 14
        }
      ]
    },
    {
      "cell_type": "markdown",
      "metadata": {
        "id": "vrZTRaLNVQwS"
      },
      "source": [
        "Now we can use `PolynomialFeatues` to transform training data adding the square of each feature as new features."
      ]
    },
    {
      "cell_type": "code",
      "metadata": {
        "id": "BXo0Hm56VQwS"
      },
      "source": [
        "from sklearn.preprocessing import PolynomialFeatures\n",
        "\n",
        "poly_features = PolynomialFeatures(degree=2, include_bias=False)\n",
        "X_poly = poly_features.fit_transform(X)"
      ],
      "execution_count": 15,
      "outputs": []
    },
    {
      "cell_type": "code",
      "metadata": {
        "colab": {
          "base_uri": "https://localhost:8080/"
        },
        "id": "1FqY9-I4VQwS",
        "outputId": "eb80c48b-1d9a-4cf5-d7bd-47c484da9dfc"
      },
      "source": [
        "X_poly"
      ],
      "execution_count": 16,
      "outputs": [
        {
          "output_type": "execute_result",
          "data": {
            "text/plain": [
              "array([[ 2.72919168e+00,  7.44848725e+00],\n",
              "       [ 1.42738150e+00,  2.03741795e+00],\n",
              "       [ 3.26124315e-01,  1.06357069e-01],\n",
              "       [ 6.70324477e-01,  4.49334905e-01],\n",
              "       [-4.82399625e-01,  2.32709399e-01],\n",
              "       [-1.51361406e+00,  2.29102753e+00],\n",
              "       [-8.64163928e-01,  7.46779295e-01],\n",
              "       [ 1.54707666e+00,  2.39344620e+00],\n",
              "       [-2.91363907e+00,  8.48929262e+00],\n",
              "       [-2.30356416e+00,  5.30640783e+00],\n",
              "       [-2.72398415e+00,  7.42008964e+00],\n",
              "       [-2.75562719e+00,  7.59348119e+00],\n",
              "       [ 2.13276350e+00,  4.54868016e+00],\n",
              "       [ 1.22194716e+00,  1.49315485e+00],\n",
              "       [-1.54957025e-01,  2.40116797e-02],\n",
              "       [-2.41299504e+00,  5.82254504e+00],\n",
              "       [-5.03047493e-02,  2.53056780e-03],\n",
              "       [-1.59169375e-01,  2.53348900e-02],\n",
              "       [-1.96078878e+00,  3.84469264e+00],\n",
              "       [-3.96890105e-01,  1.57521755e-01],\n",
              "       [-6.08971594e-01,  3.70846402e-01],\n",
              "       [ 6.95100588e-01,  4.83164828e-01],\n",
              "       [ 8.10561905e-01,  6.57010602e-01],\n",
              "       [-2.72817594e+00,  7.44294397e+00],\n",
              "       [-7.52324312e-01,  5.65991871e-01],\n",
              "       [ 7.55159494e-01,  5.70265862e-01],\n",
              "       [ 1.88175515e-02,  3.54100244e-04],\n",
              "       [ 2.13893905e+00,  4.57506025e+00],\n",
              "       [ 9.52161790e-01,  9.06612074e-01],\n",
              "       [-2.02239344e+00,  4.09007522e+00],\n",
              "       [-2.57658752e+00,  6.63880323e+00],\n",
              "       [ 8.54515669e-01,  7.30197029e-01],\n",
              "       [-2.84093214e+00,  8.07089541e+00],\n",
              "       [ 5.14653488e-01,  2.64868212e-01],\n",
              "       [ 2.64138145e+00,  6.97689596e+00],\n",
              "       [ 4.52845067e-01,  2.05068655e-01],\n",
              "       [-6.70980443e-01,  4.50214755e-01],\n",
              "       [ 8.59729311e-01,  7.39134488e-01],\n",
              "       [-2.50482657e-01,  6.27415615e-02],\n",
              "       [ 2.73700736e-01,  7.49120928e-02],\n",
              "       [ 2.64878885e+00,  7.01608239e+00],\n",
              "       [-6.83384173e-01,  4.67013928e-01],\n",
              "       [ 2.76714338e+00,  7.65708250e+00],\n",
              "       [ 2.43210385e+00,  5.91512915e+00],\n",
              "       [-1.82525319e+00,  3.33154921e+00],\n",
              "       [-2.58383219e+00,  6.67618881e+00],\n",
              "       [-2.39533199e+00,  5.73761535e+00],\n",
              "       [-2.89066905e+00,  8.35596753e+00],\n",
              "       [-2.43334224e+00,  5.92115443e+00],\n",
              "       [ 1.09804064e+00,  1.20569325e+00],\n",
              "       [-2.57286811e+00,  6.61965031e+00],\n",
              "       [-1.08614622e+00,  1.17971361e+00],\n",
              "       [ 2.06925187e+00,  4.28180328e+00],\n",
              "       [-2.86036839e+00,  8.18170730e+00],\n",
              "       [ 1.88681090e+00,  3.56005536e+00],\n",
              "       [-1.30887135e+00,  1.71314421e+00],\n",
              "       [-2.29101103e+00,  5.24873156e+00],\n",
              "       [ 1.18042299e+00,  1.39339844e+00],\n",
              "       [ 7.73657081e-01,  5.98545278e-01],\n",
              "       [ 2.26483208e+00,  5.12946436e+00],\n",
              "       [ 1.41042626e+00,  1.98930224e+00],\n",
              "       [ 1.82088558e+00,  3.31562430e+00],\n",
              "       [-1.30779256e+00,  1.71032139e+00],\n",
              "       [-1.93536274e+00,  3.74562893e+00],\n",
              "       [ 1.50368851e+00,  2.26107913e+00],\n",
              "       [ 1.84100844e+00,  3.38931206e+00],\n",
              "       [ 2.94303085e+00,  8.66143060e+00],\n",
              "       [-5.24293939e-01,  2.74884134e-01],\n",
              "       [-7.67891485e-01,  5.89657333e-01],\n",
              "       [ 1.65847776e+00,  2.75054850e+00],\n",
              "       [-9.55178758e-01,  9.12366461e-01],\n",
              "       [ 2.58454395e+00,  6.67986745e+00],\n",
              "       [ 2.15047651e+00,  4.62454922e+00],\n",
              "       [-4.26035836e-01,  1.81506533e-01],\n",
              "       [ 1.50522641e+00,  2.26570654e+00],\n",
              "       [ 1.52725724e+00,  2.33251469e+00],\n",
              "       [-2.38125679e+00,  5.67038389e+00],\n",
              "       [ 2.41531744e+00,  5.83375834e+00],\n",
              "       [ 3.15142347e-02,  9.93146988e-04],\n",
              "       [ 1.95874480e+00,  3.83668118e+00],\n",
              "       [-1.07970239e+00,  1.16575726e+00],\n",
              "       [ 2.37313937e+00,  5.63179047e+00],\n",
              "       [-6.64789928e-01,  4.41945648e-01],\n",
              "       [-2.93497409e+00,  8.61407292e+00],\n",
              "       [ 2.43229186e+00,  5.91604369e+00],\n",
              "       [-2.45227994e+00,  6.01367690e+00],\n",
              "       [-1.08411817e+00,  1.17531222e+00],\n",
              "       [ 2.70037180e+00,  7.29200787e+00],\n",
              "       [ 2.70364288e+00,  7.30968483e+00],\n",
              "       [ 4.40627329e-01,  1.94152443e-01],\n",
              "       [ 7.91023273e-01,  6.25717818e-01],\n",
              "       [-3.09326868e-01,  9.56831113e-02],\n",
              "       [-1.24073537e+00,  1.53942426e+00],\n",
              "       [-1.02801273e+00,  1.05681017e+00],\n",
              "       [ 1.03511074e+00,  1.07145424e+00],\n",
              "       [ 1.51424718e+00,  2.29294451e+00],\n",
              "       [ 1.74947426e+00,  3.06066019e+00],\n",
              "       [ 1.73770886e+00,  3.01963207e+00],\n",
              "       [-2.45276338e+00,  6.01604821e+00],\n",
              "       [-3.34781718e-02,  1.12078799e-03]])"
            ]
          },
          "metadata": {},
          "execution_count": 16
        }
      ]
    },
    {
      "cell_type": "markdown",
      "metadata": {
        "id": "GrFMRU_eVQwS"
      },
      "source": [
        "`X_poly` now contains the original feature of X plus the square of the feature:"
      ]
    },
    {
      "cell_type": "code",
      "metadata": {
        "colab": {
          "base_uri": "https://localhost:8080/"
        },
        "id": "M8FH1dY2UwgN",
        "outputId": "f9b9db69-2fc4-48c4-d993-0200a5dc1e65"
      },
      "source": [
        "print(X[0])\n",
        "print(X[0]*X[0])\n"
      ],
      "execution_count": 17,
      "outputs": [
        {
          "output_type": "stream",
          "name": "stdout",
          "text": [
            "[2.72919168]\n",
            "[7.44848725]\n"
          ]
        }
      ]
    },
    {
      "cell_type": "code",
      "metadata": {
        "colab": {
          "base_uri": "https://localhost:8080/"
        },
        "id": "PSflPniWVQwT",
        "outputId": "e431f232-5f2e-486f-b643-d1625a0dd4f8"
      },
      "source": [
        "X_poly[0]"
      ],
      "execution_count": 18,
      "outputs": [
        {
          "output_type": "execute_result",
          "data": {
            "text/plain": [
              "array([2.72919168, 7.44848725])"
            ]
          },
          "metadata": {},
          "execution_count": 18
        }
      ]
    },
    {
      "cell_type": "markdown",
      "metadata": {
        "id": "HaXjXg7FVQwT"
      },
      "source": [
        "Fit the model to this extended training data:"
      ]
    },
    {
      "cell_type": "code",
      "metadata": {
        "colab": {
          "base_uri": "https://localhost:8080/"
        },
        "id": "c0Qu93dgVQwT",
        "outputId": "62667e4e-860a-4e15-d240-85ae23860c67"
      },
      "source": [
        "lin_reg = LinearRegression(fit_intercept=True)\n",
        "lin_reg.fit(X_poly, y)\n",
        "lin_reg.coef_, lin_reg.intercept_"
      ],
      "execution_count": 19,
      "outputs": [
        {
          "output_type": "execute_result",
          "data": {
            "text/plain": [
              "(array([[1.04271531, 0.50866711]]), array([2.01873554]))"
            ]
          },
          "metadata": {},
          "execution_count": 19
        }
      ]
    },
    {
      "cell_type": "markdown",
      "metadata": {
        "id": "rKOSwvnmVQwT"
      },
      "source": [
        "The model estimates:\n",
        "\n",
        "$\\hat{y} =  0.89X +0.48X^2 + 2.09$"
      ]
    },
    {
      "cell_type": "markdown",
      "metadata": {
        "id": "_EtZEKz5VQwT"
      },
      "source": [
        "Plot the data and the predictions:"
      ]
    },
    {
      "cell_type": "code",
      "metadata": {
        "colab": {
          "base_uri": "https://localhost:8080/",
          "height": 291
        },
        "id": "6Q8dHRgdVQwT",
        "outputId": "29a04e3d-8de5-45fa-d490-6d32196803ef"
      },
      "source": [
        "X_new=np.linspace(-3, 3, 100).reshape(100, 1)\n",
        "X_new_poly = poly_features.transform(X_new)\n",
        "y_new = lin_reg.predict(X_new_poly)\n",
        "plt.plot(X, y, \"b.\")\n",
        "plt.plot(X_new, y_new, \"r-\", linewidth=2, label=\"Predictions\")\n",
        "plt.xlabel(\"$x_1$\", fontsize=18)\n",
        "plt.ylabel(\"$y$\", rotation=0, fontsize=18)\n",
        "plt.legend(loc=\"upper left\", fontsize=14)\n",
        "plt.axis([-3, 3, 0, 10]);"
      ],
      "execution_count": 20,
      "outputs": [
        {
          "output_type": "display_data",
          "data": {
            "text/plain": [
              "<Figure size 432x288 with 1 Axes>"
            ],
            "image/png": "[encoded data removed]"
          },
          "metadata": {
            "needs_background": "light"
          }
        }
      ]
    },
    {
      "cell_type": "markdown",
      "source": [
        "## R square\n",
        "\n",
        "R² es una medida estadística de qué tan cerca están los datos de la línea de regresión ajustada. También se conoce como el coeficiente de determinación o el coeficiente de determinación múltiple para la regresión múltiple. Para decirlo en un lenguaje más simple, R² es una medida de ajuste para los modelos de regresión lineal.\n",
        "\n",
        "\n",
        "\n",
        "R² no indica si un modelo de regresión se ajusta adecuadamente a sus datos. Un buen modelo puede tener un valor R² bajo. Por otro lado, un modelo sesgado puede tener un valor alto de R².\n",
        "\n",
        " SSres + SSreg = SStot, R² = Explained variation / Total Variation\n",
        " \n",
        " ![image.png](https://i.stack.imgur.com/xb1VY.png)\n",
        " \n",
        "![image.png](https://3.bp.blogspot.com/-MFqQLwbGwd4/WMO7tz39beI/AAAAAAAAF9I/Bjpfohgv_5E4lu7HzHJBQtXsBM--byqPwCLcB/s1600/rsquared.png)\n"
      ],
      "metadata": {
        "id": "TIFwAtW1pc6h"
      }
    },
    {
      "cell_type": "markdown",
      "metadata": {
        "id": "nTKFj4x9LMXm"
      },
      "source": [
        "# Ejercicio 1\n",
        "\n",
        "Utiliza la base de datos de \n",
        "https://www.kaggle.com/vinicius150987/manufacturing-cost\n",
        "\n",
        "Suponga que trabaja como consultor de una empresa de nueva creación que busca desarrollar un modelo para estimar el costo de los bienes vendidos a medida que varían el volumen de producción (número de unidades producidas). La startup recopiló datos y le pidió que desarrollara un modelo para predecir su costo frente a la cantidad de unidades vendidas."
      ]
    },
    {
      "cell_type": "code",
      "metadata": {
        "colab": {
          "base_uri": "https://localhost:8080/",
          "height": 363
        },
        "id": "oTnErQOkL3oa",
        "outputId": "9a4df728-5c6f-4cad-ba28-0a1bf7f5a844"
      },
      "source": [
        "import pandas as pd\n",
        "df = pd.read_csv('https://raw.githubusercontent.com/marypazrf/bdd/main/EconomiesOfScale.csv')\n",
        "df.sample(10)"
      ],
      "execution_count": 21,
      "outputs": [
        {
          "output_type": "execute_result",
          "data": {
            "text/plain": [
              "     Number of Units  Manufacturing Cost\n",
              "968         7.065653           27.804027\n",
              "212         3.372115           41.127212\n",
              "416         4.194513           43.832711\n",
              "677         5.068888           41.225741\n",
              "550         4.604122           37.569764\n",
              "764         5.389522           31.191501\n",
              "386         4.104190           42.988730\n",
              "339         3.942214           46.291435\n",
              "82          2.665856           48.578425\n",
              "487         4.399514           37.567914"
            ],
            "text/html": [
              "\n",
              "  <div id=\"df-93cf30ed-1b68-4edc-9e23-f782067513ed\">\n",
              "    <div class=\"colab-df-container\">\n",
              "      <div>\n",
              "<style scoped>\n",
              "    .dataframe tbody tr th:only-of-type {\n",
              "        vertical-align: middle;\n",
              "    }\n",
              "\n",
              "    .dataframe tbody tr th {\n",
              "        vertical-align: top;\n",
              "    }\n",
              "\n",
              "    .dataframe thead th {\n",
              "        text-align: right;\n",
              "    }\n",
              "</style>\n",
              "<table border=\"1\" class=\"dataframe\">\n",
              "  <thead>\n",
              "    <tr style=\"text-align: right;\">\n",
              "      <th></th>\n",
              "      <th>Number of Units</th>\n",
              "      <th>Manufacturing Cost</th>\n",
              "    </tr>\n",
              "  </thead>\n",
              "  <tbody>\n",
              "    <tr>\n",
              "      <th>968</th>\n",
              "      <td>7.065653</td>\n",
              "      <td>27.804027</td>\n",
              "    </tr>\n",
              "    <tr>\n",
              "      <th>212</th>\n",
              "      <td>3.372115</td>\n",
              "      <td>41.127212</td>\n",
              "    </tr>\n",
              "    <tr>\n",
              "      <th>416</th>\n",
              "      <td>4.194513</td>\n",
              "      <td>43.832711</td>\n",
              "    </tr>\n",
              "    <tr>\n",
              "      <th>677</th>\n",
              "      <td>5.068888</td>\n",
              "      <td>41.225741</td>\n",
              "    </tr>\n",
              "    <tr>\n",
              "      <th>550</th>\n",
              "      <td>4.604122</td>\n",
              "      <td>37.569764</td>\n",
              "    </tr>\n",
              "    <tr>\n",
              "      <th>764</th>\n",
              "      <td>5.389522</td>\n",
              "      <td>31.191501</td>\n",
              "    </tr>\n",
              "    <tr>\n",
              "      <th>386</th>\n",
              "      <td>4.104190</td>\n",
              "      <td>42.988730</td>\n",
              "    </tr>\n",
              "    <tr>\n",
              "      <th>339</th>\n",
              "      <td>3.942214</td>\n",
              "      <td>46.291435</td>\n",
              "    </tr>\n",
              "    <tr>\n",
              "      <th>82</th>\n",
              "      <td>2.665856</td>\n",
              "      <td>48.578425</td>\n",
              "    </tr>\n",
              "    <tr>\n",
              "      <th>487</th>\n",
              "      <td>4.399514</td>\n",
              "      <td>37.567914</td>\n",
              "    </tr>\n",
              "  </tbody>\n",
              "</table>\n",
              "</div>\n",
              "      <button class=\"colab-df-convert\" onclick=\"convertToInteractive('df-93cf30ed-1b68-4edc-9e23-f782067513ed')\"\n",
              "              title=\"Convert this dataframe to an interactive table.\"\n",
              "              style=\"display:none;\">\n",
              "        \n",
              "  <svg xmlns=\"http://www.w3.org/2000/svg\" height=\"24px\"viewBox=\"0 0 24 24\"\n",
              "       width=\"24px\">\n",
              "    <path d=\"M0 0h24v24H0V0z\" fill=\"none\"/>\n",
              "    <path d=\"M18.56 5.44l.94 2.06.94-2.06 2.06-.94-2.06-.94-.94-2.06-.94 2.06-2.06.94zm-11 1L8.5 8.5l.94-2.06 2.06-.94-2.06-.94L8.5 2.5l-.94 2.06-2.06.94zm10 10l.94 2.06.94-2.06 2.06-.94-2.06-.94-.94-2.06-.94 2.06-2.06.94z\"/><path d=\"M17.41 7.96l-1.37-1.37c-.4-.4-.92-.59-1.43-.59-.52 0-1.04.2-1.43.59L10.3 9.45l-7.72 7.72c-.78.78-.78 2.05 0 2.83L4 21.41c.39.39.9.59 1.41.59.51 0 1.02-.2 1.41-.59l7.78-7.78 2.81-2.81c.8-.78.8-2.07 0-2.86zM5.41 20L4 18.59l7.72-7.72 1.47 1.35L5.41 20z\"/>\n",
              "  </svg>\n",
              "      </button>\n",
              "      \n",
              "  <style>\n",
              "    .colab-df-container {\n",
              "      display:flex;\n",
              "      flex-wrap:wrap;\n",
              "      gap: 12px;\n",
              "    }\n",
              "\n",
              "    .colab-df-convert {\n",
              "      background-color: #E8F0FE;\n",
              "      border: none;\n",
              "      border-radius: 50%;\n",
              "      cursor: pointer;\n",
              "      display: none;\n",
              "      fill: #1967D2;\n",
              "      height: 32px;\n",
              "      padding: 0 0 0 0;\n",
              "      width: 32px;\n",
              "    }\n",
              "\n",
              "    .colab-df-convert:hover {\n",
              "      background-color: #E2EBFA;\n",
              "      box-shadow: 0px 1px 2px rgba(60, 64, 67, 0.3), 0px 1px 3px 1px rgba(60, 64, 67, 0.15);\n",
              "      fill: #174EA6;\n",
              "    }\n",
              "\n",
              "    [theme=dark] .colab-df-convert {\n",
              "      background-color: #3B4455;\n",
              "      fill: #D2E3FC;\n",
              "    }\n",
              "\n",
              "    [theme=dark] .colab-df-convert:hover {\n",
              "      background-color: #434B5C;\n",
              "      box-shadow: 0px 1px 3px 1px rgba(0, 0, 0, 0.15);\n",
              "      filter: drop-shadow(0px 1px 2px rgba(0, 0, 0, 0.3));\n",
              "      fill: #FFFFFF;\n",
              "    }\n",
              "  </style>\n",
              "\n",
              "      <script>\n",
              "        const buttonEl =\n",
              "          document.querySelector('#df-93cf30ed-1b68-4edc-9e23-f782067513ed button.colab-df-convert');\n",
              "        buttonEl.style.display =\n",
              "          google.colab.kernel.accessAllowed ? 'block' : 'none';\n",
              "\n",
              "        async function convertToInteractive(key) {\n",
              "          const element = document.querySelector('#df-93cf30ed-1b68-4edc-9e23-f782067513ed');\n",
              "          const dataTable =\n",
              "            await google.colab.kernel.invokeFunction('convertToInteractive',\n",
              "                                                     [key], {});\n",
              "          if (!dataTable) return;\n",
              "\n",
              "          const docLinkHtml = 'Like what you see? Visit the ' +\n",
              "            '<a target=\"_blank\" href=https://colab.research.google.com/notebooks/data_table.ipynb>data table notebook</a>'\n",
              "            + ' to learn more about interactive tables.';\n",
              "          element.innerHTML = '';\n",
              "          dataTable['output_type'] = 'display_data';\n",
              "          await google.colab.output.renderOutput(dataTable, element);\n",
              "          const docLink = document.createElement('div');\n",
              "          docLink.innerHTML = docLinkHtml;\n",
              "          element.appendChild(docLink);\n",
              "        }\n",
              "      </script>\n",
              "    </div>\n",
              "  </div>\n",
              "  "
            ]
          },
          "metadata": {},
          "execution_count": 21
        }
      ]
    },
    {
      "cell_type": "code",
      "metadata": {
        "id": "14kGO5nkMGlV"
      },
      "source": [
        "X = df[['Number of Units']]\n",
        "y = df['Manufacturing Cost']"
      ],
      "execution_count": 22,
      "outputs": []
    },
    {
      "cell_type": "code",
      "source": [
        "len(X)"
      ],
      "metadata": {
        "id": "ksh_OrkjY3GW",
        "outputId": "0befd60f-d394-4a84-bb89-f98998943b72",
        "colab": {
          "base_uri": "https://localhost:8080/"
        }
      },
      "execution_count": 23,
      "outputs": [
        {
          "output_type": "execute_result",
          "data": {
            "text/plain": [
              "1000"
            ]
          },
          "metadata": {},
          "execution_count": 23
        }
      ]
    },
    {
      "cell_type": "code",
      "source": [
        "y.describe"
      ],
      "metadata": {
        "colab": {
          "base_uri": "https://localhost:8080/"
        },
        "id": "bwR6SSqQDfC2",
        "outputId": "7de74eef-82a0-4984-a22d-933e1b707c17"
      },
      "execution_count": 24,
      "outputs": [
        {
          "output_type": "execute_result",
          "data": {
            "text/plain": [
              "<bound method NDFrame.describe of 0      95.066056\n",
              "1      96.531750\n",
              "2      73.661311\n",
              "3      95.566843\n",
              "4      98.777013\n",
              "         ...    \n",
              "995    23.855067\n",
              "996    27.536542\n",
              "997    25.973787\n",
              "998    25.138311\n",
              "999    21.547777\n",
              "Name: Manufacturing Cost, Length: 1000, dtype: float64>"
            ]
          },
          "metadata": {},
          "execution_count": 24
        }
      ]
    },
    {
      "cell_type": "code",
      "metadata": {
        "colab": {
          "base_uri": "https://localhost:8080/",
          "height": 282
        },
        "id": "idoEjfEhMoxk",
        "outputId": "528a37b9-1027-4605-8ac2-ceb0c3f066c0"
      },
      "source": [
        "plt.plot(X,y,'b.')"
      ],
      "execution_count": 25,
      "outputs": [
        {
          "output_type": "execute_result",
          "data": {
            "text/plain": [
              "[<matplotlib.lines.Line2D at 0x7f7e71977590>]"
            ]
          },
          "metadata": {},
          "execution_count": 25
        },
        {
          "output_type": "display_data",
          "data": {
            "text/plain": [
              "<Figure size 432x288 with 1 Axes>"
            ],
            "image/png": "[encoded data removed]"
          },
          "metadata": {
            "needs_background": "light"
          }
        }
      ]
    },
    {
      "cell_type": "markdown",
      "source": [
        "##1. Divide los datos del costo de manufactura. Utiliza la función train_test_split (viene el ejemplo al final del notebook)."
      ],
      "metadata": {
        "id": "9IRGO6rwBSKh"
      }
    },
    {
      "cell_type": "code",
      "source": [
        "#lineal\n",
        "from sklearn.model_selection import train_test_split\n",
        "X_train, X_test, y_train, y_test = train_test_split(X, y, test_size = 0.1, random_state = 101)"
      ],
      "metadata": {
        "id": "kMmOy97puOLE"
      },
      "execution_count": 26,
      "outputs": []
    },
    {
      "cell_type": "markdown",
      "source": [
        "##2. Realiza la Regresión Lineal: modelo generado (ecuación), su visualización, sus errores y r cuadrada."
      ],
      "metadata": {
        "id": "GS5iWOzZBaq-"
      }
    },
    {
      "cell_type": "code",
      "source": [
        "#Regresión lineal\n",
        "linear_reg = LinearRegression(fit_intercept=True)\n",
        "linear_reg.fit(X_train, y_train)\n",
        "\n",
        "#Construir linea de ajuste\n",
        "X_fit = np.linspace(0, 10, 100)\n",
        "y_fit = linear_reg.predict(X_fit[:, np.newaxis])\n",
        "\n",
        "#Buscamos la pendiente \"a\" y el punto de intercepción \"b\"\n",
        "print(\"Pendiente: \", linear_reg.coef_)\n",
        "print(\"Intercepción: \", linear_reg.intercept_)"
      ],
      "metadata": {
        "colab": {
          "base_uri": "https://localhost:8080/"
        },
        "id": "EQGkKusWBqC9",
        "outputId": "6aa27a12-9005-4b43-f213-b348d8994d20"
      },
      "execution_count": 27,
      "outputs": [
        {
          "output_type": "stream",
          "name": "stdout",
          "text": [
            "Pendiente:  [-5.98882699]\n",
            "Intercepción:  66.83650741226988\n"
          ]
        },
        {
          "output_type": "stream",
          "name": "stderr",
          "text": [
            "/usr/local/lib/python3.7/dist-packages/sklearn/base.py:451: UserWarning: X does not have valid feature names, but LinearRegression was fitted with feature names\n",
            "  \"X does not have valid feature names, but\"\n"
          ]
        }
      ]
    },
    {
      "cell_type": "markdown",
      "source": [
        "De acuerdo a los resultados obtenemos la siguiente ecuación: \n",
        "\n",
        "**Y= -5.98X + 66.83** \n",
        "\n",
        "Y graficando nuestro modelo"
      ],
      "metadata": {
        "id": "XgnHQ6n-CADD"
      }
    },
    {
      "cell_type": "code",
      "source": [
        "plt.scatter(X_train, y_train)\n",
        "plt.plot(X_fit, y_fit, \"r-\", linewidth=2, label=\"Predicciones\")\n",
        "plt.xlabel(\"X\", fontsize=18)\n",
        "plt.ylabel(\"y\", rotation=0, fontsize=18)\n",
        "plt.legend(loc=\"upper left\", fontsize=14);"
      ],
      "metadata": {
        "colab": {
          "base_uri": "https://localhost:8080/",
          "height": 287
        },
        "id": "zc0oMB0_COU7",
        "outputId": "4958bbee-ce1d-45f8-a2ba-12b2ceca28a8"
      },
      "execution_count": 29,
      "outputs": [
        {
          "output_type": "display_data",
          "data": {
            "text/plain": [
              "<Figure size 432x288 with 1 Axes>"
            ],
            "image/png": "[encoded data removed]"
          },
          "metadata": {
            "needs_background": "light"
          }
        }
      ]
    },
    {
      "cell_type": "markdown",
      "source": [
        "Ahora vamos a obtener los errores y el Rsquared del modelo"
      ],
      "metadata": {
        "id": "OTWJCiA8CcVF"
      }
    },
    {
      "cell_type": "code",
      "source": [
        "from sklearn import metrics\n",
        "from sklearn.metrics import r2_score\n",
        "\n",
        "print(\"-----------Precisión del modelo---------\")\n",
        "print(\"Entrenamiento:\", linear_reg.score(X_train, y_train))\n",
        "print(\"Pruebas:\", linear_reg.score(X_test, y_test))\n",
        "print(\"-----------Errores del modelo-----------\")\n",
        "print('Error medio Absoluto (MAE):', metrics.mean_absolute_error(y_test, y_fit))\n",
        "print('Root Mean Squared Error:', np.sqrt(metrics.mean_squared_error(y_test, y_fit)))\n",
        "print(\"-----------R squared--------------------\")\n",
        "print('r2_score',r2_score(y_test, y_fit))"
      ],
      "metadata": {
        "colab": {
          "base_uri": "https://localhost:8080/"
        },
        "id": "IKviWjImCgIK",
        "outputId": "684a876b-8cbf-4348-fecb-db3ef6d2986e"
      },
      "execution_count": 32,
      "outputs": [
        {
          "output_type": "stream",
          "name": "stdout",
          "text": [
            "-----------Precisión del modelo---------\n",
            "Entrenamiento: 0.5746524649404298\n",
            "Pruebas: 0.6116251549562579\n",
            "-----------Errores del modelo-----------\n",
            "Error medio Absoluto (MAE): 17.04846730203102\n",
            "Root Mean Squared Error: 21.45395605907538\n",
            "-----------R squared--------------------\n",
            "r2_score -2.537148714527668\n"
          ]
        }
      ]
    },
    {
      "cell_type": "markdown",
      "source": [
        "##3. Realiza la Regresión Polinomial completa: tu modelo generado (ecuación), su visualización, sus errores y r cuadrada."
      ],
      "metadata": {
        "id": "6uKL1fbmDB5-"
      }
    },
    {
      "cell_type": "code",
      "source": [
        "from sklearn.preprocessing import PolynomialFeatures\n",
        "\n",
        "#Instanciamos el modelo polinomial grado 2 y asignamos a X_poly el valor del atributo de X_train y el mismo atributo al cuadrado\n",
        "poly_features = PolynomialFeatures(degree=2, include_bias=False)\n",
        "X_mipoly = poly_features.fit_transform(X_train)\n",
        "\n",
        "#Visualizamos el contenido de X_poly\n",
        "X_mipoly"
      ],
      "metadata": {
        "colab": {
          "base_uri": "https://localhost:8080/"
        },
        "id": "pp6_wZP-Cbsr",
        "outputId": "14a88c91-f770-461d-ce4d-e884b9c30c79"
      },
      "execution_count": 33,
      "outputs": [
        {
          "output_type": "execute_result",
          "data": {
            "text/plain": [
              "array([[ 7.97424764, 63.58862541],\n",
              "       [ 1.89573077,  3.59379517],\n",
              "       [ 3.5765014 , 12.79136229],\n",
              "       ...,\n",
              "       [ 3.94046305, 15.52724904],\n",
              "       [ 4.52448429, 20.4709581 ],\n",
              "       [ 5.86814353, 34.43510849]])"
            ]
          },
          "metadata": {},
          "execution_count": 33
        }
      ]
    },
    {
      "cell_type": "code",
      "source": [
        "#Preparación del modelo \n",
        "lin_reg = LinearRegression(fit_intercept=True)\n",
        "lin_reg.fit(X_mipoly, y_train)\n",
        "\n",
        "#Construcción de linea de ajuste\n",
        "X_fit_pol = np.linspace(0, 10, 100)\n",
        "y_fit_pol = linear_reg.predict(X_fit_pol[:, np.newaxis])\n",
        "\n",
        "#Buscamos la pendiente \"a\" y el punto de intercepción \"b\"\n",
        "print(\"Pendiente igual a\", lin_reg.coef_)\n",
        "print(\"Intercepción igual a\", lin_reg.intercept_)"
      ],
      "metadata": {
        "id": "LWvfEDGKuoLJ",
        "colab": {
          "base_uri": "https://localhost:8080/"
        },
        "outputId": "875ce5c9-4b93-45df-f59d-b776f10b2a64"
      },
      "execution_count": 34,
      "outputs": [
        {
          "output_type": "stream",
          "name": "stdout",
          "text": [
            "Pendiente igual a [-16.40638102   1.13136095]\n",
            "Intercepción igual a 88.80179909112496\n"
          ]
        },
        {
          "output_type": "stream",
          "name": "stderr",
          "text": [
            "/usr/local/lib/python3.7/dist-packages/sklearn/base.py:451: UserWarning: X does not have valid feature names, but LinearRegression was fitted with feature names\n",
            "  \"X does not have valid feature names, but\"\n"
          ]
        }
      ]
    },
    {
      "cell_type": "markdown",
      "source": [
        "De acuerdo a los resultados obtenemos la siguiente ecuación: \n",
        "\n",
        "**Y= 16.40x + 1.31x2 + 88.80** \n",
        "\n",
        "Y graficando nuestro modelo"
      ],
      "metadata": {
        "id": "VxwvUko3Dc6i"
      }
    },
    {
      "cell_type": "code",
      "source": [
        "#Realizamos la predicción del modelo\n",
        "X_new_poly = poly_features.transform(X_test)\n",
        "X_new_poly_train= poly_features.transform(X_train)\n",
        "y_new = lin_reg.predict(X_new_poly)\n",
        "\n",
        "#Para este paso se considera importante organizar los datos.\n",
        "Orden_X = np.argsort(X_test.values.ravel())\n",
        "sortedX = X_test.values.ravel()[Orden_X]\n",
        "sortedY = y_test.values[Orden_X]\n",
        "sorted_pred = y_new[Orden_X]\n",
        "\n",
        "#Graficamos\n",
        "plt.scatter(X_train, np.ravel(y_train), marker='^', label='real')  \n",
        "plt.scatter(sortedX, sorted_pred, marker='d', label='Polynomial', color='g')\n",
        "plt.xlabel(\"$ypred-polynomial$\", fontsize=18)\n",
        "plt.ylabel(\"$y$\", rotation=0, fontsize=18)\n",
        "plt.legend(loc=\"upper left\", fontsize=14)\n",
        "plt.legend(loc=2)\n",
        "plt.show()"
      ],
      "metadata": {
        "colab": {
          "base_uri": "https://localhost:8080/",
          "height": 291
        },
        "id": "neipNkVuD42d",
        "outputId": "c2578fad-734d-452b-dd2d-a90e366385eb"
      },
      "execution_count": 35,
      "outputs": [
        {
          "output_type": "display_data",
          "data": {
            "text/plain": [
              "<Figure size 432x288 with 1 Axes>"
            ],
            "image/png": "[encoded data removed]"
          },
          "metadata": {
            "needs_background": "light"
          }
        }
      ]
    },
    {
      "cell_type": "code",
      "source": [
        "print(\"-----------Precisión del modelo---------\")\n",
        "print(\"Entrenamiento:\", lin_reg.score(X_new_poly_train, y_train))\n",
        "print(\"Pruebas:\", lin_reg.score(X_new_poly, y_test))\n",
        "print(\"-----------Errores del modelo-----------\")\n",
        "print('Error medio Absoluto (MAE):', metrics.mean_absolute_error(y_test, y_new))\n",
        "print('Root Mean Squared Error:', np.sqrt(metrics.mean_squared_error(y_test, y_new)))\n",
        "print(\"-----------R squared--------------------\")\n",
        "print('r2_score',r2_score(y_test, y_new))"
      ],
      "metadata": {
        "colab": {
          "base_uri": "https://localhost:8080/"
        },
        "id": "hgVq2bpmEIZy",
        "outputId": "60cf45fc-e823-49d2-c42c-af71a5727f35"
      },
      "execution_count": 36,
      "outputs": [
        {
          "output_type": "stream",
          "name": "stdout",
          "text": [
            "-----------Precisión del modelo---------\n",
            "Entrenamiento: 0.6552276217097528\n",
            "Pruebas: 0.7385501224942536\n",
            "-----------Errores del modelo-----------\n",
            "Error medio Absoluto (MAE): 4.3833025759681075\n",
            "Root Mean Squared Error: 5.832771301068425\n",
            "-----------R squared--------------------\n",
            "r2_score 0.7385501224942536\n"
          ]
        }
      ]
    },
    {
      "cell_type": "markdown",
      "source": [
        "##4. Realiza la regresión con Ridge y Lasso: incluye la ecuación de tu modelo, visualización , errores y r cuadrada."
      ],
      "metadata": {
        "id": "6hEEm9qBEW3m"
      }
    },
    {
      "cell_type": "markdown",
      "source": [
        "###**4.1 Modelo RIGDE**"
      ],
      "metadata": {
        "id": "uYOjN6nqFl_l"
      }
    },
    {
      "cell_type": "code",
      "source": [
        "from sklearn.linear_model import Lasso, Ridge\n",
        "\n",
        "#Definimos el modelo ridge\n",
        "Mod_Ridge = Ridge(alpha=0.1, solver=\"cholesky\")\n",
        "\n",
        "#Ajustamos el modelo y realizamos la preddición \n",
        "Regresion_Ridge = Mod_Ridge.fit(X_train, np.ravel(y_train))\n",
        "X_fit_ridge = np.linspace(0, 10, 900)\n",
        "y_pred_ridge = Regresion_Ridge.predict(X_test)\n",
        "  \n",
        "#Buscamos la pendiente \"a\" y el punto de intercepción \"b\"\n",
        "print(\"Pendiente igual a\", Regresion_Ridge.coef_)\n",
        "print(\"Intercepción igual a\", Regresion_Ridge.intercept_)"
      ],
      "metadata": {
        "colab": {
          "base_uri": "https://localhost:8080/"
        },
        "id": "Fqb6ZJsfEZ1k",
        "outputId": "19921130-6f49-4466-c842-6f23f94b8c93"
      },
      "execution_count": 37,
      "outputs": [
        {
          "output_type": "stream",
          "name": "stdout",
          "text": [
            "Pendiente igual a [-5.98844997]\n",
            "Intercepción igual a 66.83482072458477\n"
          ]
        }
      ]
    },
    {
      "cell_type": "markdown",
      "source": [
        "Obtenemos la siguiente ecuacion:\n",
        "\n",
        "**Regresión Rigde: -5.98x + 66.83**\n"
      ],
      "metadata": {
        "id": "x_FaLKE7EsnD"
      }
    },
    {
      "cell_type": "code",
      "source": [
        "#Organizamos los datos\n",
        "Orden_X = np.argsort(X_test.values.ravel())\n",
        "sortedX = X_test.values.ravel()[Orden_X]\n",
        "sortedY = y_test.values[Orden_X]\n",
        "sorted_pred = y_pred_ridge[Orden_X]\n",
        "#Graficamos\n",
        "plt.scatter(X_train, np.ravel(y_train), marker='^', label='real')  \n",
        "plt.scatter(sortedX, sorted_pred, marker='d', label='ridge', color='y')\n",
        "plt.xlabel(\"$ypred-ridge$\", fontsize=18)\n",
        "plt.ylabel(\"$y$\", rotation=0, fontsize=18)\n",
        "plt.legend(loc=\"upper left\", fontsize=14)\n",
        "plt.legend(loc=2)\n",
        "plt.show()"
      ],
      "metadata": {
        "colab": {
          "base_uri": "https://localhost:8080/",
          "height": 291
        },
        "id": "vgMOerg7FM_K",
        "outputId": "1e377771-4d62-4edb-ba9f-63c0c1af71a3"
      },
      "execution_count": 39,
      "outputs": [
        {
          "output_type": "display_data",
          "data": {
            "text/plain": [
              "<Figure size 432x288 with 1 Axes>"
            ],
            "image/png": "[encoded data removed]"
          },
          "metadata": {
            "needs_background": "light"
          }
        }
      ]
    },
    {
      "cell_type": "code",
      "source": [
        "print(\"-----------Precisión del modelo---------\")\n",
        "print(\"Entrenamiento:\", Mod_Ridge.score(X_train, y_train))\n",
        "print(\"Pruebas:\", Mod_Ridge.score(X_test, y_test))\n",
        "print(\"-----------Errores del modelo-----------\")\n",
        "print('Error medio Absoluto (MAE):', metrics.mean_absolute_error(y_test, y_pred_ridge))\n",
        "print('Root Mean Squared Error:', np.sqrt(metrics.mean_squared_error(y_test, y_pred_ridge)))\n",
        "print(\"-----------R squared--------------------\")\n",
        "print('r2_score',r2_score(y_test, y_pred_ridge))"
      ],
      "metadata": {
        "colab": {
          "base_uri": "https://localhost:8080/"
        },
        "id": "x4NSf1ykFbIi",
        "outputId": "7d6a34c8-976d-4816-e362-766b1bc39d3e"
      },
      "execution_count": 40,
      "outputs": [
        {
          "output_type": "stream",
          "name": "stdout",
          "text": [
            "-----------Precisión del modelo---------\n",
            "Entrenamiento: 0.5746524626629732\n",
            "Pruebas: 0.6116205486880515\n",
            "-----------Errores del modelo-----------\n",
            "Error medio Absoluto (MAE): 5.013640302610032\n",
            "Root Mean Squared Error: 7.109005479179772\n",
            "-----------R squared--------------------\n",
            "r2_score 0.6116205486880515\n"
          ]
        }
      ]
    },
    {
      "cell_type": "markdown",
      "source": [
        "###**4.2 Modelo LASSO**"
      ],
      "metadata": {
        "id": "CnHYddI-Fsyj"
      }
    },
    {
      "cell_type": "code",
      "source": [
        "#Creamos el modelo LASSO\n",
        "Mod_Lasso = Lasso(alpha=30)\n",
        "\n",
        "#Ajustamos el modelo y predecimos\n",
        "Regresion_Lasso = Mod_Lasso.fit(X_train, np.ravel(y_train))\n",
        "X_fit_lasso = np.linspace(0, 10, 900)\n",
        "y_pred_lasso = Regresion_Lasso.predict(X_test)\n",
        "  \n",
        "#Buscamos la pendiente \"a\" y el punto de intercepción \"b\"\n",
        "print(\"Pendiente igual a\", Regresion_Lasso.coef_)\n",
        "print(\"Intercepción igual a\", Regresion_Lasso.intercept_)"
      ],
      "metadata": {
        "colab": {
          "base_uri": "https://localhost:8080/"
        },
        "id": "D5E38CMAFzJw",
        "outputId": "e17a788f-25fc-4ddb-9196-2937f20ca921"
      },
      "execution_count": 41,
      "outputs": [
        {
          "output_type": "stream",
          "name": "stdout",
          "text": [
            "Pendiente igual a [-0.]\n",
            "Intercepción igual a 40.044068093688885\n"
          ]
        }
      ]
    },
    {
      "cell_type": "markdown",
      "source": [
        "Obtenemos la siguiente ecuacion:\n",
        "\n",
        "**Regresión Rigde: 0x + 40.044**"
      ],
      "metadata": {
        "id": "BTIoiG9-F_dA"
      }
    },
    {
      "cell_type": "code",
      "source": [
        "#Organizamos nuestros datos\n",
        "Orden_X = np.argsort(X_test.values.ravel())\n",
        "Orden_X_train=np.argsort(X_train.values.ravel())\n",
        "\n",
        "sortedX = X_test.values.ravel()[Orden_X]\n",
        "sortedX_train = X_train.values.ravel()[Orden_X_train]\n",
        "sortedY = y_test.values[Orden_X]\n",
        "sorted_pred = y_pred_lasso[Orden_X]\n",
        "\n",
        "#Graficamos\n",
        "plt.scatter(X_train, np.ravel(y_train), marker='^', label='real')  \n",
        "plt.scatter(sortedX, sorted_pred, marker='d', label='lasso', color='m')\n",
        "plt.xlabel(\"$ypred-lasso$\", fontsize=18)\n",
        "plt.ylabel(\"$y$\", rotation=0, fontsize=18)\n",
        "plt.legend(loc=\"upper left\", fontsize=14)\n",
        "plt.legend(loc=2)\n",
        "plt.show()"
      ],
      "metadata": {
        "colab": {
          "base_uri": "https://localhost:8080/",
          "height": 291
        },
        "id": "mwQEoAwyFFEx",
        "outputId": "7427a882-a34d-44b0-9527-bc1f5cb4e57c"
      },
      "execution_count": 42,
      "outputs": [
        {
          "output_type": "display_data",
          "data": {
            "text/plain": [
              "<Figure size 432x288 with 1 Axes>"
            ],
            "image/png": "[encoded data removed]"
          },
          "metadata": {
            "needs_background": "light"
          }
        }
      ]
    },
    {
      "cell_type": "code",
      "source": [
        "print(\"-----------Precisión del modelo---------\")\n",
        "print(\"Entrenamiento:\", Regresion_Lasso.score(X_train, y_train))\n",
        "print(\"Pruebas:\", Regresion_Lasso.score(X_test, y_test))\n",
        "print(\"-----------Errores del modelo-----------\")\n",
        "print('Error medio Absoluto (MAE):', metrics.mean_absolute_error(sortedY, sorted_pred))\n",
        "print('Root Mean Squared Error:', np.sqrt(metrics.mean_squared_error(sortedY, sorted_pred)))\n",
        "print(\"-----------R squared--------------------\")\n",
        "print('r2_score',r2_score(sortedY, sorted_pred))"
      ],
      "metadata": {
        "colab": {
          "base_uri": "https://localhost:8080/"
        },
        "id": "EwzxFUUxGLd8",
        "outputId": "126517d3-4d18-44c0-a966-606721719c62"
      },
      "execution_count": 43,
      "outputs": [
        {
          "output_type": "stream",
          "name": "stdout",
          "text": [
            "-----------Precisión del modelo---------\n",
            "Entrenamiento: 0.0\n",
            "Pruebas: -6.130156795136621e-05\n",
            "-----------Errores del modelo-----------\n",
            "Error medio Absoluto (MAE): 8.173133499816444\n",
            "Root Mean Squared Error: 11.407593526938278\n",
            "-----------R squared--------------------\n",
            "r2_score -6.130156795158825e-05\n"
          ]
        }
      ]
    },
    {
      "cell_type": "markdown",
      "source": [
        "**5. Finalmente grafica:**\n",
        "* MAE (de los cuatro métodos)\n",
        "* R2 (de los cuatro métodos)"
      ],
      "metadata": {
        "id": "RuXYkTW-GYdQ"
      }
    },
    {
      "cell_type": "markdown",
      "source": [
        "###**5.1 MAE de los cuatro modelos.**"
      ],
      "metadata": {
        "id": "5OFk60jqHt8C"
      }
    },
    {
      "cell_type": "code",
      "source": [
        "#Creamos un diccionario con los resultados de nuestros modelos\n",
        "data_MAE = {'REGRESSION': [metrics.mean_absolute_error(y_test, y_fit)], \n",
        "        'POLYNOMIAL': metrics.mean_absolute_error(y_test, y_new),\n",
        "        'RIDGE': [metrics.mean_absolute_error(y_test, y_pred_ridge)],\n",
        "        'LASSO': metrics.mean_absolute_error(y_test, y_pred_lasso)}\n",
        "\n",
        "\n",
        "#Obtenemos valores para los ejes\n",
        "errores_MAE = list(data_MAE.keys())\n",
        "values_MAE = list(data_MAE.values())\n",
        "fig = plt.figure(figsize = (10, 5))\n",
        " \n",
        "#Graficamos\n",
        "plt.bar(errores_MAE, values_MAE, color = 'green', width = 0.4)\n",
        "\n",
        "\n",
        "print(\"-----Resultados MAE-----\")\n",
        "print(data_MAE)\n",
        "print(\"---------------------\")\n",
        "\n",
        "#Visualizamos el bar plot\n",
        "plt.xlabel(\"Modelos\")\n",
        "plt.ylabel(\"Mean Absolute Error\")\n",
        "plt.title(\"MAE por modelo\")\n",
        "plt.show()"
      ],
      "metadata": {
        "colab": {
          "base_uri": "https://localhost:8080/",
          "height": 457
        },
        "id": "fBZ4nLwhGrAE",
        "outputId": "fb19ec4b-f173-4533-8d67-96c9c380313e"
      },
      "execution_count": 48,
      "outputs": [
        {
          "output_type": "stream",
          "name": "stdout",
          "text": [
            "-----Resultados MAE-----\n",
            "{'REGRESSION': [17.04846730203102], 'POLYNOMIAL': 4.3833025759681075, 'RIDGE': [5.013640302610032], 'LASSO': 8.173133499816442}\n",
            "---------------------\n"
          ]
        },
        {
          "output_type": "stream",
          "name": "stderr",
          "text": [
            "/usr/local/lib/python3.7/dist-packages/numpy/lib/stride_tricks.py:536: VisibleDeprecationWarning: Creating an ndarray from ragged nested sequences (which is a list-or-tuple of lists-or-tuples-or ndarrays with different lengths or shapes) is deprecated. If you meant to do this, you must specify 'dtype=object' when creating the ndarray.\n",
            "  args = [np.array(_m, copy=False, subok=subok) for _m in args]\n"
          ]
        },
        {
          "output_type": "display_data",
          "data": {
            "text/plain": [
              "<Figure size 720x360 with 1 Axes>"
            ],
            "image/png": "[encoded data removed]"
          },
          "metadata": {
            "needs_background": "light"
          }
        }
      ]
    },
    {
      "cell_type": "markdown",
      "source": [
        "###**5.2 R2 de los cuatro modelos.**"
      ],
      "metadata": {
        "id": "E_VIwcZoH1Ha"
      }
    },
    {
      "cell_type": "code",
      "source": [
        "#Creamos un diccionario con los resultados de nuestros modelos\n",
        "data_R2 = {'REGRESSION': np.sqrt(metrics.mean_squared_error(y_test, y_fit)),\n",
        "        'POLYNOMIAL': np.sqrt(metrics.mean_squared_error(y_test, y_new)),\n",
        "        'RIDGE': np.sqrt(metrics.mean_squared_error(y_test, y_pred_ridge)),\n",
        "        'LASSO': np.sqrt(metrics.mean_squared_error(y_test, y_pred_lasso))}\n",
        "\n",
        "\n",
        "#Obtenemos valores para los ejes\n",
        "errores_R2 = list(data_R2.keys())\n",
        "values_R2 = list(data_R2.values())\n",
        "fig = plt.figure(figsize = (10, 5))\n",
        " \n",
        "#Graficamos\n",
        "plt.bar(errores_R2, values_R2, color ='orange', width = 0.4)\n",
        "\n",
        "print(\"----Resultados R2----\")\n",
        "print(data_R2)\n",
        "print(\"---------------------\")\n",
        "\n",
        "#Visualizamos el bar plot\n",
        "plt.xlabel(\"Modelos\")\n",
        "plt.ylabel(\"R-squared Error\")\n",
        "plt.title(\"R-squared para cada modelo\")\n",
        "plt.show()"
      ],
      "metadata": {
        "colab": {
          "base_uri": "https://localhost:8080/",
          "height": 402
        },
        "id": "9fJl7M8MHs5Q",
        "outputId": "21215799-bfd4-4c28-ca94-1948287faed0"
      },
      "execution_count": 50,
      "outputs": [
        {
          "output_type": "stream",
          "name": "stdout",
          "text": [
            "----Resultados R2----\n",
            "{'REGRESSION': 21.45395605907538, 'POLYNOMIAL': 5.832771301068425, 'RIDGE': 7.109005479179772, 'LASSO': 11.407593526938278}\n",
            "---------------------\n"
          ]
        },
        {
          "output_type": "display_data",
          "data": {
            "text/plain": [
              "<Figure size 720x360 with 1 Axes>"
            ],
            "image/png": "[encoded data removed]"
          },
          "metadata": {
            "needs_background": "light"
          }
        }
      ]
    },
    {
      "cell_type": "markdown",
      "source": [
        "### **6. Explica tus resultados, que método conviene más a la empresa, ¿por que?, ¿que porcentajes de entrenamiento y evaluación?, ¿que error tienes?, ¿es bueno?, ¿cómo lo sabes?**"
      ],
      "metadata": {
        "id": "ZMhXDyokIdVM"
      }
    },
    {
      "cell_type": "markdown",
      "source": [
        "Para el siguiente analisis el modelo polinomial de 2do orden obtuvo un mejor desempeño como lo vemos a continuación:\n",
        "\n",
        "![image.png](data:image/png;base64,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)"
      ],
      "metadata": {
        "id": "SI6BtblbIh1m"
      }
    },
    {
      "cell_type": "markdown",
      "source": [
        "* Si observamos la curva se adapta a los datos y no como en el caso de los otros modelos que obteniamos una linea recta la cual no es acorde a lo que esperamos. \n",
        "\n",
        "* En cuanto a las metricas es valioso reconocer el desempeño del modelo con un alto valor tanto en conjunto de entrenamiento como de validación.\n",
        "\n",
        "* Observamos que nuestro modelo no se sub ni sobre entrena con este orden del polinomio, lo cual nos ahorra capacidad de computo para el momento de su despliegue con mayor cantidad de datos. \n",
        "\n",
        "* Para saber si el error que obtuvimos es bueno debemos tener presente que entre mas este se acerque a 0 mejores resultados podemos obtener si hablamos de precisión con nuestras predicciones. \n",
        "\n",
        "* Es importante poder tener varios modelos para poder hacer la comparación al momento de tomar la decisición de optar por uno solo, ya que tenemos un panorama general de como se comportan nuestros datos con diferentes alternativas y tendremos para elegir el que mejor se adapte a ellos y menor error obtengamos. "
      ],
      "metadata": {
        "id": "WpajAEKaI1ul"
      }
    },
    {
      "cell_type": "markdown",
      "metadata": {
        "id": "CfqcmLmxLoe9"
      },
      "source": [
        "#Ejercicio 2\n",
        "Realiza la regresión polinomial de los siguientes datos:"
      ]
    },
    {
      "cell_type": "code",
      "source": [
        "df = pd.read_csv('https://raw.githubusercontent.com/marypazrf/bdd/main/kc_house_data.csv')\n",
        "df.sample(10)"
      ],
      "metadata": {
        "id": "57bn0j38qGrg",
        "colab": {
          "base_uri": "https://localhost:8080/",
          "height": 392
        },
        "outputId": "14c97dc6-0e1e-431c-a0d2-b47890f6b594"
      },
      "execution_count": 51,
      "outputs": [
        {
          "output_type": "execute_result",
          "data": {
            "text/plain": [
              "               id             date      price  bedrooms  bathrooms  \\\n",
              "5954   7852020250  20140602T000000   725995.0         4       2.50   \n",
              "8610   6392002020  20150324T000000   559000.0         3       1.75   \n",
              "7650    626049058  20150504T000000   275000.0         5       2.50   \n",
              "5683   2202500255  20150305T000000   335000.0         3       2.00   \n",
              "20773  7304301231  20140617T000000   345000.0         3       2.50   \n",
              "6959    723000114  20140505T000000  1395000.0         5       3.50   \n",
              "10784  4104900340  20150204T000000   710000.0         4       2.50   \n",
              "21529  2487200490  20140623T000000   670000.0         3       2.50   \n",
              "12319  2386000070  20141029T000000   795127.0         4       3.25   \n",
              "19948   293070090  20140711T000000   859990.0         4       2.75   \n",
              "\n",
              "       sqft_living  sqft_lot  floors  waterfront  view  ...  grade  \\\n",
              "5954          3190      7869     2.0           0     2  ...      9   \n",
              "8610          1700      6500     1.0           0     0  ...      8   \n",
              "7650          2570     17234     1.0           0     0  ...      7   \n",
              "5683          1210      9926     1.0           0     0  ...      7   \n",
              "20773         1680      2229     2.0           0     0  ...      7   \n",
              "6959          4010      8510     2.0           0     1  ...      9   \n",
              "10784         3220     18618     2.0           0     1  ...     10   \n",
              "21529         3310      5300     2.0           0     2  ...      8   \n",
              "12319         4360     91158     1.0           0     0  ...     10   \n",
              "19948         3520      5500     2.0           0     0  ...      9   \n",
              "\n",
              "       sqft_above  sqft_basement  yr_built  yr_renovated  zipcode      lat  \\\n",
              "5954         3190              0      2001             0    98065  47.5317   \n",
              "8610         1700              0      1967             0    98115  47.6837   \n",
              "7650         1300           1270      1959             0    98133  47.7753   \n",
              "5683         1210              0      1954          2015    98006  47.5731   \n",
              "20773        1680              0      2007             0    98155  47.7484   \n",
              "6959         2850           1160      1971             0    98105  47.6578   \n",
              "10784        3220              0      1991             0    98056  47.5326   \n",
              "21529        2440            870      2008             0    98136  47.5178   \n",
              "12319        3360           1000      1993             0    98053  47.6398   \n",
              "19948        3520              0      2014             0    98074  47.6181   \n",
              "\n",
              "          long  sqft_living15  sqft_lot15  \n",
              "5954  -121.866           2630        6739  \n",
              "8610  -122.284           1880        6000  \n",
              "7650  -122.355           1760        7969  \n",
              "5683  -122.135           1690        9737  \n",
              "20773 -122.322           1230        9300  \n",
              "6959  -122.286           2610        6128  \n",
              "10784 -122.181           2650       11896  \n",
              "21529 -122.389           2140        7500  \n",
              "12319 -121.985           3540       90940  \n",
              "19948 -122.056           3340        5500  \n",
              "\n",
              "[10 rows x 21 columns]"
            ],
            "text/html": [
              "\n",
              "  <div id=\"df-8ec297cb-39d6-4c27-9c41-b2047e9f0995\">\n",
              "    <div class=\"colab-df-container\">\n",
              "      <div>\n",
              "<style scoped>\n",
              "    .dataframe tbody tr th:only-of-type {\n",
              "        vertical-align: middle;\n",
              "    }\n",
              "\n",
              "    .dataframe tbody tr th {\n",
              "        vertical-align: top;\n",
              "    }\n",
              "\n",
              "    .dataframe thead th {\n",
              "        text-align: right;\n",
              "    }\n",
              "</style>\n",
              "<table border=\"1\" class=\"dataframe\">\n",
              "  <thead>\n",
              "    <tr style=\"text-align: right;\">\n",
              "      <th></th>\n",
              "      <th>id</th>\n",
              "      <th>date</th>\n",
              "      <th>price</th>\n",
              "      <th>bedrooms</th>\n",
              "      <th>bathrooms</th>\n",
              "      <th>sqft_living</th>\n",
              "      <th>sqft_lot</th>\n",
              "      <th>floors</th>\n",
              "      <th>waterfront</th>\n",
              "      <th>view</th>\n",
              "      <th>...</th>\n",
              "      <th>grade</th>\n",
              "      <th>sqft_above</th>\n",
              "      <th>sqft_basement</th>\n",
              "      <th>yr_built</th>\n",
              "      <th>yr_renovated</th>\n",
              "      <th>zipcode</th>\n",
              "      <th>lat</th>\n",
              "      <th>long</th>\n",
              "      <th>sqft_living15</th>\n",
              "      <th>sqft_lot15</th>\n",
              "    </tr>\n",
              "  </thead>\n",
              "  <tbody>\n",
              "    <tr>\n",
              "      <th>5954</th>\n",
              "      <td>7852020250</td>\n",
              "      <td>20140602T000000</td>\n",
              "      <td>725995.0</td>\n",
              "      <td>4</td>\n",
              "      <td>2.50</td>\n",
              "      <td>3190</td>\n",
              "      <td>7869</td>\n",
              "      <td>2.0</td>\n",
              "      <td>0</td>\n",
              "      <td>2</td>\n",
              "      <td>...</td>\n",
              "      <td>9</td>\n",
              "      <td>3190</td>\n",
              "      <td>0</td>\n",
              "      <td>2001</td>\n",
              "      <td>0</td>\n",
              "      <td>98065</td>\n",
              "      <td>47.5317</td>\n",
              "      <td>-121.866</td>\n",
              "      <td>2630</td>\n",
              "      <td>6739</td>\n",
              "    </tr>\n",
              "    <tr>\n",
              "      <th>8610</th>\n",
              "      <td>6392002020</td>\n",
              "      <td>20150324T000000</td>\n",
              "      <td>559000.0</td>\n",
              "      <td>3</td>\n",
              "      <td>1.75</td>\n",
              "      <td>1700</td>\n",
              "      <td>6500</td>\n",
              "      <td>1.0</td>\n",
              "      <td>0</td>\n",
              "      <td>0</td>\n",
              "      <td>...</td>\n",
              "      <td>8</td>\n",
              "      <td>1700</td>\n",
              "      <td>0</td>\n",
              "      <td>1967</td>\n",
              "      <td>0</td>\n",
              "      <td>98115</td>\n",
              "      <td>47.6837</td>\n",
              "      <td>-122.284</td>\n",
              "      <td>1880</td>\n",
              "      <td>6000</td>\n",
              "    </tr>\n",
              "    <tr>\n",
              "      <th>7650</th>\n",
              "      <td>626049058</td>\n",
              "      <td>20150504T000000</td>\n",
              "      <td>275000.0</td>\n",
              "      <td>5</td>\n",
              "      <td>2.50</td>\n",
              "      <td>2570</td>\n",
              "      <td>17234</td>\n",
              "      <td>1.0</td>\n",
              "      <td>0</td>\n",
              "      <td>0</td>\n",
              "      <td>...</td>\n",
              "      <td>7</td>\n",
              "      <td>1300</td>\n",
              "      <td>1270</td>\n",
              "      <td>1959</td>\n",
              "      <td>0</td>\n",
              "      <td>98133</td>\n",
              "      <td>47.7753</td>\n",
              "      <td>-122.355</td>\n",
              "      <td>1760</td>\n",
              "      <td>7969</td>\n",
              "    </tr>\n",
              "    <tr>\n",
              "      <th>5683</th>\n",
              "      <td>2202500255</td>\n",
              "      <td>20150305T000000</td>\n",
              "      <td>335000.0</td>\n",
              "      <td>3</td>\n",
              "      <td>2.00</td>\n",
              "      <td>1210</td>\n",
              "      <td>9926</td>\n",
              "      <td>1.0</td>\n",
              "      <td>0</td>\n",
              "      <td>0</td>\n",
              "      <td>...</td>\n",
              "      <td>7</td>\n",
              "      <td>1210</td>\n",
              "      <td>0</td>\n",
              "      <td>1954</td>\n",
              "      <td>2015</td>\n",
              "      <td>98006</td>\n",
              "      <td>47.5731</td>\n",
              "      <td>-122.135</td>\n",
              "      <td>1690</td>\n",
              "      <td>9737</td>\n",
              "    </tr>\n",
              "    <tr>\n",
              "      <th>20773</th>\n",
              "      <td>7304301231</td>\n",
              "      <td>20140617T000000</td>\n",
              "      <td>345000.0</td>\n",
              "      <td>3</td>\n",
              "      <td>2.50</td>\n",
              "      <td>1680</td>\n",
              "      <td>2229</td>\n",
              "      <td>2.0</td>\n",
              "      <td>0</td>\n",
              "      <td>0</td>\n",
              "      <td>...</td>\n",
              "      <td>7</td>\n",
              "      <td>1680</td>\n",
              "      <td>0</td>\n",
              "      <td>2007</td>\n",
              "      <td>0</td>\n",
              "      <td>98155</td>\n",
              "      <td>47.7484</td>\n",
              "      <td>-122.322</td>\n",
              "      <td>1230</td>\n",
              "      <td>9300</td>\n",
              "    </tr>\n",
              "    <tr>\n",
              "      <th>6959</th>\n",
              "      <td>723000114</td>\n",
              "      <td>20140505T000000</td>\n",
              "      <td>1395000.0</td>\n",
              "      <td>5</td>\n",
              "      <td>3.50</td>\n",
              "      <td>4010</td>\n",
              "      <td>8510</td>\n",
              "      <td>2.0</td>\n",
              "      <td>0</td>\n",
              "      <td>1</td>\n",
              "      <td>...</td>\n",
              "      <td>9</td>\n",
              "      <td>2850</td>\n",
              "      <td>1160</td>\n",
              "      <td>1971</td>\n",
              "      <td>0</td>\n",
              "      <td>98105</td>\n",
              "      <td>47.6578</td>\n",
              "      <td>-122.286</td>\n",
              "      <td>2610</td>\n",
              "      <td>6128</td>\n",
              "    </tr>\n",
              "    <tr>\n",
              "      <th>10784</th>\n",
              "      <td>4104900340</td>\n",
              "      <td>20150204T000000</td>\n",
              "      <td>710000.0</td>\n",
              "      <td>4</td>\n",
              "      <td>2.50</td>\n",
              "      <td>3220</td>\n",
              "      <td>18618</td>\n",
              "      <td>2.0</td>\n",
              "      <td>0</td>\n",
              "      <td>1</td>\n",
              "      <td>...</td>\n",
              "      <td>10</td>\n",
              "      <td>3220</td>\n",
              "      <td>0</td>\n",
              "      <td>1991</td>\n",
              "      <td>0</td>\n",
              "      <td>98056</td>\n",
              "      <td>47.5326</td>\n",
              "      <td>-122.181</td>\n",
              "      <td>2650</td>\n",
              "      <td>11896</td>\n",
              "    </tr>\n",
              "    <tr>\n",
              "      <th>21529</th>\n",
              "      <td>2487200490</td>\n",
              "      <td>20140623T000000</td>\n",
              "      <td>670000.0</td>\n",
              "      <td>3</td>\n",
              "      <td>2.50</td>\n",
              "      <td>3310</td>\n",
              "      <td>5300</td>\n",
              "      <td>2.0</td>\n",
              "      <td>0</td>\n",
              "      <td>2</td>\n",
              "      <td>...</td>\n",
              "      <td>8</td>\n",
              "      <td>2440</td>\n",
              "      <td>870</td>\n",
              "      <td>2008</td>\n",
              "      <td>0</td>\n",
              "      <td>98136</td>\n",
              "      <td>47.5178</td>\n",
              "      <td>-122.389</td>\n",
              "      <td>2140</td>\n",
              "      <td>7500</td>\n",
              "    </tr>\n",
              "    <tr>\n",
              "      <th>12319</th>\n",
              "      <td>2386000070</td>\n",
              "      <td>20141029T000000</td>\n",
              "      <td>795127.0</td>\n",
              "      <td>4</td>\n",
              "      <td>3.25</td>\n",
              "      <td>4360</td>\n",
              "      <td>91158</td>\n",
              "      <td>1.0</td>\n",
              "      <td>0</td>\n",
              "      <td>0</td>\n",
              "      <td>...</td>\n",
              "      <td>10</td>\n",
              "      <td>3360</td>\n",
              "      <td>1000</td>\n",
              "      <td>1993</td>\n",
              "      <td>0</td>\n",
              "      <td>98053</td>\n",
              "      <td>47.6398</td>\n",
              "      <td>-121.985</td>\n",
              "      <td>3540</td>\n",
              "      <td>90940</td>\n",
              "    </tr>\n",
              "    <tr>\n",
              "      <th>19948</th>\n",
              "      <td>293070090</td>\n",
              "      <td>20140711T000000</td>\n",
              "      <td>859990.0</td>\n",
              "      <td>4</td>\n",
              "      <td>2.75</td>\n",
              "      <td>3520</td>\n",
              "      <td>5500</td>\n",
              "      <td>2.0</td>\n",
              "      <td>0</td>\n",
              "      <td>0</td>\n",
              "      <td>...</td>\n",
              "      <td>9</td>\n",
              "      <td>3520</td>\n",
              "      <td>0</td>\n",
              "      <td>2014</td>\n",
              "      <td>0</td>\n",
              "      <td>98074</td>\n",
              "      <td>47.6181</td>\n",
              "      <td>-122.056</td>\n",
              "      <td>3340</td>\n",
              "      <td>5500</td>\n",
              "    </tr>\n",
              "  </tbody>\n",
              "</table>\n",
              "<p>10 rows × 21 columns</p>\n",
              "</div>\n",
              "      <button class=\"colab-df-convert\" onclick=\"convertToInteractive('df-8ec297cb-39d6-4c27-9c41-b2047e9f0995')\"\n",
              "              title=\"Convert this dataframe to an interactive table.\"\n",
              "              style=\"display:none;\">\n",
              "        \n",
              "  <svg xmlns=\"http://www.w3.org/2000/svg\" height=\"24px\"viewBox=\"0 0 24 24\"\n",
              "       width=\"24px\">\n",
              "    <path d=\"M0 0h24v24H0V0z\" fill=\"none\"/>\n",
              "    <path d=\"M18.56 5.44l.94 2.06.94-2.06 2.06-.94-2.06-.94-.94-2.06-.94 2.06-2.06.94zm-11 1L8.5 8.5l.94-2.06 2.06-.94-2.06-.94L8.5 2.5l-.94 2.06-2.06.94zm10 10l.94 2.06.94-2.06 2.06-.94-2.06-.94-.94-2.06-.94 2.06-2.06.94z\"/><path d=\"M17.41 7.96l-1.37-1.37c-.4-.4-.92-.59-1.43-.59-.52 0-1.04.2-1.43.59L10.3 9.45l-7.72 7.72c-.78.78-.78 2.05 0 2.83L4 21.41c.39.39.9.59 1.41.59.51 0 1.02-.2 1.41-.59l7.78-7.78 2.81-2.81c.8-.78.8-2.07 0-2.86zM5.41 20L4 18.59l7.72-7.72 1.47 1.35L5.41 20z\"/>\n",
              "  </svg>\n",
              "      </button>\n",
              "      \n",
              "  <style>\n",
              "    .colab-df-container {\n",
              "      display:flex;\n",
              "      flex-wrap:wrap;\n",
              "      gap: 12px;\n",
              "    }\n",
              "\n",
              "    .colab-df-convert {\n",
              "      background-color: #E8F0FE;\n",
              "      border: none;\n",
              "      border-radius: 50%;\n",
              "      cursor: pointer;\n",
              "      display: none;\n",
              "      fill: #1967D2;\n",
              "      height: 32px;\n",
              "      padding: 0 0 0 0;\n",
              "      width: 32px;\n",
              "    }\n",
              "\n",
              "    .colab-df-convert:hover {\n",
              "      background-color: #E2EBFA;\n",
              "      box-shadow: 0px 1px 2px rgba(60, 64, 67, 0.3), 0px 1px 3px 1px rgba(60, 64, 67, 0.15);\n",
              "      fill: #174EA6;\n",
              "    }\n",
              "\n",
              "    [theme=dark] .colab-df-convert {\n",
              "      background-color: #3B4455;\n",
              "      fill: #D2E3FC;\n",
              "    }\n",
              "\n",
              "    [theme=dark] .colab-df-convert:hover {\n",
              "      background-color: #434B5C;\n",
              "      box-shadow: 0px 1px 3px 1px rgba(0, 0, 0, 0.15);\n",
              "      filter: drop-shadow(0px 1px 2px rgba(0, 0, 0, 0.3));\n",
              "      fill: #FFFFFF;\n",
              "    }\n",
              "  </style>\n",
              "\n",
              "      <script>\n",
              "        const buttonEl =\n",
              "          document.querySelector('#df-8ec297cb-39d6-4c27-9c41-b2047e9f0995 button.colab-df-convert');\n",
              "        buttonEl.style.display =\n",
              "          google.colab.kernel.accessAllowed ? 'block' : 'none';\n",
              "\n",
              "        async function convertToInteractive(key) {\n",
              "          const element = document.querySelector('#df-8ec297cb-39d6-4c27-9c41-b2047e9f0995');\n",
              "          const dataTable =\n",
              "            await google.colab.kernel.invokeFunction('convertToInteractive',\n",
              "                                                     [key], {});\n",
              "          if (!dataTable) return;\n",
              "\n",
              "          const docLinkHtml = 'Like what you see? Visit the ' +\n",
              "            '<a target=\"_blank\" href=https://colab.research.google.com/notebooks/data_table.ipynb>data table notebook</a>'\n",
              "            + ' to learn more about interactive tables.';\n",
              "          element.innerHTML = '';\n",
              "          dataTable['output_type'] = 'display_data';\n",
              "          await google.colab.output.renderOutput(dataTable, element);\n",
              "          const docLink = document.createElement('div');\n",
              "          docLink.innerHTML = docLinkHtml;\n",
              "          element.appendChild(docLink);\n",
              "        }\n",
              "      </script>\n",
              "    </div>\n",
              "  </div>\n",
              "  "
            ]
          },
          "metadata": {},
          "execution_count": 51
        }
      ]
    },
    {
      "cell_type": "code",
      "source": [
        "df.info()"
      ],
      "metadata": {
        "id": "n0fs14KoqI3M",
        "colab": {
          "base_uri": "https://localhost:8080/"
        },
        "outputId": "c8f3a278-cc9e-4374-90a0-583d1e311bb7"
      },
      "execution_count": 52,
      "outputs": [
        {
          "output_type": "stream",
          "name": "stdout",
          "text": [
            "<class 'pandas.core.frame.DataFrame'>\n",
            "RangeIndex: 21613 entries, 0 to 21612\n",
            "Data columns (total 21 columns):\n",
            " #   Column         Non-Null Count  Dtype  \n",
            "---  ------         --------------  -----  \n",
            " 0   id             21613 non-null  int64  \n",
            " 1   date           21613 non-null  object \n",
            " 2   price          21613 non-null  float64\n",
            " 3   bedrooms       21613 non-null  int64  \n",
            " 4   bathrooms      21613 non-null  float64\n",
            " 5   sqft_living    21613 non-null  int64  \n",
            " 6   sqft_lot       21613 non-null  int64  \n",
            " 7   floors         21613 non-null  float64\n",
            " 8   waterfront     21613 non-null  int64  \n",
            " 9   view           21613 non-null  int64  \n",
            " 10  condition      21613 non-null  int64  \n",
            " 11  grade          21613 non-null  int64  \n",
            " 12  sqft_above     21613 non-null  int64  \n",
            " 13  sqft_basement  21613 non-null  int64  \n",
            " 14  yr_built       21613 non-null  int64  \n",
            " 15  yr_renovated   21613 non-null  int64  \n",
            " 16  zipcode        21613 non-null  int64  \n",
            " 17  lat            21613 non-null  float64\n",
            " 18  long           21613 non-null  float64\n",
            " 19  sqft_living15  21613 non-null  int64  \n",
            " 20  sqft_lot15     21613 non-null  int64  \n",
            "dtypes: float64(5), int64(15), object(1)\n",
            "memory usage: 3.5+ MB\n"
          ]
        }
      ]
    },
    {
      "cell_type": "code",
      "source": [
        "df.describe()"
      ],
      "metadata": {
        "id": "1PNzDJZeqKhe",
        "colab": {
          "base_uri": "https://localhost:8080/",
          "height": 300
        },
        "outputId": "65318fde-ace2-4f85-fb6b-adba1e27f398"
      },
      "execution_count": 53,
      "outputs": [
        {
          "output_type": "execute_result",
          "data": {
            "text/plain": [
              "                 id         price      bedrooms     bathrooms   sqft_living  \\\n",
              "count  2.161300e+04  2.161300e+04  21613.000000  21613.000000  21613.000000   \n",
              "mean   4.580302e+09  5.400881e+05      3.370842      2.114757   2079.899736   \n",
              "std    2.876566e+09  3.671272e+05      0.930062      0.770163    918.440897   \n",
              "min    1.000102e+06  7.500000e+04      0.000000      0.000000    290.000000   \n",
              "25%    2.123049e+09  3.219500e+05      3.000000      1.750000   1427.000000   \n",
              "50%    3.904930e+09  4.500000e+05      3.000000      2.250000   1910.000000   \n",
              "75%    7.308900e+09  6.450000e+05      4.000000      2.500000   2550.000000   \n",
              "max    9.900000e+09  7.700000e+06     33.000000      8.000000  13540.000000   \n",
              "\n",
              "           sqft_lot        floors    waterfront          view     condition  \\\n",
              "count  2.161300e+04  21613.000000  21613.000000  21613.000000  21613.000000   \n",
              "mean   1.510697e+04      1.494309      0.007542      0.234303      3.409430   \n",
              "std    4.142051e+04      0.539989      0.086517      0.766318      0.650743   \n",
              "min    5.200000e+02      1.000000      0.000000      0.000000      1.000000   \n",
              "25%    5.040000e+03      1.000000      0.000000      0.000000      3.000000   \n",
              "50%    7.618000e+03      1.500000      0.000000      0.000000      3.000000   \n",
              "75%    1.068800e+04      2.000000      0.000000      0.000000      4.000000   \n",
              "max    1.651359e+06      3.500000      1.000000      4.000000      5.000000   \n",
              "\n",
              "              grade    sqft_above  sqft_basement      yr_built  yr_renovated  \\\n",
              "count  21613.000000  21613.000000   21613.000000  21613.000000  21613.000000   \n",
              "mean       7.656873   1788.390691     291.509045   1971.005136     84.402258   \n",
              "std        1.175459    828.090978     442.575043     29.373411    401.679240   \n",
              "min        1.000000    290.000000       0.000000   1900.000000      0.000000   \n",
              "25%        7.000000   1190.000000       0.000000   1951.000000      0.000000   \n",
              "50%        7.000000   1560.000000       0.000000   1975.000000      0.000000   \n",
              "75%        8.000000   2210.000000     560.000000   1997.000000      0.000000   \n",
              "max       13.000000   9410.000000    4820.000000   2015.000000   2015.000000   \n",
              "\n",
              "            zipcode           lat          long  sqft_living15     sqft_lot15  \n",
              "count  21613.000000  21613.000000  21613.000000   21613.000000   21613.000000  \n",
              "mean   98077.939805     47.560053   -122.213896    1986.552492   12768.455652  \n",
              "std       53.505026      0.138564      0.140828     685.391304   27304.179631  \n",
              "min    98001.000000     47.155900   -122.519000     399.000000     651.000000  \n",
              "25%    98033.000000     47.471000   -122.328000    1490.000000    5100.000000  \n",
              "50%    98065.000000     47.571800   -122.230000    1840.000000    7620.000000  \n",
              "75%    98118.000000     47.678000   -122.125000    2360.000000   10083.000000  \n",
              "max    98199.000000     47.777600   -121.315000    6210.000000  871200.000000  "
            ],
            "text/html": [
              "\n",
              "  <div id=\"df-c46061a1-e8d8-4744-8d55-b99144595323\">\n",
              "    <div class=\"colab-df-container\">\n",
              "      <div>\n",
              "<style scoped>\n",
              "    .dataframe tbody tr th:only-of-type {\n",
              "        vertical-align: middle;\n",
              "    }\n",
              "\n",
              "    .dataframe tbody tr th {\n",
              "        vertical-align: top;\n",
              "    }\n",
              "\n",
              "    .dataframe thead th {\n",
              "        text-align: right;\n",
              "    }\n",
              "</style>\n",
              "<table border=\"1\" class=\"dataframe\">\n",
              "  <thead>\n",
              "    <tr style=\"text-align: right;\">\n",
              "      <th></th>\n",
              "      <th>id</th>\n",
              "      <th>price</th>\n",
              "      <th>bedrooms</th>\n",
              "      <th>bathrooms</th>\n",
              "      <th>sqft_living</th>\n",
              "      <th>sqft_lot</th>\n",
              "      <th>floors</th>\n",
              "      <th>waterfront</th>\n",
              "      <th>view</th>\n",
              "      <th>condition</th>\n",
              "      <th>grade</th>\n",
              "      <th>sqft_above</th>\n",
              "      <th>sqft_basement</th>\n",
              "      <th>yr_built</th>\n",
              "      <th>yr_renovated</th>\n",
              "      <th>zipcode</th>\n",
              "      <th>lat</th>\n",
              "      <th>long</th>\n",
              "      <th>sqft_living15</th>\n",
              "      <th>sqft_lot15</th>\n",
              "    </tr>\n",
              "  </thead>\n",
              "  <tbody>\n",
              "    <tr>\n",
              "      <th>count</th>\n",
              "      <td>2.161300e+04</td>\n",
              "      <td>2.161300e+04</td>\n",
              "      <td>21613.000000</td>\n",
              "      <td>21613.000000</td>\n",
              "      <td>21613.000000</td>\n",
              "      <td>2.161300e+04</td>\n",
              "      <td>21613.000000</td>\n",
              "      <td>21613.000000</td>\n",
              "      <td>21613.000000</td>\n",
              "      <td>21613.000000</td>\n",
              "      <td>21613.000000</td>\n",
              "      <td>21613.000000</td>\n",
              "      <td>21613.000000</td>\n",
              "      <td>21613.000000</td>\n",
              "      <td>21613.000000</td>\n",
              "      <td>21613.000000</td>\n",
              "      <td>21613.000000</td>\n",
              "      <td>21613.000000</td>\n",
              "      <td>21613.000000</td>\n",
              "      <td>21613.000000</td>\n",
              "    </tr>\n",
              "    <tr>\n",
              "      <th>mean</th>\n",
              "      <td>4.580302e+09</td>\n",
              "      <td>5.400881e+05</td>\n",
              "      <td>3.370842</td>\n",
              "      <td>2.114757</td>\n",
              "      <td>2079.899736</td>\n",
              "      <td>1.510697e+04</td>\n",
              "      <td>1.494309</td>\n",
              "      <td>0.007542</td>\n",
              "      <td>0.234303</td>\n",
              "      <td>3.409430</td>\n",
              "      <td>7.656873</td>\n",
              "      <td>1788.390691</td>\n",
              "      <td>291.509045</td>\n",
              "      <td>1971.005136</td>\n",
              "      <td>84.402258</td>\n",
              "      <td>98077.939805</td>\n",
              "      <td>47.560053</td>\n",
              "      <td>-122.213896</td>\n",
              "      <td>1986.552492</td>\n",
              "      <td>12768.455652</td>\n",
              "    </tr>\n",
              "    <tr>\n",
              "      <th>std</th>\n",
              "      <td>2.876566e+09</td>\n",
              "      <td>3.671272e+05</td>\n",
              "      <td>0.930062</td>\n",
              "      <td>0.770163</td>\n",
              "      <td>918.440897</td>\n",
              "      <td>4.142051e+04</td>\n",
              "      <td>0.539989</td>\n",
              "      <td>0.086517</td>\n",
              "      <td>0.766318</td>\n",
              "      <td>0.650743</td>\n",
              "      <td>1.175459</td>\n",
              "      <td>828.090978</td>\n",
              "      <td>442.575043</td>\n",
              "      <td>29.373411</td>\n",
              "      <td>401.679240</td>\n",
              "      <td>53.505026</td>\n",
              "      <td>0.138564</td>\n",
              "      <td>0.140828</td>\n",
              "      <td>685.391304</td>\n",
              "      <td>27304.179631</td>\n",
              "    </tr>\n",
              "    <tr>\n",
              "      <th>min</th>\n",
              "      <td>1.000102e+06</td>\n",
              "      <td>7.500000e+04</td>\n",
              "      <td>0.000000</td>\n",
              "      <td>0.000000</td>\n",
              "      <td>290.000000</td>\n",
              "      <td>5.200000e+02</td>\n",
              "      <td>1.000000</td>\n",
              "      <td>0.000000</td>\n",
              "      <td>0.000000</td>\n",
              "      <td>1.000000</td>\n",
              "      <td>1.000000</td>\n",
              "      <td>290.000000</td>\n",
              "      <td>0.000000</td>\n",
              "      <td>1900.000000</td>\n",
              "      <td>0.000000</td>\n",
              "      <td>98001.000000</td>\n",
              "      <td>47.155900</td>\n",
              "      <td>-122.519000</td>\n",
              "      <td>399.000000</td>\n",
              "      <td>651.000000</td>\n",
              "    </tr>\n",
              "    <tr>\n",
              "      <th>25%</th>\n",
              "      <td>2.123049e+09</td>\n",
              "      <td>3.219500e+05</td>\n",
              "      <td>3.000000</td>\n",
              "      <td>1.750000</td>\n",
              "      <td>1427.000000</td>\n",
              "      <td>5.040000e+03</td>\n",
              "      <td>1.000000</td>\n",
              "      <td>0.000000</td>\n",
              "      <td>0.000000</td>\n",
              "      <td>3.000000</td>\n",
              "      <td>7.000000</td>\n",
              "      <td>1190.000000</td>\n",
              "      <td>0.000000</td>\n",
              "      <td>1951.000000</td>\n",
              "      <td>0.000000</td>\n",
              "      <td>98033.000000</td>\n",
              "      <td>47.471000</td>\n",
              "      <td>-122.328000</td>\n",
              "      <td>1490.000000</td>\n",
              "      <td>5100.000000</td>\n",
              "    </tr>\n",
              "    <tr>\n",
              "      <th>50%</th>\n",
              "      <td>3.904930e+09</td>\n",
              "      <td>4.500000e+05</td>\n",
              "      <td>3.000000</td>\n",
              "      <td>2.250000</td>\n",
              "      <td>1910.000000</td>\n",
              "      <td>7.618000e+03</td>\n",
              "      <td>1.500000</td>\n",
              "      <td>0.000000</td>\n",
              "      <td>0.000000</td>\n",
              "      <td>3.000000</td>\n",
              "      <td>7.000000</td>\n",
              "      <td>1560.000000</td>\n",
              "      <td>0.000000</td>\n",
              "      <td>1975.000000</td>\n",
              "      <td>0.000000</td>\n",
              "      <td>98065.000000</td>\n",
              "      <td>47.571800</td>\n",
              "      <td>-122.230000</td>\n",
              "      <td>1840.000000</td>\n",
              "      <td>7620.000000</td>\n",
              "    </tr>\n",
              "    <tr>\n",
              "      <th>75%</th>\n",
              "      <td>7.308900e+09</td>\n",
              "      <td>6.450000e+05</td>\n",
              "      <td>4.000000</td>\n",
              "      <td>2.500000</td>\n",
              "      <td>2550.000000</td>\n",
              "      <td>1.068800e+04</td>\n",
              "      <td>2.000000</td>\n",
              "      <td>0.000000</td>\n",
              "      <td>0.000000</td>\n",
              "      <td>4.000000</td>\n",
              "      <td>8.000000</td>\n",
              "      <td>2210.000000</td>\n",
              "      <td>560.000000</td>\n",
              "      <td>1997.000000</td>\n",
              "      <td>0.000000</td>\n",
              "      <td>98118.000000</td>\n",
              "      <td>47.678000</td>\n",
              "      <td>-122.125000</td>\n",
              "      <td>2360.000000</td>\n",
              "      <td>10083.000000</td>\n",
              "    </tr>\n",
              "    <tr>\n",
              "      <th>max</th>\n",
              "      <td>9.900000e+09</td>\n",
              "      <td>7.700000e+06</td>\n",
              "      <td>33.000000</td>\n",
              "      <td>8.000000</td>\n",
              "      <td>13540.000000</td>\n",
              "      <td>1.651359e+06</td>\n",
              "      <td>3.500000</td>\n",
              "      <td>1.000000</td>\n",
              "      <td>4.000000</td>\n",
              "      <td>5.000000</td>\n",
              "      <td>13.000000</td>\n",
              "      <td>9410.000000</td>\n",
              "      <td>4820.000000</td>\n",
              "      <td>2015.000000</td>\n",
              "      <td>2015.000000</td>\n",
              "      <td>98199.000000</td>\n",
              "      <td>47.777600</td>\n",
              "      <td>-121.315000</td>\n",
              "      <td>6210.000000</td>\n",
              "      <td>871200.000000</td>\n",
              "    </tr>\n",
              "  </tbody>\n",
              "</table>\n",
              "</div>\n",
              "      <button class=\"colab-df-convert\" onclick=\"convertToInteractive('df-c46061a1-e8d8-4744-8d55-b99144595323')\"\n",
              "              title=\"Convert this dataframe to an interactive table.\"\n",
              "              style=\"display:none;\">\n",
              "        \n",
              "  <svg xmlns=\"http://www.w3.org/2000/svg\" height=\"24px\"viewBox=\"0 0 24 24\"\n",
              "       width=\"24px\">\n",
              "    <path d=\"M0 0h24v24H0V0z\" fill=\"none\"/>\n",
              "    <path d=\"M18.56 5.44l.94 2.06.94-2.06 2.06-.94-2.06-.94-.94-2.06-.94 2.06-2.06.94zm-11 1L8.5 8.5l.94-2.06 2.06-.94-2.06-.94L8.5 2.5l-.94 2.06-2.06.94zm10 10l.94 2.06.94-2.06 2.06-.94-2.06-.94-.94-2.06-.94 2.06-2.06.94z\"/><path d=\"M17.41 7.96l-1.37-1.37c-.4-.4-.92-.59-1.43-.59-.52 0-1.04.2-1.43.59L10.3 9.45l-7.72 7.72c-.78.78-.78 2.05 0 2.83L4 21.41c.39.39.9.59 1.41.59.51 0 1.02-.2 1.41-.59l7.78-7.78 2.81-2.81c.8-.78.8-2.07 0-2.86zM5.41 20L4 18.59l7.72-7.72 1.47 1.35L5.41 20z\"/>\n",
              "  </svg>\n",
              "      </button>\n",
              "      \n",
              "  <style>\n",
              "    .colab-df-container {\n",
              "      display:flex;\n",
              "      flex-wrap:wrap;\n",
              "      gap: 12px;\n",
              "    }\n",
              "\n",
              "    .colab-df-convert {\n",
              "      background-color: #E8F0FE;\n",
              "      border: none;\n",
              "      border-radius: 50%;\n",
              "      cursor: pointer;\n",
              "      display: none;\n",
              "      fill: #1967D2;\n",
              "      height: 32px;\n",
              "      padding: 0 0 0 0;\n",
              "      width: 32px;\n",
              "    }\n",
              "\n",
              "    .colab-df-convert:hover {\n",
              "      background-color: #E2EBFA;\n",
              "      box-shadow: 0px 1px 2px rgba(60, 64, 67, 0.3), 0px 1px 3px 1px rgba(60, 64, 67, 0.15);\n",
              "      fill: #174EA6;\n",
              "    }\n",
              "\n",
              "    [theme=dark] .colab-df-convert {\n",
              "      background-color: #3B4455;\n",
              "      fill: #D2E3FC;\n",
              "    }\n",
              "\n",
              "    [theme=dark] .colab-df-convert:hover {\n",
              "      background-color: #434B5C;\n",
              "      box-shadow: 0px 1px 3px 1px rgba(0, 0, 0, 0.15);\n",
              "      filter: drop-shadow(0px 1px 2px rgba(0, 0, 0, 0.3));\n",
              "      fill: #FFFFFF;\n",
              "    }\n",
              "  </style>\n",
              "\n",
              "      <script>\n",
              "        const buttonEl =\n",
              "          document.querySelector('#df-c46061a1-e8d8-4744-8d55-b99144595323 button.colab-df-convert');\n",
              "        buttonEl.style.display =\n",
              "          google.colab.kernel.accessAllowed ? 'block' : 'none';\n",
              "\n",
              "        async function convertToInteractive(key) {\n",
              "          const element = document.querySelector('#df-c46061a1-e8d8-4744-8d55-b99144595323');\n",
              "          const dataTable =\n",
              "            await google.colab.kernel.invokeFunction('convertToInteractive',\n",
              "                                                     [key], {});\n",
              "          if (!dataTable) return;\n",
              "\n",
              "          const docLinkHtml = 'Like what you see? Visit the ' +\n",
              "            '<a target=\"_blank\" href=https://colab.research.google.com/notebooks/data_table.ipynb>data table notebook</a>'\n",
              "            + ' to learn more about interactive tables.';\n",
              "          element.innerHTML = '';\n",
              "          dataTable['output_type'] = 'display_data';\n",
              "          await google.colab.output.renderOutput(dataTable, element);\n",
              "          const docLink = document.createElement('div');\n",
              "          docLink.innerHTML = docLinkHtml;\n",
              "          element.appendChild(docLink);\n",
              "        }\n",
              "      </script>\n",
              "    </div>\n",
              "  </div>\n",
              "  "
            ]
          },
          "metadata": {},
          "execution_count": 53
        }
      ]
    },
    {
      "cell_type": "code",
      "source": [
        "df.drop('id', axis = 1, inplace = True)\n",
        "df.drop('date', axis = 1, inplace = True)\n",
        "df.drop('zipcode', axis = 1, inplace = True)\n",
        "df.drop('lat', axis = 1, inplace = True)\n",
        "df.drop('long', axis = 1, inplace = True)\n"
      ],
      "metadata": {
        "id": "0KUD8T08qMmq"
      },
      "execution_count": 54,
      "outputs": []
    },
    {
      "cell_type": "code",
      "source": [
        "plt.figure(figsize=(12,8)) \n",
        "sns.heatmap(df.corr(), annot=True, cmap='Dark2_r', linewidths = 2)\n",
        "plt.show()"
      ],
      "metadata": {
        "id": "r-jk_nHmqKpp",
        "colab": {
          "base_uri": "https://localhost:8080/",
          "height": 551
        },
        "outputId": "c0dc2bec-34b5-4924-a1eb-b0b19c940a0a"
      },
      "execution_count": 55,
      "outputs": [
        {
          "output_type": "display_data",
          "data": {
            "text/plain": [
              "<Figure size 864x576 with 2 Axes>"
            ],
            "image/png": "[encoded data removed]"
          },
          "metadata": {
            "needs_background": "light"
          }
        }
      ]
    },
    {
      "cell_type": "code",
      "source": [
        "columns = df.columns.drop('price')\n",
        "\n",
        "features = columns\n",
        "label = ['price']\n",
        "\n",
        "X = df[features]\n",
        "y = df[label]"
      ],
      "metadata": {
        "id": "p4zqCnFwq7Oc"
      },
      "execution_count": 56,
      "outputs": []
    },
    {
      "cell_type": "code",
      "source": [
        "from sklearn.model_selection import train_test_split\n",
        "X_train, X_test, y_train, y_test = train_test_split(X, y, test_size = 0.1, random_state = 101)\n",
        "\n",
        "print(f'Numero total de registros en la bdd: {len(X)}')\n",
        "print(\"*****\"*10)\n",
        "print(f'Numero total de registros en el training set: {len(X_train)}')\n",
        "print(f'Tamaño de X_train: {X_train.shape}')\n",
        "print(\"*****\"*10)\n",
        "print(f'Mumero total de registros en el test dataset: {len(X_test)}')\n",
        "print(f'Tamaño del X_test: {X_test.shape}')"
      ],
      "metadata": {
        "id": "p91PEVPLq93-",
        "colab": {
          "base_uri": "https://localhost:8080/"
        },
        "outputId": "72d9cd6e-e8f3-45f8-debe-1bbe7ae9345b"
      },
      "execution_count": 57,
      "outputs": [
        {
          "output_type": "stream",
          "name": "stdout",
          "text": [
            "Numero total de registros en la bdd: 21613\n",
            "**************************************************\n",
            "Numero total de registros en el training set: 19451\n",
            "Tamaño de X_train: (19451, 15)\n",
            "**************************************************\n",
            "Mumero total de registros en el test dataset: 2162\n",
            "Tamaño del X_test: (2162, 15)\n"
          ]
        }
      ]
    },
    {
      "cell_type": "markdown",
      "source": [
        "##**1. Realiza la regresión múltiple lineal: modelo generado (ecuación), su visualización, sus errores y r cuadrada.**"
      ],
      "metadata": {
        "id": "guvvsSUnKLY1"
      }
    },
    {
      "cell_type": "code",
      "source": [
        "#Creamos nuestra regresión múltiple lineal\n",
        "linear_reg_mul = LinearRegression(fit_intercept=True)\n",
        "linear_reg_mul.fit(X_train, y_train)\n",
        "y_pred_mul=linear_reg_mul.predict(X_test)\n",
        "\n",
        "#Buscamos la pendiente \"a\" y el punto de intercepción \"b\"\n",
        "print(\"Pendientes: \", linear_reg_mul.coef_)\n",
        "print(\"Intercepción: \", linear_reg_mul.intercept_)"
      ],
      "metadata": {
        "id": "0faHrN8-rv9V",
        "colab": {
          "base_uri": "https://localhost:8080/"
        },
        "outputId": "27d73150-f59e-4930-abb5-f9b4d71bfbab"
      },
      "execution_count": 58,
      "outputs": [
        {
          "output_type": "stream",
          "name": "stdout",
          "text": [
            "Pendientes:  [[-3.82008048e+04  4.14661380e+04  1.07992584e+02  1.71356997e-02\n",
            "   3.16916913e+04  5.52691023e+05  4.12493228e+04  2.12221443e+04\n",
            "   1.19493216e+05  4.77750272e+01  6.02175566e+01 -3.55090216e+03\n",
            "   1.32602215e+01  2.90059284e+01 -5.48132603e-01]]\n",
            "Intercepción:  [6151359.26274124]\n"
          ]
        }
      ]
    },
    {
      "cell_type": "markdown",
      "source": [
        "Obtenemos la siguiente ecuación:\n",
        "\n",
        "y^ = 6151359.26 + -3.82+e04X₁ + 4.14+e04X₂ + 1.07+e02X₃ + 1.71e-02X₄ + 3.16e+04X₅ + 5.52e+05X₆ + 4.12e+04X₇ + 2.12e+04X₈ + 1.19e+05X₉ + 4.77e+01X₁₀ + 6.02e+01X₁₁ + -3.55e+03X₁₂ + 1.32e+01X₁₃ + 2.90e+01X₁₄ + -5.48e-01X₁₅\n",
        "\n",
        "Para tener un mejor panorama, vamos a graficarla."
      ],
      "metadata": {
        "id": "KcDq3BwgKjcB"
      }
    },
    {
      "cell_type": "code",
      "source": [
        "plt.scatter(y_test,y_pred_mul);\n",
        "plt.xlabel('Actual');\n",
        "plt.ylabel('Predicted');"
      ],
      "metadata": {
        "colab": {
          "base_uri": "https://localhost:8080/",
          "height": 290
        },
        "id": "ioRGz3IjKs_U",
        "outputId": "f93d8fb4-42b3-4d53-e33f-a28773820308"
      },
      "execution_count": 59,
      "outputs": [
        {
          "output_type": "display_data",
          "data": {
            "text/plain": [
              "<Figure size 432x288 with 1 Axes>"
            ],
            "image/png": "[encoded data removed]"
          },
          "metadata": {
            "needs_background": "light"
          }
        }
      ]
    },
    {
      "cell_type": "code",
      "source": [
        "print(\"-----------Precisión del modelo---------\")\n",
        "print(\"Entrenamiento:\", linear_reg_mul.score(X_train, y_train))\n",
        "print(\"Pruebas:\", linear_reg_mul.score(X_test, y_test))\n",
        "print(\"-----------Errores del modelo-----------\")\n",
        "print('Error medio Absoluto (MAE):', metrics.mean_absolute_error(y_test, y_pred_mul))\n",
        "print('Root Mean Squared Error:', np.sqrt(metrics.mean_squared_error(y_test, y_pred_mul)))\n",
        "print(\"-----------R squared--------------------\")\n",
        "print('r2_score',r2_score(y_test, y_pred_mul))"
      ],
      "metadata": {
        "colab": {
          "base_uri": "https://localhost:8080/"
        },
        "id": "1ok-db5IKz3R",
        "outputId": "404f39e6-74e4-443d-e97a-72bb817d6555"
      },
      "execution_count": 60,
      "outputs": [
        {
          "output_type": "stream",
          "name": "stdout",
          "text": [
            "-----------Precisión del modelo---------\n",
            "Entrenamiento: 0.6529196653133834\n",
            "Pruebas: 0.6579723205007892\n",
            "-----------Errores del modelo-----------\n",
            "Error medio Absoluto (MAE): 137480.13882733323\n",
            "Root Mean Squared Error: 232133.3676240722\n",
            "-----------R squared--------------------\n",
            "r2_score 0.6579723205007892\n"
          ]
        }
      ]
    },
    {
      "cell_type": "markdown",
      "source": [
        "###**2. Realiza la regresión múltiple polinomial completa, tu modelo generado (ecuación), su visualización, sus errores y r cuadrada.**"
      ],
      "metadata": {
        "id": "9qExpX_2Km7l"
      }
    },
    {
      "cell_type": "code",
      "source": [
        "#Generamos un modelo polinomial de segundo grado\n",
        "poly_features_mul = PolynomialFeatures(degree=2, include_bias=False)\n",
        "X_mipoly_mul = poly_features_mul.fit_transform(X_train)\n",
        "X_mipoly_mul_test = poly_features_mul.fit_transform(X_test)\n",
        "X_mipoly_mul"
      ],
      "metadata": {
        "colab": {
          "base_uri": "https://localhost:8080/"
        },
        "id": "1StvNxuXLBHJ",
        "outputId": "bc102036-5acc-43f0-d822-f89447531018"
      },
      "execution_count": 61,
      "outputs": [
        {
          "output_type": "execute_result",
          "data": {
            "text/plain": [
              "array([[5.00000000e+00, 2.75000000e+00, 3.75000000e+03, ...,\n",
              "        9.73440000e+06, 2.26356000e+07, 5.26350250e+07],\n",
              "       [4.00000000e+00, 4.50000000e+00, 5.25000000e+03, ...,\n",
              "        6.25000000e+06, 1.20880000e+08, 2.33791590e+09],\n",
              "       [3.00000000e+00, 2.50000000e+00, 2.88000000e+03, ...,\n",
              "        8.76160000e+06, 3.11214400e+07, 1.10544196e+08],\n",
              "       ...,\n",
              "       [3.00000000e+00, 2.25000000e+00, 1.78000000e+03, ...,\n",
              "        2.28010000e+06, 1.15137500e+07, 5.81406250e+07],\n",
              "       [2.00000000e+00, 1.00000000e+00, 1.15000000e+03, ...,\n",
              "        2.14036900e+06, 6.32016000e+06, 1.86624000e+07],\n",
              "       [3.00000000e+00, 1.00000000e+00, 1.45000000e+03, ...,\n",
              "        1.08160000e+06, 8.04960000e+06, 5.99076000e+07]])"
            ]
          },
          "metadata": {},
          "execution_count": 61
        }
      ]
    },
    {
      "cell_type": "code",
      "source": [
        "#Entrenamos el modelo\n",
        "lin_reg_poly_mul = LinearRegression(fit_intercept=True)\n",
        "lin_reg_poly_mul.fit(X_mipoly_mul, y_train)\n",
        "\n",
        "#Se construye la línea de ajuste\n",
        "y_pred_pol_mul = lin_reg_poly_mul.predict(X_mipoly_mul_test)\n",
        "\n",
        "#Buscamos la pendiente \"a\" y el punto de intercepción \"b\"\n",
        "print(\"Pendiente igual a\", lin_reg_poly_mul.coef_)\n",
        "print(\"Intercepción igual a\", lin_reg_poly_mul.intercept_)"
      ],
      "metadata": {
        "colab": {
          "base_uri": "https://localhost:8080/"
        },
        "id": "BIHS9-veLTHJ",
        "outputId": "33377aca-743d-4d6b-b6c1-8ffaa6b53bee"
      },
      "execution_count": 62,
      "outputs": [
        {
          "output_type": "stream",
          "name": "stdout",
          "text": [
            "Pendiente igual a [[ 9.33879687e+05 -1.09273860e+06 -5.37390428e+02 -2.78634102e+01\n",
            "  -2.07489950e+06 -3.95371495e+06 -2.88652531e+05  5.58519576e+05\n",
            "   1.09862983e+06 -1.38818478e+02 -3.01577501e+02 -8.59702783e+04\n",
            "  -2.95366775e+03  3.99963414e+03 -3.40100355e+01  9.57586804e+02\n",
            "   7.49940820e+03 -1.40076562e+01 -1.85239669e-02  8.58010319e+03\n",
            "  -1.14952153e+04 -3.08060610e+02 -5.24565914e+03 -5.36863409e+03\n",
            "  -9.99978948e-01 -1.43956003e+01 -4.67077597e+02 -9.13138297e+00\n",
            "   1.72800783e+01  2.15615872e-01 -9.63204388e+03  1.52795786e+01\n",
            "  -1.35647630e-01 -2.59102127e+04  4.33756643e+04  3.82989181e+03\n",
            "  -1.08068921e+03  2.22968388e+04  1.45391755e+01  1.44644985e+00\n",
            "   5.03114428e+02 -1.70846902e+01 -1.72874570e+01 -5.60714143e-02\n",
            "  -4.03248131e+00 -5.41426547e+00  4.83377617e+00  1.60300670e+02\n",
            "  -1.42705827e+01  1.31213999e+01  2.07436184e+01  5.09311380e+00\n",
            "   2.80584168e+00  6.59334209e-01 -1.80580810e-01 -9.38519281e-01\n",
            "   6.96385656e+00  3.06405127e-07  4.40874362e-01 -9.83935453e-02\n",
            "  -9.76023386e-02  9.17060789e-02  1.51920786e-01  5.41357941e+00\n",
            "   5.41380097e+00  1.37623206e-02 -1.48623047e-04  1.76970847e-04\n",
            "   1.05446088e-06  2.16084879e+04 -1.31316509e+05  1.44419135e+04\n",
            "   2.03066688e+04 -4.28051514e+03 -2.82146539e+00  7.66372446e+00\n",
            "   1.03706723e+03  2.60037824e+00 -3.20398654e+01 -5.28632878e-01\n",
            "  -3.95372069e+06 -1.60505686e+04  9.18976102e+03 -1.61632285e+05\n",
            "   1.83099642e+02 -2.27989775e+01  4.42770229e+03 -2.99231692e+01\n",
            "   1.70602916e+02 -8.13474803e-01  7.98454935e+03  7.34005182e+03\n",
            "   1.79554434e+04 -1.24964574e+01 -1.77355098e+00  7.20809273e+01\n",
            "  -9.96828331e+00  4.63380289e+00 -5.24446589e-02 -5.41622770e+02\n",
            "  -6.03810452e+03  1.15578943e+00  1.19518407e+01 -3.06986871e+02\n",
            "  -2.01987148e+01  4.63198810e+01 -2.76904479e-01  7.36626381e+03\n",
            "   9.59237369e+00  1.11305916e+01 -5.71979230e+02 -1.01342401e+01\n",
            "  -2.27557940e+01 -5.08573027e-01 -1.05529664e+00  2.01362205e-01\n",
            "  -4.19817468e-01  2.18757598e-01  9.36442828e-01 -6.96366584e+00\n",
            "   1.16488726e+00 -3.18549835e-01  2.25382131e-01  9.41684353e-01\n",
            "  -6.96437211e+00  2.30616074e+01  4.07044777e-01 -2.04694712e+00\n",
            "   1.88935639e-02  1.11629589e+00  4.71177258e-02  2.55181214e-04\n",
            "   3.31525255e-02  1.11029716e-04  2.35764310e-06]]\n",
            "Intercepción igual a [80234541.648391]\n"
          ]
        }
      ]
    },
    {
      "cell_type": "markdown",
      "source": [
        "Obtenemos la siguiente ecuación (Aproximada):\n",
        "\n",
        "y^ = 80227028.31 + 9.33e+05X₁ + -1.09e+06X₂ + -4.56e+02X₃ + -2.78e+01X₄ + -2.07e+06X₅ + -3.95e+06X₆ + -2.88e+05X₇ + ... + 2.35e-06X₁₃₅\n",
        "\n",
        "Para observarla mejor la graficamos"
      ],
      "metadata": {
        "id": "G51L1GwhLgc4"
      }
    },
    {
      "cell_type": "code",
      "source": [
        "plt.scatter(y_test,y_pred_pol_mul);\n",
        "plt.xlabel('Actual');\n",
        "plt.ylabel('Predicted');"
      ],
      "metadata": {
        "colab": {
          "base_uri": "https://localhost:8080/",
          "height": 290
        },
        "id": "0aroKocfLu78",
        "outputId": "eb4be360-bb23-4016-cebd-58eeae99be75"
      },
      "execution_count": 64,
      "outputs": [
        {
          "output_type": "display_data",
          "data": {
            "text/plain": [
              "<Figure size 432x288 with 1 Axes>"
            ],
            "image/png": "[encoded data removed]"
          },
          "metadata": {
            "needs_background": "light"
          }
        }
      ]
    },
    {
      "cell_type": "code",
      "source": [
        "print(\"-----------Precisión del modelo---------\")\n",
        "print(\"Entrenamiento:\", lin_reg_poly_mul.score(X_mipoly_mul, y_train))\n",
        "print(\"Pruebas:\", lin_reg_poly_mul.score(X_mipoly_mul_test, y_test))\n",
        "print(\"-----------Errores del modelo-----------\")\n",
        "print('Error medio Absoluto (MAE):', metrics.mean_absolute_error(y_test, y_pred_pol_mul))\n",
        "print('Root Mean Squared Error:', np.sqrt(metrics.mean_squared_error(y_test, y_pred_pol_mul)))\n",
        "print(\"-----------R squared--------------------\")\n",
        "print('r2_score',r2_score(y_test, y_pred_pol_mul))"
      ],
      "metadata": {
        "colab": {
          "base_uri": "https://localhost:8080/"
        },
        "id": "Ig8hfvtKL12o",
        "outputId": "ed314da4-8411-4bde-b8f6-3ab9f924959b"
      },
      "execution_count": 65,
      "outputs": [
        {
          "output_type": "stream",
          "name": "stdout",
          "text": [
            "-----------Precisión del modelo---------\n",
            "Entrenamiento: 0.7469519315774406\n",
            "Pruebas: 0.7797924413783968\n",
            "-----------Errores del modelo-----------\n",
            "Error medio Absoluto (MAE): 121313.84710967973\n",
            "Root Mean Squared Error: 186261.48278206724\n",
            "-----------R squared--------------------\n",
            "r2_score 0.7797924413783968\n"
          ]
        }
      ]
    },
    {
      "cell_type": "markdown",
      "source": [
        "##**3. Realiza la regresión con Ridge y Lasso. Incluye la ecuación de tu modelo, visualización , errores y r cuadrada.**"
      ],
      "metadata": {
        "id": "PtVKC1rUMsIv"
      }
    },
    {
      "cell_type": "markdown",
      "source": [
        "###**3.1 Modelo RIGDE**"
      ],
      "metadata": {
        "id": "sQI8O85gMwHW"
      }
    },
    {
      "cell_type": "code",
      "source": [
        "#Creamos nuestro modelo ridge\n",
        "Mod_Ridge_Mul = Ridge(alpha=0.1, solver=\"cholesky\")\n",
        "Regresion_Ridge_Mul = Mod_Ridge_Mul.fit(X_train, np.ravel(y_train))\n",
        "y_pred_ridge_mul = Regresion_Ridge_Mul.predict(X_test)\n",
        "  \n",
        "#Buscamos la pendiente \"a\" y el punto de intercepción \"b\"\n",
        "print(\"Pendiente igual a\", Regresion_Ridge_Mul.coef_)\n",
        "print(\"Intercepción igual a\", Regresion_Ridge_Mul.intercept_)"
      ],
      "metadata": {
        "colab": {
          "base_uri": "https://localhost:8080/"
        },
        "id": "n7xAEqEgM1zf",
        "outputId": "75cc727e-c6e7-4bb2-f5f9-67eba62a08b2"
      },
      "execution_count": 66,
      "outputs": [
        {
          "output_type": "stream",
          "name": "stdout",
          "text": [
            "Pendiente igual a [-3.82026624e+04  4.14646154e+04  1.07992971e+02  1.71151609e-02\n",
            "  3.16914389e+04  5.52244513e+05  4.12701376e+04  2.12225788e+04\n",
            "  1.19490943e+05  4.77799723e+01  6.02182067e+01 -3.55086188e+03\n",
            "  1.32659578e+01  2.90038360e+01 -5.48119073e-01]\n",
            "Intercepción igual a 6151298.168406068\n"
          ]
        }
      ]
    },
    {
      "cell_type": "markdown",
      "source": [
        "Obtenemos la siguiente ecuación:\n",
        "\n",
        "**y^ = 6151298.16 + -3.82+e04X₁ + 4.14+e04X₂ + 1.07+e02X₃ + 1.71e-02X₄ + 3.16e+04X₅ + 5.52e+05X₆ + 4.12e+04X₇ + 2.12e+04X₈ + 1.19e+05X₉ + 4.77e+01X₁₀ + 6.02e+01X₁₁ + -3.55e+03X₁₂ + 1.32e+01X₁₃ + 2.90e+01X₁₄ + -5.48e-01X₁₅**\n",
        "\n",
        "Para observarla mejor graficamos"
      ],
      "metadata": {
        "id": "QOZKMm3PNBdf"
      }
    },
    {
      "cell_type": "code",
      "source": [
        "plt.scatter(y_test,y_pred_ridge_mul);\n",
        "plt.xlabel('Actual');\n",
        "plt.ylabel('Predicted');"
      ],
      "metadata": {
        "colab": {
          "base_uri": "https://localhost:8080/",
          "height": 290
        },
        "id": "DDP499a5Llll",
        "outputId": "f709ca6a-03f6-4b22-b07a-c95608252a3a"
      },
      "execution_count": 67,
      "outputs": [
        {
          "output_type": "display_data",
          "data": {
            "text/plain": [
              "<Figure size 432x288 with 1 Axes>"
            ],
            "image/png": "[encoded data removed]"
          },
          "metadata": {
            "needs_background": "light"
          }
        }
      ]
    },
    {
      "cell_type": "code",
      "source": [
        "print(\"-----------Precisión del modelo---------\")\n",
        "print(\"Entrenamiento:\", Mod_Ridge_Mul.score(X_train, y_train))\n",
        "print(\"Pruebas:\", Mod_Ridge_Mul.score(X_test, y_test))\n",
        "print(\"-----------Errores del modelo-----------\")\n",
        "print('Error medio Absoluto (MAE):', metrics.mean_absolute_error(y_test, y_pred_ridge_mul))\n",
        "print('Root Mean Squared Error:', np.sqrt(metrics.mean_squared_error(y_test, y_pred_ridge_mul)))\n",
        "print(\"-----------R squared--------------------\")\n",
        "print('r2_score',r2_score(y_test, y_pred_ridge_mul))"
      ],
      "metadata": {
        "colab": {
          "base_uri": "https://localhost:8080/"
        },
        "id": "qTEH3slENMQe",
        "outputId": "a06f9546-84ab-4bdc-dfaa-f40b156133a2"
      },
      "execution_count": 68,
      "outputs": [
        {
          "output_type": "stream",
          "name": "stdout",
          "text": [
            "-----------Precisión del modelo---------\n",
            "Entrenamiento: 0.6529196557498437\n",
            "Pruebas: 0.6579629179036364\n",
            "-----------Errores del modelo-----------\n",
            "Error medio Absoluto (MAE): 137481.23714210742\n",
            "Root Mean Squared Error: 232136.5583622373\n",
            "-----------R squared--------------------\n",
            "r2_score 0.6579629179036364\n"
          ]
        }
      ]
    },
    {
      "cell_type": "markdown",
      "source": [
        "###**3.2 Modelo LASSO**"
      ],
      "metadata": {
        "id": "DpkkFUOPNWT1"
      }
    },
    {
      "cell_type": "code",
      "source": [
        "#Creamos nuestro modelo lasso\n",
        "Mod_Lasso_Mul = Lasso(alpha=30)\n",
        "Regresion_Lasso_Mul = Mod_Lasso_Mul.fit(X_train, np.ravel(y_train))\n",
        "y_pred_lasso_Mul = Regresion_Lasso_Mul.predict(X_test)\n",
        "  \n",
        "#Buscamos la pendiente \"a\" y el punto de intercepción \"b\"\n",
        "print(\"Pendiente igual a\", Regresion_Lasso_Mul.coef_)\n",
        "print(\"Intercepción igual a\", Regresion_Lasso_Mul.intercept_)"
      ],
      "metadata": {
        "colab": {
          "base_uri": "https://localhost:8080/"
        },
        "id": "cgQRX1qzNccc",
        "outputId": "8ee96205-2116-46de-8737-da9995f0aa2d"
      },
      "execution_count": 69,
      "outputs": [
        {
          "output_type": "stream",
          "name": "stdout",
          "text": [
            "Pendiente igual a [-3.81626952e+04  4.13377006e+04  2.93429446e+02  1.69101741e-02\n",
            "  3.15551853e+04  5.48193558e+05  4.14186023e+04  2.11395225e+04\n",
            "  1.19451859e+05 -1.37521709e+02 -1.25162539e+02 -3.54933897e+03\n",
            "  1.33389557e+01  2.89879703e+01 -5.48236758e-01]\n",
            "Intercepción igual a 6148984.797520088\n"
          ]
        },
        {
          "output_type": "stream",
          "name": "stderr",
          "text": [
            "/usr/local/lib/python3.7/dist-packages/sklearn/linear_model/_coordinate_descent.py:648: ConvergenceWarning: Objective did not converge. You might want to increase the number of iterations, check the scale of the features or consider increasing regularisation. Duality gap: 4.057e+14, tolerance: 2.572e+11\n",
            "  coef_, l1_reg, l2_reg, X, y, max_iter, tol, rng, random, positive\n"
          ]
        }
      ]
    },
    {
      "cell_type": "markdown",
      "source": [
        "Obtenemos la siguiente ecuación:\n",
        "\n",
        "**y^ = 6148984.79 + -3.81+e04X₁ + 4.13+e04X₂ + 2.93+e02X₃ + 1.69e-02X₄ + 3.15e+04X₅ + 5.48e+05X₆ + 4.14e+04X₇ + 2.11e+04X₈ + 1.19e+05X₉ + 1.37e+02X₁₀ + 1.25e+02X₁₁ + -3.54e+03X₁₂ + 1.33e+01X₁₃ + 2.89e+01X₁₄ + -5.48e-01X₁₅**\n",
        "\n",
        "Para observarla mejor graficamos"
      ],
      "metadata": {
        "id": "DUf64VxKNi-p"
      }
    },
    {
      "cell_type": "code",
      "source": [
        "plt.scatter(y_test,y_pred_lasso_Mul);\n",
        "plt.xlabel('Actual');\n",
        "plt.ylabel('Predicted');"
      ],
      "metadata": {
        "colab": {
          "base_uri": "https://localhost:8080/",
          "height": 290
        },
        "id": "MYvr9KllNqM0",
        "outputId": "9e063304-59e3-4da7-9fb9-c27f028972aa"
      },
      "execution_count": 70,
      "outputs": [
        {
          "output_type": "display_data",
          "data": {
            "text/plain": [
              "<Figure size 432x288 with 1 Axes>"
            ],
            "image/png": "[encoded data removed]"
          },
          "metadata": {
            "needs_background": "light"
          }
        }
      ]
    },
    {
      "cell_type": "code",
      "source": [
        "print(\"-----------Precisión del modelo---------\")\n",
        "print(\"Entrenamiento:\", Regresion_Lasso_Mul.score(X_train, y_train))\n",
        "print(\"Pruebas:\", Regresion_Lasso_Mul.score(X_test, y_test))\n",
        "print(\"-----------Errores del modelo-----------\")\n",
        "print('Error medio Absoluto (MAE):', metrics.mean_absolute_error(y_test, y_pred_lasso_Mul))\n",
        "print('Root Mean Squared Error:', np.sqrt(metrics.mean_squared_error(y_test, y_pred_lasso_Mul)))\n",
        "print(\"-----------R squared--------------------\")\n",
        "print('r2_score',r2_score(y_test, y_pred_lasso_Mul))"
      ],
      "metadata": {
        "colab": {
          "base_uri": "https://localhost:8080/"
        },
        "id": "h4jTT3wMNuSW",
        "outputId": "6636caae-2db8-4378-9100-34a6ed1927bd"
      },
      "execution_count": 71,
      "outputs": [
        {
          "output_type": "stream",
          "name": "stdout",
          "text": [
            "-----------Precisión del modelo---------\n",
            "Entrenamiento: 0.6529185861760567\n",
            "Pruebas: 0.6578690543568153\n",
            "-----------Errores del modelo-----------\n",
            "Error medio Absoluto (MAE): 137493.1204730804\n",
            "Root Mean Squared Error: 232168.40822178076\n",
            "-----------R squared--------------------\n",
            "r2_score 0.6578690543568153\n"
          ]
        }
      ]
    },
    {
      "cell_type": "markdown",
      "source": [
        "**4. Finalmente grafica:**\n",
        "* MAE (de los cuatro métodos)\n",
        "* R2 (de los cuatro métodos)"
      ],
      "metadata": {
        "id": "0-ZDjuOvN82i"
      }
    },
    {
      "cell_type": "markdown",
      "source": [
        "###**4.1 MAE**"
      ],
      "metadata": {
        "id": "-1ZMoR0lOFw0"
      }
    },
    {
      "cell_type": "code",
      "source": [
        "#Creamos un diccionario para almacenar nuestros modelos\n",
        "data_MAE_Mul = {'REGRESSION_MUL': [metrics.mean_absolute_error(y_test, y_pred_mul)],\n",
        "        'POLYNOMIAL_MUL': metrics.mean_absolute_error(y_test, y_pred_pol_mul),\n",
        "        'RIDGE_MUL': [metrics.mean_absolute_error(y_test, y_pred_ridge_mul)],\n",
        "        'LASSO_MUL': metrics.mean_absolute_error(y_test, y_pred_lasso_Mul)}\n",
        "\n",
        "#Organizamos nuestros datos\n",
        "errores_MAE_Mul = list(data_MAE_Mul.keys())\n",
        "values_MAE_Mul = list(data_MAE_Mul.values())\n",
        "fig = plt.figure(figsize = (10, 5))\n",
        " \n",
        "#Creamos nuestro grafico\n",
        "plt.bar(errores_MAE_Mul, values_MAE_Mul, color ='green', width = 0.4)\n",
        "\n",
        "print(\"----Resultados de MAE----\")\n",
        "print(data_MAE_Mul)\n",
        "print(\"-------------------------\")\n",
        "\n",
        "#Graficamos\n",
        "plt.xlabel(\"Modelos\")\n",
        "plt.ylabel(\"Mean Absolute Error\")\n",
        "plt.title(\"MAE por modelo\")\n",
        "plt.show()"
      ],
      "metadata": {
        "colab": {
          "base_uri": "https://localhost:8080/",
          "height": 458
        },
        "id": "NWPvvwxCOJaX",
        "outputId": "5e805e79-9b79-4731-a2f4-c89f0e668f5a"
      },
      "execution_count": 73,
      "outputs": [
        {
          "output_type": "stream",
          "name": "stdout",
          "text": [
            "----Resultados de MAE----\n",
            "{'REGRESSION_MUL': [137480.13882733323], 'POLYNOMIAL_MUL': 121313.84710967973, 'RIDGE_MUL': [137481.23714210742], 'LASSO_MUL': 137493.1204730804}\n",
            "-------------------------\n"
          ]
        },
        {
          "output_type": "stream",
          "name": "stderr",
          "text": [
            "/usr/local/lib/python3.7/dist-packages/numpy/lib/stride_tricks.py:536: VisibleDeprecationWarning: Creating an ndarray from ragged nested sequences (which is a list-or-tuple of lists-or-tuples-or ndarrays with different lengths or shapes) is deprecated. If you meant to do this, you must specify 'dtype=object' when creating the ndarray.\n",
            "  args = [np.array(_m, copy=False, subok=subok) for _m in args]\n"
          ]
        },
        {
          "output_type": "display_data",
          "data": {
            "text/plain": [
              "<Figure size 720x360 with 1 Axes>"
            ],
            "image/png": "[encoded data removed]"
          },
          "metadata": {
            "needs_background": "light"
          }
        }
      ]
    },
    {
      "cell_type": "markdown",
      "source": [
        "###**4.2 Rsquared**"
      ],
      "metadata": {
        "id": "uTo4lci4Oi_V"
      }
    },
    {
      "cell_type": "code",
      "source": [
        "#Creamos un diccionario para almacenar nuestros modelos\n",
        "data_R2_MUL = {'REGRESSION_MUL_R2': np.sqrt(metrics.mean_squared_error(y_test, y_pred_mul)),\n",
        "        'POLYNOMIAL_MUL_R2': np.sqrt(metrics.mean_squared_error(y_test, y_pred_pol_mul)),\n",
        "        'RIDGE_MUL_R2': np.sqrt(metrics.mean_squared_error(y_test, y_pred_ridge_mul)),\n",
        "        'LASSO_MUL_R2':np.sqrt(metrics.mean_squared_error(y_test, y_pred_lasso_Mul))}\n",
        "\n",
        "#Organizamos nuestros datos\n",
        "errores_R2_MUL = list(data_R2_MUL.keys())\n",
        "values_R2_MUL = list(data_R2_MUL.values())\n",
        "fig = plt.figure(figsize = (10, 5))\n",
        " \n",
        "#Creamos nuestro grafico\n",
        "plt.bar(errores_R2_MUL, values_R2_MUL, color ='orange', width = 0.4)\n",
        "\n",
        "print(\"----Resultados de R2----\")\n",
        "print(data_R2_MUL)\n",
        "print(\"------------------------\")\n",
        "\n",
        "#Visualizamos el bar plot\n",
        "plt.xlabel(\"Modelos\")\n",
        "plt.ylabel(\"R-squared Error\")\n",
        "plt.title(\"R-squared por modelo\")\n",
        "plt.show()"
      ],
      "metadata": {
        "colab": {
          "base_uri": "https://localhost:8080/",
          "height": 403
        },
        "id": "9GFIYFxbOss5",
        "outputId": "2d8ddb66-d1fc-4aad-ecf8-ada6eab63292"
      },
      "execution_count": 74,
      "outputs": [
        {
          "output_type": "stream",
          "name": "stdout",
          "text": [
            "----Resultados de R2----\n",
            "{'REGRESSION_MUL_R2': 232133.3676240722, 'POLYNOMIAL_MUL_R2': 186261.48278206724, 'RIDGE_MUL_R2': 232136.5583622373, 'LASSO_MUL_R2': 232168.40822178076}\n",
            "------------------------\n"
          ]
        },
        {
          "output_type": "display_data",
          "data": {
            "text/plain": [
              "<Figure size 720x360 with 1 Axes>"
            ],
            "image/png": "[encoded data removed]"
          },
          "metadata": {
            "needs_background": "light"
          }
        }
      ]
    },
    {
      "cell_type": "markdown",
      "source": [
        "##**5. Explica tus resultados, que método se aproxima mejor, ¿por que?, ¿que porcentajes de entrenamiento y evaluación? ¿que error tienes?, ¿es bueno?, ¿cómo lo sabes?**"
      ],
      "metadata": {
        "id": "IVD2lm00PGzC"
      }
    },
    {
      "cell_type": "markdown",
      "source": [
        "Para este caso los resultados son bastante parejos, pero el que más se aproxima es el polinomial de nuevo, debido a que presenta menor valor de error, con unos resultados de Entrenamiento: 0.74 y Pruebas: 0.77, sin estar ni sub ni sobre entrenado, ofreciendo buenas predicciones."
      ],
      "metadata": {
        "id": "YsMEyIgIPKVw"
      }
    },
    {
      "cell_type": "markdown",
      "source": [
        "## **6. Explica tus resultados, que método conviene más a la empresa, ¿por que?, ¿que porcentajes de entrenamiento y evaluación?, ¿que error tienes?, ¿es bueno?, ¿cómo lo sabes?**"
      ],
      "metadata": {
        "id": "AyEvuddsPvhQ"
      }
    },
    {
      "cell_type": "markdown",
      "source": [
        "* Este ejercicio es muy similar al anterior y de nuevo podemos observar que el mejor desempeño lo tiene el modelo polinomial, con un buen desempeño respecto los datos de validación y permitiendo su aprendizaje con nuevos datos y generando buenas predicciones al momento de probar con datos de prueba. \n",
        "\n",
        "Si quisieramos hablar de los resultados obtenidos en las métricas obtuvimos los siguientes valores:\n",
        "* MAE: 121314\n",
        "* Rquared: 186261.2\n",
        "\n",
        "Esto comparado con los otros modelos es más bajo y por lo tanto es un buen indicador para irnos por este modelo. \n",
        "\n"
      ],
      "metadata": {
        "id": "RfXdymhVPz8w"
      }
    },
    {
      "cell_type": "markdown",
      "source": [
        "##**7. Agrega las conclusiones**"
      ],
      "metadata": {
        "id": "T2PZD5pEQqNM"
      }
    },
    {
      "cell_type": "markdown",
      "source": [
        "* Este ejercicio permitio profundizar mucho más respecto a los modelos lineales y polinomiales, brindando una amplia perspectiva de su entrenamiento y comparación con otros modelos y sus respectivos métricas de errores.\n",
        "* En cuanto a los resultados obtenidos en ambos ejercicios predomino el modelo polinomial sobre Rigde y Lasso, en cuanto a sus errores MAE y R2, y también en su precisión, ya que teniamos la ventaja que nuestros datos podian aproximarse a una curva de grado 2.\n",
        "* Siempre debemos tener en cuenta antes de irnos por algun modelo primero realizar la comparativa con otros que consideremos puedan arrojarnos resultados similares, y teniendo en cuenta las métricas que utilicemos para medir el desempeño y sus errores, irnos por el que mejor resultado nos ofrezca, garantizando que no caigamos ni en el sub ni sobre entrenamiento. \n",
        "* Adicionalmente es importante comenzar a mentalizarnos en como vamos a compartir estos hallazgos con una empresa, utilizando un lenguaje no tan tecnico, sino evidenciando los aspectos positivos de elegir una u otra alternativa, por lo tanto es importante saber explicar nuestros graficos y de manera muy clara que impacto tiene utilizar un modelo vs el otro. \n",
        "* Por ultimo y es importante tenerlo en cuenta, a la empresa debemos comunicarle de una manera muy clara que nuestro modelo puede tener cierto porcentaje de error, no es perfecto y debemos empezar a identificar cuando una predicción no puede ser del todo cierta, permitiendonos realizar ajustes si se trata de un intervalo de valores o con ciertos datos en especifico para garantizar que las decisiones sean tomadas apropiadamente.\n",
        "\n"
      ],
      "metadata": {
        "id": "C2aMh58wQtmQ"
      }
    }
  ]
}